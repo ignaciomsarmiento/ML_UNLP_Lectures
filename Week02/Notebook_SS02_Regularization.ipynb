{
 "cells": [
  {
   "cell_type": "markdown",
   "id": "a952ad54-2218-4382-b2eb-d401d349f764",
   "metadata": {},
   "source": [
    "<div >\n",
    "    <img src = \"../banner/banner_ML_UNLP_1900_200.png\" />\n",
    "</div>"
   ]
  },
  {
   "cell_type": "markdown",
   "id": "96eb7275",
   "metadata": {},
   "source": [
    "<a target=\"_blank\" href=\"https://colab.research.google.com/github/ignaciomsarmiento/BDML_202302/blob/main/Lecture04/Notebook_SS04_Ridge.ipynb\">\n",
    "  <img src=\"https://colab.research.google.com/assets/colab-badge.svg\" alt=\"Open In Colab\"/>\n",
    "</a>\n"
   ]
  },
  {
   "cell_type": "markdown",
   "id": "f7e57de4",
   "metadata": {},
   "source": [
    "\n",
    "# Regularization: Ridge"
   ]
  },
  {
   "cell_type": "markdown",
   "id": "303a3dcd",
   "metadata": {},
   "source": [
    "## Predicting Wages\n",
    "\n",
    "Our objective today is to construct a model of individual wages\n",
    "\n",
    "$$\n",
    "w = f(X) + u \n",
    "$$\n",
    "\n",
    "where w is the  wage, and X is a matrix that includes potential explanatory variables/predictors. In this problem set, we will focus on a linear model of the form\n",
    "\n",
    "\\begin{align}\n",
    " ln(w) & = \\beta_0 + \\beta_1 X_1 + \\dots + \\beta_p X_p  + u \n",
    "\\end{align}"
   ]
  },
  {
   "cell_type": "markdown",
   "id": "312ba2f4",
   "metadata": {},
   "source": [
    "were $ln(w)$ is the logarithm of the wage.\n"
   ]
  },
  {
   "cell_type": "markdown",
   "id": "2fdab5a6",
   "metadata": {},
   "source": [
    "Let's load the modules:"
   ]
  },
  {
   "cell_type": "code",
   "execution_count": 1,
   "id": "5452f521",
   "metadata": {},
   "outputs": [],
   "source": [
    "import numpy as np\n",
    "import pandas as pd\n",
    "import matplotlib.pyplot as plt"
   ]
  },
  {
   "cell_type": "markdown",
   "id": "7a85f424",
   "metadata": {},
   "source": [
    "and the data set that is a sample of the NLSY97. The NLSY97 is  a nationally representative sample of 8,984 men and women born during the years 1980 through 1984 and living in the United States at the time of the initial survey in 1997.  Participants were ages 12 to 16 as of December 31, 1996.  Interviews were conducted annually from 1997 to 2011 and biennially since then.  "
   ]
  },
  {
   "cell_type": "code",
   "execution_count": 2,
   "id": "6979f85e",
   "metadata": {},
   "outputs": [],
   "source": [
    "nlsy=pd.read_csv('https://raw.githubusercontent.com/ignaciomsarmiento/datasets/main/nlsy97.csv')"
   ]
  },
  {
   "cell_type": "code",
   "execution_count": 3,
   "id": "3e94ec2b-ab94-4ec8-8512-e370d2f22a56",
   "metadata": {
    "tags": [
     "remove_cell"
    ]
   },
   "outputs": [],
   "source": [
    "X1 = nlsy[[ \"educ\", \"exp\", \"afqt\", \"mom_educ\", \"dad_educ\"]]\n",
    "X2=nlsy.drop(columns=['lnw_2016'])\n",
    "y=nlsy['lnw_2016']"
   ]
  },
  {
   "cell_type": "markdown",
   "id": "49d73d77",
   "metadata": {},
   "source": [
    "We want to construct a model that predicts well out of sample, and we have potentially 994 regressors. We are going to regularize this regression using Ridge.\n",
    "\n",
    "## Ridge\n",
    "\n",
    "We first illustrate ridge regression, which can be fit using `sklearn` and seeks to minimize\n",
    "\n",
    "$$\n",
    "\\sum_{i=1}^{n} \\left( y_i - \\beta_0 - \\sum_{j=1}^{p} \\beta_j x_{ij}    \\right) ^ 2 + \\lambda \\sum_{j=1}^{p} \\beta_j^2 .\n",
    "$$\n",
    "\n",
    "Notice that the intercept is not penalized. \n",
    "\n",
    "\n",
    "Ridge penalizes the squares  of the coefficients. As a result, ridge shrinks coefficients toward zero, but not all the way.\n"
   ]
  },
  {
   "cell_type": "code",
   "execution_count": 4,
   "id": "55ff1681",
   "metadata": {},
   "outputs": [],
   "source": [
    "from sklearn.linear_model import Ridge, RidgeCV, Lasso, LassoCV"
   ]
  },
  {
   "cell_type": "code",
   "execution_count": 5,
   "id": "e907b38b",
   "metadata": {},
   "outputs": [],
   "source": [
    "?Ridge"
   ]
  },
  {
   "cell_type": "markdown",
   "id": "0b5df971",
   "metadata": {},
   "source": [
    "The Ridge() function has an alpha argument (λ, but with a different name!) that is used to tune the model."
   ]
  },
  {
   "cell_type": "markdown",
   "id": "3e2b42d3",
   "metadata": {},
   "source": [
    "Let's run the ridge regression (we need to set the parameter `alpha` to zero)"
   ]
  },
  {
   "cell_type": "code",
   "execution_count": 6,
   "id": "7876f0c1",
   "metadata": {},
   "outputs": [
    {
     "data": {
      "text/html": [
       "<style>#sk-container-id-1 {color: black;background-color: white;}#sk-container-id-1 pre{padding: 0;}#sk-container-id-1 div.sk-toggleable {background-color: white;}#sk-container-id-1 label.sk-toggleable__label {cursor: pointer;display: block;width: 100%;margin-bottom: 0;padding: 0.3em;box-sizing: border-box;text-align: center;}#sk-container-id-1 label.sk-toggleable__label-arrow:before {content: \"▸\";float: left;margin-right: 0.25em;color: #696969;}#sk-container-id-1 label.sk-toggleable__label-arrow:hover:before {color: black;}#sk-container-id-1 div.sk-estimator:hover label.sk-toggleable__label-arrow:before {color: black;}#sk-container-id-1 div.sk-toggleable__content {max-height: 0;max-width: 0;overflow: hidden;text-align: left;background-color: #f0f8ff;}#sk-container-id-1 div.sk-toggleable__content pre {margin: 0.2em;color: black;border-radius: 0.25em;background-color: #f0f8ff;}#sk-container-id-1 input.sk-toggleable__control:checked~div.sk-toggleable__content {max-height: 200px;max-width: 100%;overflow: auto;}#sk-container-id-1 input.sk-toggleable__control:checked~label.sk-toggleable__label-arrow:before {content: \"▾\";}#sk-container-id-1 div.sk-estimator input.sk-toggleable__control:checked~label.sk-toggleable__label {background-color: #d4ebff;}#sk-container-id-1 div.sk-label input.sk-toggleable__control:checked~label.sk-toggleable__label {background-color: #d4ebff;}#sk-container-id-1 input.sk-hidden--visually {border: 0;clip: rect(1px 1px 1px 1px);clip: rect(1px, 1px, 1px, 1px);height: 1px;margin: -1px;overflow: hidden;padding: 0;position: absolute;width: 1px;}#sk-container-id-1 div.sk-estimator {font-family: monospace;background-color: #f0f8ff;border: 1px dotted black;border-radius: 0.25em;box-sizing: border-box;margin-bottom: 0.5em;}#sk-container-id-1 div.sk-estimator:hover {background-color: #d4ebff;}#sk-container-id-1 div.sk-parallel-item::after {content: \"\";width: 100%;border-bottom: 1px solid gray;flex-grow: 1;}#sk-container-id-1 div.sk-label:hover label.sk-toggleable__label {background-color: #d4ebff;}#sk-container-id-1 div.sk-serial::before {content: \"\";position: absolute;border-left: 1px solid gray;box-sizing: border-box;top: 0;bottom: 0;left: 50%;z-index: 0;}#sk-container-id-1 div.sk-serial {display: flex;flex-direction: column;align-items: center;background-color: white;padding-right: 0.2em;padding-left: 0.2em;position: relative;}#sk-container-id-1 div.sk-item {position: relative;z-index: 1;}#sk-container-id-1 div.sk-parallel {display: flex;align-items: stretch;justify-content: center;background-color: white;position: relative;}#sk-container-id-1 div.sk-item::before, #sk-container-id-1 div.sk-parallel-item::before {content: \"\";position: absolute;border-left: 1px solid gray;box-sizing: border-box;top: 0;bottom: 0;left: 50%;z-index: -1;}#sk-container-id-1 div.sk-parallel-item {display: flex;flex-direction: column;z-index: 1;position: relative;background-color: white;}#sk-container-id-1 div.sk-parallel-item:first-child::after {align-self: flex-end;width: 50%;}#sk-container-id-1 div.sk-parallel-item:last-child::after {align-self: flex-start;width: 50%;}#sk-container-id-1 div.sk-parallel-item:only-child::after {width: 0;}#sk-container-id-1 div.sk-dashed-wrapped {border: 1px dashed gray;margin: 0 0.4em 0.5em 0.4em;box-sizing: border-box;padding-bottom: 0.4em;background-color: white;}#sk-container-id-1 div.sk-label label {font-family: monospace;font-weight: bold;display: inline-block;line-height: 1.2em;}#sk-container-id-1 div.sk-label-container {text-align: center;}#sk-container-id-1 div.sk-container {/* jupyter's `normalize.less` sets `[hidden] { display: none; }` but bootstrap.min.css set `[hidden] { display: none !important; }` so we also need the `!important` here to be able to override the default hidden behavior on the sphinx rendered scikit-learn.org. See: https://github.com/scikit-learn/scikit-learn/issues/21755 */display: inline-block !important;position: relative;}#sk-container-id-1 div.sk-text-repr-fallback {display: none;}</style><div id=\"sk-container-id-1\" class=\"sk-top-container\"><div class=\"sk-text-repr-fallback\"><pre>Ridge(alpha=0)</pre><b>In a Jupyter environment, please rerun this cell to show the HTML representation or trust the notebook. <br />On GitHub, the HTML representation is unable to render, please try loading this page with nbviewer.org.</b></div><div class=\"sk-container\" hidden><div class=\"sk-item\"><div class=\"sk-estimator sk-toggleable\"><input class=\"sk-toggleable__control sk-hidden--visually\" id=\"sk-estimator-id-1\" type=\"checkbox\" checked><label for=\"sk-estimator-id-1\" class=\"sk-toggleable__label sk-toggleable__label-arrow\">Ridge</label><div class=\"sk-toggleable__content\"><pre>Ridge(alpha=0)</pre></div></div></div></div></div>"
      ],
      "text/plain": [
       "Ridge(alpha=0)"
      ]
     },
     "execution_count": 6,
     "metadata": {},
     "output_type": "execute_result"
    }
   ],
   "source": [
    "ridge = Ridge(alpha = 0)\n",
    "\n",
    "ridge.fit(X1, y)"
   ]
  },
  {
   "cell_type": "code",
   "execution_count": 7,
   "id": "985467aa",
   "metadata": {},
   "outputs": [
    {
     "data": {
      "text/plain": [
       "array([7.98008598e-02, 3.32567085e-02, 4.84669044e-02, 9.17712877e-03,\n",
       "       9.03319966e-05])"
      ]
     },
     "execution_count": 7,
     "metadata": {},
     "output_type": "execute_result"
    }
   ],
   "source": [
    "ridge.coef_"
   ]
  },
  {
   "cell_type": "code",
   "execution_count": 8,
   "id": "4630a534",
   "metadata": {},
   "outputs": [
    {
     "data": {
      "text/plain": [
       "array([7.98008598e-02, 3.32567085e-02, 4.84669044e-02, 9.17712877e-03,\n",
       "       9.03319966e-05])"
      ]
     },
     "execution_count": 8,
     "metadata": {},
     "output_type": "execute_result"
    }
   ],
   "source": [
    "from sklearn import linear_model\n",
    "lm=linear_model.LinearRegression().fit(X1,y)\n",
    "lm.coef_"
   ]
  },
  {
   "cell_type": "code",
   "execution_count": 9,
   "id": "2d8a4bbd",
   "metadata": {},
   "outputs": [
    {
     "data": {
      "text/plain": [
       "array([7.97450280e-02, 3.32102240e-02, 4.84649393e-02, 9.17731111e-03,\n",
       "       9.54727049e-05])"
      ]
     },
     "execution_count": 9,
     "metadata": {},
     "output_type": "execute_result"
    }
   ],
   "source": [
    "ridge = Ridge(alpha = 1)\n",
    "\n",
    "ridge.fit(X1, y)\n",
    "\n",
    "ridge.coef_"
   ]
  },
  {
   "cell_type": "markdown",
   "id": "237fef4f",
   "metadata": {},
   "source": [
    " We'll generate an array of alpha values ranging from very big to very small, essentially covering the full range of scenarios from the null model containing only the intercept, to the least squares fit:"
   ]
  },
  {
   "cell_type": "code",
   "execution_count": 10,
   "id": "83da937e",
   "metadata": {},
   "outputs": [
    {
     "data": {
      "text/plain": [
       "array([5.00000000e+09, 3.78231664e+09, 2.86118383e+09, 2.16438064e+09,\n",
       "       1.63727458e+09, 1.23853818e+09, 9.36908711e+08, 7.08737081e+08,\n",
       "       5.36133611e+08, 4.05565415e+08, 3.06795364e+08, 2.32079442e+08,\n",
       "       1.75559587e+08, 1.32804389e+08, 1.00461650e+08, 7.59955541e+07,\n",
       "       5.74878498e+07, 4.34874501e+07, 3.28966612e+07, 2.48851178e+07,\n",
       "       1.88246790e+07, 1.42401793e+07, 1.07721735e+07, 8.14875417e+06,\n",
       "       6.16423370e+06, 4.66301673e+06, 3.52740116e+06, 2.66834962e+06,\n",
       "       2.01850863e+06, 1.52692775e+06, 1.15506485e+06, 8.73764200e+05,\n",
       "       6.60970574e+05, 5.00000000e+05, 3.78231664e+05, 2.86118383e+05,\n",
       "       2.16438064e+05, 1.63727458e+05, 1.23853818e+05, 9.36908711e+04,\n",
       "       7.08737081e+04, 5.36133611e+04, 4.05565415e+04, 3.06795364e+04,\n",
       "       2.32079442e+04, 1.75559587e+04, 1.32804389e+04, 1.00461650e+04,\n",
       "       7.59955541e+03, 5.74878498e+03, 4.34874501e+03, 3.28966612e+03,\n",
       "       2.48851178e+03, 1.88246790e+03, 1.42401793e+03, 1.07721735e+03,\n",
       "       8.14875417e+02, 6.16423370e+02, 4.66301673e+02, 3.52740116e+02,\n",
       "       2.66834962e+02, 2.01850863e+02, 1.52692775e+02, 1.15506485e+02,\n",
       "       8.73764200e+01, 6.60970574e+01, 5.00000000e+01, 3.78231664e+01,\n",
       "       2.86118383e+01, 2.16438064e+01, 1.63727458e+01, 1.23853818e+01,\n",
       "       9.36908711e+00, 7.08737081e+00, 5.36133611e+00, 4.05565415e+00,\n",
       "       3.06795364e+00, 2.32079442e+00, 1.75559587e+00, 1.32804389e+00,\n",
       "       1.00461650e+00, 7.59955541e-01, 5.74878498e-01, 4.34874501e-01,\n",
       "       3.28966612e-01, 2.48851178e-01, 1.88246790e-01, 1.42401793e-01,\n",
       "       1.07721735e-01, 8.14875417e-02, 6.16423370e-02, 4.66301673e-02,\n",
       "       3.52740116e-02, 2.66834962e-02, 2.01850863e-02, 1.52692775e-02,\n",
       "       1.15506485e-02, 8.73764200e-03, 6.60970574e-03, 5.00000000e-03])"
      ]
     },
     "execution_count": 10,
     "metadata": {},
     "output_type": "execute_result"
    }
   ],
   "source": [
    "alphas = 10**np.linspace(10,-2,100)*0.5\n",
    "alphas"
   ]
  },
  {
   "cell_type": "markdown",
   "id": "1dc4c2b1",
   "metadata": {},
   "source": [
    "Associated with each alpha value is a vector of ridge regression coefficients, which we'll store in a matrix coefs. In this case, it is a 5×100 matrix, with 19 rows (one for each predictor) and 100 columns (one for each value of alpha). Remember that we'll want to standardize the variables so that they are on the same scale. To do this, we can use the normalize = True parameter:"
   ]
  },
  {
   "cell_type": "code",
   "execution_count": 11,
   "id": "12c5e4bb",
   "metadata": {},
   "outputs": [
    {
     "data": {
      "text/plain": [
       "(100, 5)"
      ]
     },
     "execution_count": 11,
     "metadata": {},
     "output_type": "execute_result"
    }
   ],
   "source": [
    "ridge = Ridge()\n",
    "coefs = []\n",
    "\n",
    "for a in alphas:\n",
    "    ridge.set_params(alpha = a)\n",
    "    ridge.fit(X1, y)\n",
    "    coefs.append(ridge.coef_)\n",
    "    \n",
    "np.shape(coefs)\n"
   ]
  },
  {
   "cell_type": "markdown",
   "id": "46568ae7",
   "metadata": {},
   "source": [
    "Let's see how  how much the coefficients are penalized for different values of $\\lambda$. Notice none of the coefficients are forced to be zero, although they get close to it."
   ]
  },
  {
   "cell_type": "code",
   "execution_count": 13,
   "id": "33d7f73c",
   "metadata": {},
   "outputs": [
    {
     "data": {
      "text/plain": [
       "Text(0, 0.5, 'Coefs')"
      ]
     },
     "execution_count": 13,
     "metadata": {},
     "output_type": "execute_result"
    },
    {
     "data": {
      "image/png": "[encoded data removed]",
      "text/plain": [
       "<Figure size 640x480 with 1 Axes>"
      ]
     },
     "metadata": {},
     "output_type": "display_data"
    }
   ],
   "source": [
    "ax = plt.gca()\n",
    "ax.plot(alphas, coefs)\n",
    "ax.set_xscale('log')\n",
    "plt.axis('tight')\n",
    "plt.xlabel('alpha/lambda')\n",
    "plt.ylabel('Coefs')"
   ]
  },
  {
   "cell_type": "markdown",
   "id": "a84285ef",
   "metadata": {},
   "source": [
    "#### All the predictors"
   ]
  },
  {
   "cell_type": "code",
   "execution_count": 14,
   "id": "f6bc55f3",
   "metadata": {},
   "outputs": [
    {
     "data": {
      "text/plain": [
       "Text(0, 0.5, 'Coefs')"
      ]
     },
     "execution_count": 14,
     "metadata": {},
     "output_type": "execute_result"
    },
    {
     "data": {
      "image/png": "[encoded data removed]",
      "text/plain": [
       "<Figure size 640x480 with 1 Axes>"
      ]
     },
     "metadata": {},
     "output_type": "display_data"
    }
   ],
   "source": [
    "ridge = Ridge()\n",
    "coefs = []\n",
    "\n",
    "for a in alphas:\n",
    "    ridge.set_params(alpha = a)\n",
    "    ridge.fit(X2, y)\n",
    "    coefs.append(ridge.coef_)\n",
    "    \n",
    "ax = plt.gca()\n",
    "ax.plot(alphas, coefs)\n",
    "ax.set_xscale('log')\n",
    "plt.axis('tight')\n",
    "plt.xlabel('alpha/lambda')\n",
    "plt.ylabel('Coefs')"
   ]
  },
  {
   "cell_type": "markdown",
   "id": "ca82f59e",
   "metadata": {},
   "source": [
    "## Penalty selection"
   ]
  },
  {
   "cell_type": "markdown",
   "id": "baaa078d",
   "metadata": {},
   "source": [
    "Instead of arbitrarily choosing , it would be better to use cross-validation to choose the tuning parameter alpha. We can do this using the cross-validated ridge regression function, RidgeCV()."
   ]
  },
  {
   "cell_type": "code",
   "execution_count": 15,
   "id": "6ad989ed",
   "metadata": {},
   "outputs": [
    {
     "data": {
      "text/plain": [
       "1882.4679033962318"
      ]
     },
     "execution_count": 15,
     "metadata": {},
     "output_type": "execute_result"
    }
   ],
   "source": [
    "ridgecv = RidgeCV(alphas = alphas, scoring = 'neg_mean_squared_error')\n",
    "ridgecv.fit(X2, y)\n",
    "ridgecv.alpha_"
   ]
  },
  {
   "cell_type": "code",
   "execution_count": 16,
   "id": "84307874",
   "metadata": {},
   "outputs": [
    {
     "data": {
      "text/html": [
       "<style>#sk-container-id-2 {color: black;background-color: white;}#sk-container-id-2 pre{padding: 0;}#sk-container-id-2 div.sk-toggleable {background-color: white;}#sk-container-id-2 label.sk-toggleable__label {cursor: pointer;display: block;width: 100%;margin-bottom: 0;padding: 0.3em;box-sizing: border-box;text-align: center;}#sk-container-id-2 label.sk-toggleable__label-arrow:before {content: \"▸\";float: left;margin-right: 0.25em;color: #696969;}#sk-container-id-2 label.sk-toggleable__label-arrow:hover:before {color: black;}#sk-container-id-2 div.sk-estimator:hover label.sk-toggleable__label-arrow:before {color: black;}#sk-container-id-2 div.sk-toggleable__content {max-height: 0;max-width: 0;overflow: hidden;text-align: left;background-color: #f0f8ff;}#sk-container-id-2 div.sk-toggleable__content pre {margin: 0.2em;color: black;border-radius: 0.25em;background-color: #f0f8ff;}#sk-container-id-2 input.sk-toggleable__control:checked~div.sk-toggleable__content {max-height: 200px;max-width: 100%;overflow: auto;}#sk-container-id-2 input.sk-toggleable__control:checked~label.sk-toggleable__label-arrow:before {content: \"▾\";}#sk-container-id-2 div.sk-estimator input.sk-toggleable__control:checked~label.sk-toggleable__label {background-color: #d4ebff;}#sk-container-id-2 div.sk-label input.sk-toggleable__control:checked~label.sk-toggleable__label {background-color: #d4ebff;}#sk-container-id-2 input.sk-hidden--visually {border: 0;clip: rect(1px 1px 1px 1px);clip: rect(1px, 1px, 1px, 1px);height: 1px;margin: -1px;overflow: hidden;padding: 0;position: absolute;width: 1px;}#sk-container-id-2 div.sk-estimator {font-family: monospace;background-color: #f0f8ff;border: 1px dotted black;border-radius: 0.25em;box-sizing: border-box;margin-bottom: 0.5em;}#sk-container-id-2 div.sk-estimator:hover {background-color: #d4ebff;}#sk-container-id-2 div.sk-parallel-item::after {content: \"\";width: 100%;border-bottom: 1px solid gray;flex-grow: 1;}#sk-container-id-2 div.sk-label:hover label.sk-toggleable__label {background-color: #d4ebff;}#sk-container-id-2 div.sk-serial::before {content: \"\";position: absolute;border-left: 1px solid gray;box-sizing: border-box;top: 0;bottom: 0;left: 50%;z-index: 0;}#sk-container-id-2 div.sk-serial {display: flex;flex-direction: column;align-items: center;background-color: white;padding-right: 0.2em;padding-left: 0.2em;position: relative;}#sk-container-id-2 div.sk-item {position: relative;z-index: 1;}#sk-container-id-2 div.sk-parallel {display: flex;align-items: stretch;justify-content: center;background-color: white;position: relative;}#sk-container-id-2 div.sk-item::before, #sk-container-id-2 div.sk-parallel-item::before {content: \"\";position: absolute;border-left: 1px solid gray;box-sizing: border-box;top: 0;bottom: 0;left: 50%;z-index: -1;}#sk-container-id-2 div.sk-parallel-item {display: flex;flex-direction: column;z-index: 1;position: relative;background-color: white;}#sk-container-id-2 div.sk-parallel-item:first-child::after {align-self: flex-end;width: 50%;}#sk-container-id-2 div.sk-parallel-item:last-child::after {align-self: flex-start;width: 50%;}#sk-container-id-2 div.sk-parallel-item:only-child::after {width: 0;}#sk-container-id-2 div.sk-dashed-wrapped {border: 1px dashed gray;margin: 0 0.4em 0.5em 0.4em;box-sizing: border-box;padding-bottom: 0.4em;background-color: white;}#sk-container-id-2 div.sk-label label {font-family: monospace;font-weight: bold;display: inline-block;line-height: 1.2em;}#sk-container-id-2 div.sk-label-container {text-align: center;}#sk-container-id-2 div.sk-container {/* jupyter's `normalize.less` sets `[hidden] { display: none; }` but bootstrap.min.css set `[hidden] { display: none !important; }` so we also need the `!important` here to be able to override the default hidden behavior on the sphinx rendered scikit-learn.org. See: https://github.com/scikit-learn/scikit-learn/issues/21755 */display: inline-block !important;position: relative;}#sk-container-id-2 div.sk-text-repr-fallback {display: none;}</style><div id=\"sk-container-id-2\" class=\"sk-top-container\"><div class=\"sk-text-repr-fallback\"><pre>Ridge(alpha=1882.4679033962318)</pre><b>In a Jupyter environment, please rerun this cell to show the HTML representation or trust the notebook. <br />On GitHub, the HTML representation is unable to render, please try loading this page with nbviewer.org.</b></div><div class=\"sk-container\" hidden><div class=\"sk-item\"><div class=\"sk-estimator sk-toggleable\"><input class=\"sk-toggleable__control sk-hidden--visually\" id=\"sk-estimator-id-2\" type=\"checkbox\" checked><label for=\"sk-estimator-id-2\" class=\"sk-toggleable__label sk-toggleable__label-arrow\">Ridge</label><div class=\"sk-toggleable__content\"><pre>Ridge(alpha=1882.4679033962318)</pre></div></div></div></div></div>"
      ],
      "text/plain": [
       "Ridge(alpha=1882.4679033962318)"
      ]
     },
     "execution_count": 16,
     "metadata": {},
     "output_type": "execute_result"
    }
   ],
   "source": [
    "ridge_cv_star = Ridge(alpha = ridgecv.alpha_)\n",
    "ridge_cv_star.fit(X2, y)"
   ]
  },
  {
   "cell_type": "code",
   "execution_count": 17,
   "id": "356e6e86",
   "metadata": {},
   "outputs": [
    {
     "data": {
      "text/plain": [
       "array([ 1.93377016e-02, -1.48915021e-02,  6.40653643e-03, -1.64740942e-03,\n",
       "       -2.31034633e-02,  3.37955289e-02,  1.65902244e-04,  2.30782582e-03,\n",
       "       -9.78443629e-03,  1.14556520e-02,  3.51430558e-03, -1.46527975e-05,\n",
       "        1.42967904e-02,  4.08374930e-03,  4.89496134e-04, -1.93620117e-03,\n",
       "        1.37614976e-02,  3.94149534e-03,  0.00000000e+00,  0.00000000e+00,\n",
       "        0.00000000e+00,  0.00000000e+00, -7.63600542e-03, -1.45267904e-02,\n",
       "        1.35462187e-03, -4.61906576e-04,  4.47112504e-03, -5.08300592e-03,\n",
       "        6.75115803e-03,  1.64621911e-04,  5.29140335e-03, -4.60230012e-03,\n",
       "        2.86406944e-03,  2.89576433e-03, -1.09547845e-04, -3.12610945e-03,\n",
       "       -1.26482983e-03,  0.00000000e+00, -3.90679173e-03, -2.05266879e-02,\n",
       "       -8.24849882e-03, -4.21239361e-03,  5.88382746e-03,  1.27100773e-02,\n",
       "        9.81623144e-03, -2.52681343e-02,  1.87246508e-03,  4.44854363e-03,\n",
       "        2.22173834e-03, -5.31961372e-03,  5.75795812e-04,  1.99056273e-03,\n",
       "       -7.22303819e-03, -1.67127393e-03,  1.09596283e-02,  3.77033290e-03,\n",
       "        5.81789316e-04,  2.59501281e-03,  9.20170621e-03,  8.58995031e-03,\n",
       "        6.17851762e-03, -1.38334194e-02, -3.78931638e-03, -3.38252228e-03,\n",
       "        4.08384728e-03,  6.20444434e-03, -9.12242726e-04,  1.11022999e-03,\n",
       "       -1.90633162e-03,  1.52472229e-03, -2.60010758e-03,  1.56001091e-03,\n",
       "       -5.64819005e-03,  0.00000000e+00, -1.14144394e-02, -9.93393044e-03,\n",
       "       -5.05789807e-03, -6.88894403e-04,  4.11141633e-03, -1.38841308e-03,\n",
       "       -1.82705780e-05, -1.19653032e-05,  6.85492448e-03,  4.32869575e-03,\n",
       "       -6.32330186e-03, -7.66237415e-03, -6.89447197e-03, -3.65478616e-03,\n",
       "        1.44100288e-02, -1.39443362e-02,  1.69940006e-03, -1.51540061e-03,\n",
       "        1.30947885e-02,  4.01627063e-03,  1.40808262e-02, -7.66049429e-05,\n",
       "        6.41645008e-05, -3.24496380e-04, -1.87260683e-04,  0.00000000e+00,\n",
       "       -7.75660882e-03, -1.06489304e-03, -5.94537686e-03, -1.11325840e-03,\n",
       "        6.09474582e-03, -6.75829516e-04, -6.75829516e-04, -6.75829516e-04,\n",
       "       -5.25714490e-03, -6.31541414e-03, -4.29542014e-03, -2.27542614e-03,\n",
       "       -2.27542614e-03, -2.27542614e-03, -2.27542614e-03, -2.27542614e-03,\n",
       "       -2.27542614e-03, -3.61612099e-03, -3.88425996e-03, -5.15131271e-03,\n",
       "       -5.89823831e-03, -1.37374944e-02, -1.33763000e-02,  6.92109099e-04,\n",
       "       -1.33911277e-02,  3.59992262e-03,  5.24420782e-04, -1.47921762e-03,\n",
       "        3.06127557e-03, -3.16849256e-04, -6.28043086e-03,  3.89567233e-03,\n",
       "       -8.17758314e-04, -9.17614372e-03,  3.36820856e-03, -1.79754049e-04,\n",
       "       -1.06287829e-04, -6.16692090e-04, -1.00167402e-03,  2.25256896e-03,\n",
       "        5.58718714e-03,  0.00000000e+00,  3.16846190e-04, -1.06287829e-04,\n",
       "       -7.57771438e-04, -2.18498767e-03,  1.64336041e-03, -3.92540825e-03,\n",
       "       -1.79556222e-03, -3.61695550e-03,  1.93702741e-04,  7.23017381e-04,\n",
       "       -4.22695746e-03, -5.33708171e-03,  6.26952846e-03,  4.59565360e-03,\n",
       "       -1.06287829e-04, -3.78392544e-03, -4.09601024e-04,  9.50005965e-04,\n",
       "        2.10121415e-05,  3.48259185e-04,  0.00000000e+00, -3.99721109e-04,\n",
       "       -4.76638617e-04,  4.05261968e-04, -6.43317302e-04, -4.97572227e-05,\n",
       "        1.36076172e-04,  0.00000000e+00,  5.48567295e-04, -1.37517440e-04,\n",
       "        5.34498820e-04, -3.45384394e-04,  1.77171568e-03, -1.93462979e-03,\n",
       "        8.18411150e-05,  6.45144754e-04, -5.44385721e-04, -1.33302057e-04,\n",
       "        4.27561376e-04, -6.14350433e-04,  1.62168624e-03,  1.96145356e-04,\n",
       "        4.15713606e-04, -1.46970402e-03, -3.69255759e-05,  1.20853465e-04,\n",
       "        4.63229186e-04, -2.29723437e-05, -2.85139250e-03,  9.41792617e-04,\n",
       "       -1.45462637e-04,  1.16715717e-04, -8.29349906e-04, -2.73872451e-03,\n",
       "        1.23155329e-04,  1.70807960e-04,  4.77462770e-04,  1.28731233e-04,\n",
       "       -1.39654063e-03, -2.02628435e-05,  1.77665429e-03, -2.30495251e-04,\n",
       "        2.42645443e-03, -1.74479119e-03,  6.28292082e-06, -8.77951865e-04,\n",
       "       -9.18822299e-04,  9.78575844e-04, -2.83798434e-03, -1.43852536e-04,\n",
       "        3.62077769e-04, -4.03296363e-04, -8.29666521e-04,  1.88636836e-03,\n",
       "       -7.13691237e-05, -8.26594608e-04, -1.03862293e-04,  5.47938175e-04,\n",
       "       -9.54572286e-04, -1.14046292e-03,  6.63147106e-04, -7.45155038e-05,\n",
       "        9.62983496e-04, -1.07739478e-04,  3.12865455e-04, -1.30639176e-03,\n",
       "       -7.13477780e-04,  4.01028981e-03, -3.41705369e-04,  8.30801669e-04,\n",
       "       -1.82346295e-04,  4.00131358e-03, -2.93248013e-04,  2.39354858e-04,\n",
       "       -5.09215614e-04,  1.00974886e-04,  1.05689846e-03,  1.10774123e-05,\n",
       "       -8.77560261e-04,  2.23958621e-04,  6.53181191e-04,  1.40729136e-03,\n",
       "       -2.36438680e-03,  1.06427449e-03,  6.15548079e-04, -1.61139126e-04,\n",
       "       -2.67159590e-04,  0.00000000e+00, -6.52355762e-04,  9.05926609e-04,\n",
       "        5.19989559e-04,  6.96781264e-03,  7.74541792e-04, -1.85329955e-03,\n",
       "        5.64614355e-04,  0.00000000e+00,  1.01739688e-03, -1.51932522e-04,\n",
       "       -2.30462342e-03, -1.47454430e-04,  1.38167871e-04,  2.50555794e-04,\n",
       "       -2.57734021e-03, -1.46022202e-06, -6.59117074e-05,  2.37222327e-04,\n",
       "        1.49534901e-03, -2.56345340e-05,  3.34326949e-04, -3.43827062e-04,\n",
       "       -3.19609281e-05,  1.36142175e-03,  2.61646920e-04,  3.85847266e-04,\n",
       "        1.45558776e-04, -3.99415683e-04,  8.45133865e-06, -3.31712399e-04,\n",
       "       -2.65300312e-04, -1.47241952e-03,  0.00000000e+00, -1.51010825e-04,\n",
       "       -2.08470335e-03, -2.06725357e-04,  8.32286420e-04, -4.27273452e-04,\n",
       "       -2.82806247e-05, -9.77379938e-05,  6.66091514e-04, -2.90113992e-04,\n",
       "       -5.08107525e-04, -3.75966795e-04, -1.62260069e-05,  0.00000000e+00,\n",
       "        0.00000000e+00, -8.56277639e-04, -3.35132320e-04, -4.76501707e-04,\n",
       "       -2.74662899e-04,  3.27790538e-05,  0.00000000e+00, -7.02732755e-04,\n",
       "       -1.84177578e-04, -8.32660163e-04, -6.08236997e-04, -2.64298247e-04,\n",
       "        3.38653638e-04, -3.00579985e-04, -2.81208486e-04, -1.01051259e-03,\n",
       "        0.00000000e+00, -3.46625454e-03, -1.01051259e-03,  6.19251932e-04,\n",
       "       -8.12983752e-04, -1.01051259e-03, -1.89958986e-02,  3.55694832e-03,\n",
       "       -3.33639805e-05, -7.33768094e-05, -1.01051259e-03, -1.84207297e-04,\n",
       "       -6.08173888e-03, -1.01051259e-03,  6.91757791e-03, -1.01051259e-03,\n",
       "       -2.71717446e-04, -1.01051259e-03, -3.46026103e-03, -1.01051259e-03,\n",
       "       -1.44703754e-03, -1.01051259e-03,  5.15965586e-03,  0.00000000e+00,\n",
       "       -8.22730067e-03,  9.30441019e-03, -8.37149657e-04, -1.05795372e-04,\n",
       "       -4.88079316e-03,  5.44600934e-03, -2.19460947e-04,  0.00000000e+00,\n",
       "        1.26352933e-02, -9.99740807e-03, -2.39792536e-03,  0.00000000e+00,\n",
       "        5.27560798e-03, -5.32214043e-03,  2.86492311e-04, -9.60965878e-04,\n",
       "       -2.04172647e-03, -2.02334305e-03,  4.34613095e-03, -2.04172647e-03,\n",
       "        0.00000000e+00, -1.39133973e-04, -1.54670726e-04,  1.07518776e-04,\n",
       "       -1.42691081e-04, -3.96131638e-04,  2.18136177e-03,  3.95655425e-03,\n",
       "        6.42938311e-03, -2.25558592e-03,  1.61912910e-03, -4.40809186e-03,\n",
       "       -2.44842325e-04,  1.88515529e-07, -1.34069484e-04, -1.38256440e-04,\n",
       "       -4.34859267e-03,  2.59532027e-03,  3.86119130e-03, -2.00913894e-03,\n",
       "        9.54882518e-03, -3.80715647e-03, -5.32346893e-03,  0.00000000e+00,\n",
       "       -1.38256440e-04,  1.83674365e-03, -2.76185588e-03, -2.66681204e-03,\n",
       "       -4.66070495e-03,  8.83838689e-03, -2.02847412e-04, -3.91735091e-06,\n",
       "       -2.37767973e-03,  2.06623585e-03, -2.18356440e-03, -4.94711514e-03,\n",
       "        1.28172820e-03, -4.90863064e-03,  8.69774348e-04, -9.52774423e-04,\n",
       "        3.42001106e-03, -1.14050505e-03,  2.33691958e-03,  3.87897691e-04,\n",
       "        6.02771720e-04,  1.96639225e-03, -1.22187938e-04,  7.21256046e-05,\n",
       "       -7.01616166e-04, -1.79913699e-04,  2.27147800e-04,  3.52229075e-04,\n",
       "        4.72950609e-04,  2.00312753e-04,  2.38380014e-03,  4.69153969e-04,\n",
       "        7.33662064e-04,  1.86697059e-04,  0.00000000e+00,  0.00000000e+00,\n",
       "       -2.24761901e-04, -4.12734621e-04,  0.00000000e+00,  0.00000000e+00,\n",
       "       -3.64574790e-04, -1.42547189e-04, -5.00210558e-05,  0.00000000e+00,\n",
       "       -7.71099063e-04,  3.22012624e-04,  1.46045416e-04, -3.60862862e-05,\n",
       "       -1.35106081e-03,  1.48388811e-04, -7.34976792e-03, -3.60862862e-05,\n",
       "        5.17166659e-03,  1.04193933e-03, -5.46775763e-03, -1.03177464e-03,\n",
       "       -4.47712330e-04,  6.55649174e-05, -2.13273201e-03, -2.75619209e-03,\n",
       "        1.03383067e-02, -5.38924784e-03, -3.60862862e-05,  1.62479650e-03,\n",
       "       -2.39472072e-03, -2.01871103e-03,  2.50270892e-03, -3.02547709e-04,\n",
       "       -3.60862862e-05, -3.61749120e-03,  2.48051589e-03,  1.09483689e-03,\n",
       "       -1.51763102e-03,  3.09882635e-04,  2.02479458e-03, -1.17333844e-03,\n",
       "       -1.38045279e-03,  2.06990024e-03, -6.99838571e-03,  6.04750708e-03,\n",
       "       -4.50226972e-04,  5.22176759e-03, -5.68732673e-03, -6.14845158e-04,\n",
       "        1.25683325e-04,  0.00000000e+00, -3.60862862e-05, -9.71592431e-03,\n",
       "        3.99293912e-03,  9.22092512e-04,  9.52126930e-04, -1.06151706e-04,\n",
       "       -2.94647244e-04,  6.50360572e-05,  4.21303186e-04, -4.74076246e-04,\n",
       "       -3.36269242e-04, -1.74342727e-04,  5.58008471e-03,  5.51297944e-03,\n",
       "       -3.73622289e-03, -3.30322294e-03,  0.00000000e+00,  1.60484548e-06,\n",
       "        9.33394621e-04,  8.31021937e-04,  8.54818824e-04, -1.28222574e-03,\n",
       "       -1.12044682e-03, -3.60991968e-04, -2.36696809e-03,  2.12221999e-03,\n",
       "        1.53691066e-03,  2.66399228e-03,  2.26899682e-03,  2.72212273e-03,\n",
       "        1.98730551e-03,  2.69623665e-03, -4.35767470e-03, -1.09169608e-04,\n",
       "       -8.18064168e-03,  5.63005714e-05,  3.77830063e-05, -2.23487748e-03,\n",
       "        1.65523686e-04,  1.57891930e-03,  1.83371714e-03,  1.47477940e-03,\n",
       "       -9.92262952e-05, -6.36128973e-04, -9.06139135e-04,  2.80729157e-03,\n",
       "       -1.19306300e-02,  1.42997246e-03,  3.58916039e-03,  3.59551144e-03,\n",
       "       -1.35656009e-03,  4.88642265e-03, -6.69800537e-03, -6.98694550e-05,\n",
       "       -1.19257628e-04, -5.36487510e-03,  2.11074510e-03,  9.48806738e-03,\n",
       "       -3.15356952e-03,  2.42385401e-03, -3.73536387e-03, -1.15230271e-03,\n",
       "       -3.76595428e-04,  0.00000000e+00, -1.23872929e-04, -8.62708603e-04,\n",
       "       -4.42909329e-03,  4.00048406e-03, -8.92024858e-04, -1.34594979e-03,\n",
       "        3.70399819e-03, -8.25871540e-04,  1.00057724e-03, -6.10951469e-04,\n",
       "        4.14390813e-04, -2.04727703e-04,  1.01849616e-03,  4.27056165e-04,\n",
       "       -1.95114744e-05, -1.30976804e-03,  0.00000000e+00,  1.25725469e-03,\n",
       "        3.66495799e-03, -1.11644379e-03, -1.30976804e-03, -7.66636974e-05,\n",
       "        1.24942326e-03,  3.88931613e-03, -3.17830613e-03, -1.30976804e-03,\n",
       "        0.00000000e+00,  2.74143276e-03,  5.44340272e-03,  3.97963032e-03,\n",
       "       -1.30976804e-03,  0.00000000e+00,  1.24579291e-02, -1.19957955e-03,\n",
       "        2.39643359e-04, -5.29140335e-03,  1.45935700e-03, -1.68358612e-03,\n",
       "       -2.86406944e-03,  2.89576433e-03, -1.09547845e-04,  2.24897033e-03,\n",
       "       -2.68753989e-03, -1.93888935e-04,  0.00000000e+00,  1.59227633e-04,\n",
       "       -1.21237073e-03,  9.93962530e-04,  9.22478219e-05, -1.77272030e-04,\n",
       "        3.61124719e-05,  3.90679173e-03, -3.04944458e-04,  1.45935700e-03,\n",
       "       -1.68358612e-03, -3.04944458e-04, -2.55912499e-03, -3.04944458e-04,\n",
       "        4.67972205e-03, -3.04944458e-04,  2.72573379e-04, -1.58687380e-03,\n",
       "       -3.04944458e-04, -1.09547845e-04, -3.04944458e-04,  2.24897033e-03,\n",
       "       -2.68753989e-03, -3.04944458e-04, -3.04944458e-04,  4.42977433e-03,\n",
       "       -1.01051259e-03,  3.09019919e-04,  1.39793298e-03, -9.42059276e-04,\n",
       "        1.07271712e-03, -5.34882548e-03,  6.08773839e-04, -4.58752794e-04,\n",
       "       -6.53940569e-05,  3.01220526e-04,  3.46166250e-04, -2.80868430e-04,\n",
       "       -1.01051259e-03,  3.03199200e-04,  9.18442635e-05,  1.40698467e-03,\n",
       "        1.93756894e-03, -6.07309586e-03, -6.86770650e-04, -6.53940569e-05,\n",
       "        1.71816238e-04,  1.22586381e-04, -1.01051259e-03,  3.09019919e-04,\n",
       "       -7.56410947e-04, -4.25585488e-03, -2.42252361e-05,  3.68775474e-03,\n",
       "       -1.80861703e-03, -4.58752794e-04, -6.53940569e-05,  1.95941500e-04,\n",
       "       -9.89575120e-04,  3.26762663e-04, -2.53648739e-03, -2.87067569e-03,\n",
       "       -1.43588468e-03, -3.40895717e-05, -4.58752794e-04, -1.48118894e-04,\n",
       "        1.21983536e-04,  1.74385948e-03,  5.79090917e-04,  6.75982423e-03,\n",
       "        1.61225452e-03, -2.53843770e-04, -4.75748506e-04, -9.26384880e-04,\n",
       "        3.33770619e-04, -2.25901823e-03,  1.48444638e-03, -6.99429207e-04,\n",
       "       -2.73041196e-03, -4.45030802e-04,  1.96935302e-03,  8.57835791e-04,\n",
       "        1.10383468e-03,  7.74244688e-04, -2.68113524e-04, -3.48481854e-04,\n",
       "       -2.03498382e-03,  1.26172381e-03, -2.77503087e-04, -3.56179878e-03,\n",
       "       -5.59761102e-04,  5.45253750e-03,  4.29515522e-03,  3.71586122e-03,\n",
       "       -6.36288582e-04,  9.12751680e-04, -1.64015115e-03,  7.59235413e-04,\n",
       "       -1.12445793e-03,  6.65633729e-04,  3.27614718e-03, -1.36712303e-03,\n",
       "        3.69003752e-04, -4.06019973e-04, -5.49623347e-04, -1.41308365e-03,\n",
       "       -1.87245299e-03,  1.39719922e-04,  6.06487960e-05, -5.91705974e-04,\n",
       "       -6.87736671e-04,  1.34279097e-03, -5.85532569e-04,  1.96340105e-03,\n",
       "       -9.11295667e-04,  7.00931473e-05,  1.04410590e-03, -3.21238084e-03,\n",
       "        5.04285123e-04, -1.47632684e-03, -1.74307839e-03,  1.32666807e-03,\n",
       "        1.02028139e-03,  1.49081365e-03,  4.83601739e-03, -3.68736120e-03,\n",
       "        1.70501588e-03,  4.69003354e-04, -2.44866525e-03,  2.38726953e-03,\n",
       "       -1.34116841e-03,  3.98153671e-04,  6.47868487e-04, -7.73434041e-04,\n",
       "       -1.48114899e-03,  1.45604587e-03, -2.71546745e-03,  3.90370873e-04,\n",
       "        5.35042100e-04,  3.50200774e-04, -3.48973790e-04,  1.79066851e-04,\n",
       "        6.76563406e-03, -7.40812537e-03, -5.56166705e-04, -1.74686501e-03,\n",
       "       -4.46083136e-05, -8.33771545e-03, -4.21239361e-03, -4.08128650e-03,\n",
       "        1.13612219e-03,  1.70280254e-03,  2.50591522e-03, -1.17871822e-03,\n",
       "       -3.94383864e-04, -1.49253134e-03, -4.08128650e-03,  5.64010268e-05,\n",
       "        1.70280254e-03, -1.79946411e-03, -3.75419558e-04,  2.72573379e-04,\n",
       "        0.00000000e+00, -4.62928397e-04,  0.00000000e+00, -8.51492851e-04,\n",
       "        2.64044053e-04, -4.07059702e-05,  0.00000000e+00,  4.29879694e-04,\n",
       "        6.59223430e-05, -2.87446588e-04, -2.33015213e-04, -1.67232053e-03,\n",
       "       -8.47434252e-04,  2.13076481e-04, -4.89888307e-04,  1.09771514e-03,\n",
       "        1.13050222e-03,  1.38425934e-03, -1.46177126e-04, -1.56093208e-03,\n",
       "       -6.50572654e-04,  1.30812026e-04,  2.78919953e-04,  4.88594192e-04,\n",
       "        0.00000000e+00, -9.46290448e-04,  3.95141714e-04, -3.00973989e-04,\n",
       "       -9.08591485e-04, -2.89804436e-04,  1.62516507e-03,  2.78276456e-04,\n",
       "       -5.90861259e-04,  1.16458610e-05,  2.01913631e-03, -5.00210558e-05,\n",
       "       -5.71762408e-05, -5.67731027e-05, -6.65488895e-04,  9.61077858e-04,\n",
       "        1.31410753e-04,  4.24983133e-04,  0.00000000e+00,  1.79559327e-03,\n",
       "        1.47626075e-03,  4.82735002e-04, -1.29156873e-03, -1.37111979e-04,\n",
       "       -2.77711839e-03, -1.47086685e-04,  1.69685631e-03,  3.16143103e-03,\n",
       "       -5.41899096e-04, -6.17942295e-03,  8.49555804e-04,  1.57461094e-03,\n",
       "        4.69560486e-04, -4.58840981e-04, -2.14588234e-04,  2.26100906e-03,\n",
       "       -7.85496421e-04,  4.19354327e-04,  3.15222811e-03,  5.65101150e-04,\n",
       "       -6.09659637e-04, -2.74316288e-03, -5.52962366e-03,  1.91843551e-03,\n",
       "        3.80715248e-03,  1.91795087e-03, -3.77237253e-03,  3.16933062e-04,\n",
       "        8.41567988e-04, -2.45303324e-04,  3.38830575e-03, -3.90490728e-03,\n",
       "        1.12272453e-03, -1.06968466e-04, -2.63775673e-04, -3.31712399e-04,\n",
       "       -3.91755477e-05, -8.89975513e-05,  7.09325345e-05,  8.18690309e-04,\n",
       "        1.63505112e-03,  8.69950903e-04,  8.13894039e-04, -3.79460155e-04,\n",
       "       -2.82702024e-03,  2.86045467e-03,  1.76549457e-03, -1.63519817e-04,\n",
       "       -1.77468117e-03, -3.03394462e-04, -3.11923846e-03, -1.23493778e-03,\n",
       "        3.79290564e-03, -9.60253504e-04,  9.68702444e-05, -6.67580993e-04,\n",
       "       -1.29273223e-03,  1.21848513e-03,  3.28992102e-04, -1.03051828e-03,\n",
       "        2.25987165e-03, -2.05810991e-03,  2.75304389e-03,  5.39836725e-03,\n",
       "        4.30202104e-04, -1.48574814e-03, -5.30735772e-03, -1.97076968e-03,\n",
       "        2.73458830e-03, -8.01911502e-04,  9.98432177e-07, -7.39924055e-04,\n",
       "       -5.98455526e-03,  5.92587206e-03, -1.07347439e-03, -1.27434086e-03,\n",
       "       -7.64789201e-04,  4.72246671e-04,  1.78453419e-03,  1.99193618e-03,\n",
       "        2.60464684e-03,  8.12800263e-04, -3.94484828e-03, -4.11302279e-04,\n",
       "        1.58655428e-03, -1.54766977e-03,  6.88800805e-05, -1.13796314e-03,\n",
       "       -8.61100073e-04,  2.62603672e-03,  3.19011430e-04, -3.40575768e-03,\n",
       "       -1.19326617e-03,  2.73579113e-03,  1.45012915e-03, -4.66850169e-04,\n",
       "        7.54430148e-04,  2.43589985e-04,  4.79400631e-05, -1.38835881e-03,\n",
       "       -7.58661801e-04,  0.00000000e+00,  1.46846120e-03, -8.32598080e-04,\n",
       "        1.10481727e-03,  1.43099524e-04, -2.83725119e-04, -8.97913620e-04,\n",
       "       -2.36676940e-04, -3.18213104e-05,  2.46579864e-04,  5.57386032e-04,\n",
       "        2.11598080e-03, -4.49318596e-04, -1.76042891e-04,  7.91390237e-04,\n",
       "       -1.97302009e-03,  0.00000000e+00, -2.94766811e-03,  2.03706713e-03,\n",
       "        3.05282849e-04,  2.37022207e-04,  1.43099524e-04, -1.47029471e-04,\n",
       "       -3.88211120e-03,  7.13510193e-03, -3.28559977e-03, -4.07886057e-03,\n",
       "        0.00000000e+00, -3.19639876e-03, -3.69083633e-03, -8.47168350e-04,\n",
       "       -2.35423614e-03, -9.30112060e-05,  1.27175415e-04,  4.95023974e-04,\n",
       "       -1.01862002e-03,  1.68957379e-04,  1.68957379e-04,  1.68957379e-04,\n",
       "        1.68957379e-04, -2.36676940e-04, -5.29134621e-04,  1.68957379e-04,\n",
       "       -2.36676940e-04, -5.29134621e-04,  1.68957379e-04, -2.36676940e-04,\n",
       "        3.36665667e-04, -5.29134621e-04,  1.68957379e-04, -2.36676940e-04,\n",
       "       -1.92468954e-04,  1.68957379e-04, -2.36676940e-04, -1.92468954e-04,\n",
       "        1.68957379e-04, -2.36676940e-04, -1.92468954e-04,  1.68957379e-04,\n",
       "       -2.36676940e-04, -1.92468954e-04,  1.68957379e-04, -2.36676940e-04,\n",
       "       -1.92468954e-04,  1.68957379e-04, -2.36676940e-04, -1.92468954e-04,\n",
       "        1.68957379e-04, -2.36676940e-04, -1.34069484e-04, -1.92468954e-04,\n",
       "        1.68957379e-04, -2.36676940e-04,  0.00000000e+00, -3.26538438e-04,\n",
       "        1.68957379e-04,  1.85673979e-04, -3.26538438e-04,  1.68957379e-04,\n",
       "        4.34649178e-04, -3.26538438e-04,  1.68957379e-04,  5.98856906e-04,\n",
       "        1.42032575e-05, -5.77719442e-04, -9.16138126e-04,  1.58142786e-04,\n",
       "        1.68957379e-04,  2.29685946e-04, -8.25559170e-04,  1.42032575e-05,\n",
       "        2.01518347e-04, -1.34069484e-04,  3.27394861e-04, -6.11574780e-04,\n",
       "       -6.72510677e-04, -1.07729003e-03,  1.84365073e-03, -3.37588472e-03,\n",
       "        3.16764004e-03,  2.15367516e-03,  1.87855773e-03, -2.06260895e-03,\n",
       "       -4.19794736e-03, -1.75266934e-03, -1.42159977e-05, -3.26006712e-03,\n",
       "       -1.89047468e-03, -1.65709349e-03,  2.52316668e-03, -8.52892137e-04,\n",
       "        1.16723224e-04])"
      ]
     },
     "execution_count": 17,
     "metadata": {},
     "output_type": "execute_result"
    }
   ],
   "source": [
    "ridge_cv_star.coef_"
   ]
  }
 ],
 "metadata": {
  "jupytext": {
   "formats": "ipynb,Rmd"
  },
  "kernelspec": {
   "display_name": "Python 3 (ipykernel)",
   "language": "python",
   "name": "python3"
  },
  "language_info": {
   "codemirror_mode": {
    "name": "ipython",
    "version": 3
   },
   "file_extension": ".py",
   "mimetype": "text/x-python",
   "name": "python",
   "nbconvert_exporter": "python",
   "pygments_lexer": "ipython3",
   "version": "3.11.3"
  },
  "toc": {
   "base_numbering": 1,
   "nav_menu": {},
   "number_sections": true,
   "sideBar": true,
   "skip_h1_title": false,
   "title_cell": "Table of Contents",
   "title_sidebar": "Contents",
   "toc_cell": false,
   "toc_position": {},
   "toc_section_display": true,
   "toc_window_display": false
  }
 },
 "nbformat": 4,
 "nbformat_minor": 5
}
