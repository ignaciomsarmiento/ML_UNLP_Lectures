{
  "cells": [
    {
      "cell_type": "markdown",
      "id": "a952ad54-2218-4382-b2eb-d401d349f764",
      "metadata": {
        "id": "a952ad54-2218-4382-b2eb-d401d349f764"
      },
      "source": [
        "<div >\n",
        "    <img src = \"../banner/banner_ML_UNLP_1900_200.png\" />\n",
        "</div>"
      ]
    },
    {
      "cell_type": "markdown",
      "id": "da2a426e",
      "metadata": {
        "id": "da2a426e"
      },
      "source": [
        "<a target=\"_blank\" href=\"https://colab.research.google.com/github/ignaciomsarmiento/ML_UNLP_Lectures/blob/main/Week04/Notebook_SS04_clasification.ipynb\">\n",
        "  <img src=\"https://colab.research.google.com/assets/colab-badge.svg\" alt=\"Open In Colab\"/>\n",
        "</a>\n",
        "\n"
      ]
    },
    {
      "cell_type": "markdown",
      "id": "f7e57de4",
      "metadata": {
        "id": "f7e57de4"
      },
      "source": [
        "# Classification"
      ]
    },
    {
      "cell_type": "markdown",
      "id": "303a3dcd",
      "metadata": {
        "id": "303a3dcd"
      },
      "source": [
        "To work through the steps of probability-based classification, we’ll use a real dataset on loans and credit from a set of local lenders in Germany (taken from the UC Irvine Machine Learning Repository and cleaned for our purposes).\n",
        "\n",
        "Credit scoring is a classic problem of classification, and it remains one of the big application domains for ML: use previous loan results (default versus payment) to train a model that can predict the performance of potential new loans.\n",
        "\n",
        "\\begin{align}\n",
        "Default=f(x) + u\n",
        "\\end{align}\n",
        "\n",
        "where $Default=I(Default=1)$\n",
        "\n"
      ]
    },
    {
      "cell_type": "markdown",
      "id": "b9183a2e",
      "metadata": {
        "id": "b9183a2e"
      },
      "source": [
        "# Dataset"
      ]
    },
    {
      "cell_type": "markdown",
      "id": "2fdab5a6",
      "metadata": {
        "id": "2fdab5a6"
      },
      "source": [
        "Let's load the modules:"
      ]
    },
    {
      "cell_type": "code",
      "execution_count": null,
      "id": "5eb2e2d9",
      "metadata": {
        "id": "5eb2e2d9"
      },
      "outputs": [],
      "source": [
        "import numpy as np\n",
        "import pandas as pd"
      ]
    },
    {
      "cell_type": "code",
      "execution_count": null,
      "id": "247c94a5",
      "metadata": {
        "scrolled": true,
        "id": "247c94a5"
      },
      "outputs": [],
      "source": [
        "db = pd.read_csv(\"https://raw.githubusercontent.com/ignaciomsarmiento/datasets/main/credit.csv\")\n",
        "db.head()"
      ]
    },
    {
      "cell_type": "code",
      "execution_count": null,
      "id": "efd33e96",
      "metadata": {
        "id": "efd33e96"
      },
      "outputs": [],
      "source": [
        "db = db.iloc[:, 1:] #remove first column\n",
        "db.head()"
      ]
    },
    {
      "cell_type": "code",
      "execution_count": null,
      "id": "2303775c",
      "metadata": {
        "id": "2303775c"
      },
      "outputs": [],
      "source": [
        "db['Default'].value_counts(normalize=True) * 100"
      ]
    },
    {
      "cell_type": "code",
      "execution_count": null,
      "id": "bdf4ce56",
      "metadata": {
        "id": "bdf4ce56"
      },
      "outputs": [],
      "source": [
        "db['foreign'].value_counts(normalize=True) * 100\n"
      ]
    },
    {
      "cell_type": "code",
      "execution_count": null,
      "id": "ea0e0b3d",
      "metadata": {
        "id": "ea0e0b3d"
      },
      "outputs": [],
      "source": [
        "import matplotlib.pyplot as plt\n",
        "from statsmodels.graphics.mosaicplot import mosaic\n",
        "\n",
        "# Assuming df is your DataFrame equivalent to the 'credit' data frame in R\n",
        "# and it contains 'Default' and 'history' columns\n",
        "\n",
        "# Create a mosaic plot\n",
        "mosaic(db, ['history', 'Default'], title='Mosaic Plot of Default by History')\n",
        "plt.ylabel('Default')\n",
        "plt.show()\n"
      ]
    },
    {
      "cell_type": "markdown",
      "id": "a5e5668c",
      "metadata": {
        "id": "a5e5668c"
      },
      "source": [
        "## Estimación Logit\n",
        "\n",
        "\\begin{align}\n",
        "p_i &=\\frac{e^{X_i\\beta}}{1+e^{X_i\\beta}}\n",
        "\\end{align}\n"
      ]
    },
    {
      "cell_type": "code",
      "execution_count": null,
      "id": "baedd153",
      "metadata": {
        "id": "baedd153"
      },
      "outputs": [],
      "source": [
        "from sklearn.linear_model import LogisticRegression\n",
        "from sklearn.model_selection import train_test_split\n",
        "\n",
        "\n",
        "\n",
        "# Convert 'history' and 'purpose' into dummy variables\n",
        "db_dummies = pd.get_dummies(db, columns=['history', 'purpose','foreign'], drop_first=True)\n",
        "\n",
        "# Separate the independent and dependent variables\n",
        "X = db_dummies.drop('Default', axis=1)\n",
        "y = db_dummies['Default']\n"
      ]
    },
    {
      "cell_type": "code",
      "execution_count": null,
      "id": "d101b3fc",
      "metadata": {
        "id": "d101b3fc"
      },
      "outputs": [],
      "source": [
        "X_train, X_test, y_train, y_test = train_test_split(\n",
        "                                        X,\n",
        "                                        y,\n",
        "                                        train_size   = 0.8,\n",
        "                                        random_state = 1234,\n",
        "                                        shuffle      = True\n",
        "                                    )\n",
        "\n",
        "\n"
      ]
    },
    {
      "cell_type": "code",
      "execution_count": null,
      "id": "a496bd79",
      "metadata": {
        "id": "a496bd79"
      },
      "outputs": [],
      "source": [
        "# Fit the logistic regression model\n",
        "logit_model = LogisticRegression(max_iter=200 )\n",
        "logit_model.fit(X_train,y_train)\n"
      ]
    },
    {
      "cell_type": "markdown",
      "id": "c872b7af",
      "metadata": {
        "id": "c872b7af"
      },
      "source": [
        "## Prediction\n",
        "\n",
        "\n",
        "\\begin{align}\n",
        "\\hat{p}_i &=\\frac{e^{X_i\\hat{\\beta}}}{1+e^{X_i\\hat{\\beta}}}\n",
        "\\end{align}"
      ]
    },
    {
      "cell_type": "code",
      "execution_count": null,
      "id": "0df635bd",
      "metadata": {
        "id": "0df635bd"
      },
      "outputs": [],
      "source": [
        "y_test=pd.DataFrame(y_test)\n",
        "y_test.head()"
      ]
    },
    {
      "cell_type": "code",
      "execution_count": null,
      "id": "9f58a43b",
      "metadata": {
        "id": "9f58a43b"
      },
      "outputs": [],
      "source": [
        "# Predict the probabilities\n",
        "y_test['prob_hat'] = logit_model.predict_proba(X_test)[:, 1]\n",
        "\n",
        "# Display the first few rows of the specified columns\n",
        "y_test.head(30)\n"
      ]
    },
    {
      "cell_type": "markdown",
      "id": "1fe0b73e",
      "metadata": {
        "id": "1fe0b73e"
      },
      "source": [
        "# CARTs"
      ]
    },
    {
      "cell_type": "code",
      "execution_count": null,
      "id": "3473b64e",
      "metadata": {
        "id": "3473b64e"
      },
      "outputs": [],
      "source": [
        "from sklearn.tree import DecisionTreeClassifier\n",
        "\n",
        "# Creación del modelo\n",
        "# ------------------------------------------------------------------------------\n",
        "model_tree = DecisionTreeClassifier(\n",
        "            max_depth         = 5,\n",
        "            criterion         = 'gini',\n",
        "            random_state      = 123\n",
        "          )\n",
        "\n",
        "# Entrenamiento del modelo\n",
        "# ------------------------------------------------------------------------------\n",
        "model_tree.fit(X_train, y_train)\n",
        "\n"
      ]
    },
    {
      "cell_type": "code",
      "execution_count": null,
      "id": "ad3d65ac",
      "metadata": {
        "id": "ad3d65ac"
      },
      "outputs": [],
      "source": [
        "from sklearn.tree import plot_tree\n",
        "\n",
        "# Estructura del árbol creado\n",
        "# ------------------------------------------------------------------------------\n",
        "fig, ax = plt.subplots(figsize=(13, 6))\n",
        "\n",
        "print(f\"Profundidad del árbol: {model_tree.get_depth()}\")\n",
        "print(f\"Número de nodos terminales: {model_tree.get_n_leaves()}\")\n",
        "\n",
        "plot = plot_tree(\n",
        "            decision_tree = model_tree,\n",
        "            feature_names = X_train.columns,\n",
        "            filled        = True,\n",
        "            impurity      = False,\n",
        "            fontsize      = 7,\n",
        "            ax            = ax\n",
        "       )\n",
        "\n"
      ]
    },
    {
      "cell_type": "code",
      "execution_count": null,
      "id": "9df45107",
      "metadata": {
        "id": "9df45107"
      },
      "outputs": [],
      "source": [
        "\n",
        "# Predict the probabilities\n",
        "y_test['prob_hat_tree'] = model_tree.predict_proba(X_test)[:, 1]\n",
        "\n",
        "# Display the first few rows of the specified columns\n",
        "y_test.head()\n"
      ]
    },
    {
      "cell_type": "markdown",
      "id": "c3c2227c",
      "metadata": {
        "id": "c3c2227c"
      },
      "source": [
        "### Pruning"
      ]
    },
    {
      "cell_type": "code",
      "execution_count": null,
      "id": "5af3aa2b",
      "metadata": {
        "id": "5af3aa2b"
      },
      "outputs": [],
      "source": [
        "from sklearn.model_selection import GridSearchCV\n",
        "\n",
        "# Post pruning (const complexity pruning) por validación cruzada\n",
        "# ------------------------------------------------------------------------------\n",
        "# Valores de ccp_alpha evaluados\n",
        "param_grid = {'ccp_alpha':np.linspace(0, 0.005, 40)}\n",
        "param_grid"
      ]
    },
    {
      "cell_type": "code",
      "execution_count": null,
      "id": "5adcefa8",
      "metadata": {
        "id": "5adcefa8"
      },
      "outputs": [],
      "source": [
        "from sklearn.metrics import make_scorer, f1_score\n",
        "\n",
        "f1_scorer = make_scorer(f1_score)\n",
        "\n",
        "\n",
        "\n",
        "# Búsqueda por validación cruzada\n",
        "grid_tree = GridSearchCV(\n",
        "        # El árbol se crece al máximo posible antes de aplicar el pruning\n",
        "        estimator = DecisionTreeClassifier(\n",
        "                            max_depth         = None,\n",
        "                            min_samples_split = 2,\n",
        "                            min_samples_leaf  = 1,\n",
        "                            random_state      = 123\n",
        "                       ),\n",
        "        param_grid = param_grid,\n",
        "        scoring    = f1_scorer,\n",
        "        cv         = 5,\n",
        "        refit      = True,\n",
        "        return_train_score = True\n",
        "      )\n",
        "\n",
        "grid_tree.fit(X_train, y_train)\n"
      ]
    },
    {
      "cell_type": "code",
      "execution_count": null,
      "id": "276fa2b1",
      "metadata": {
        "id": "276fa2b1"
      },
      "outputs": [],
      "source": [
        "fig, ax = plt.subplots(figsize=(6, 3.84))\n",
        "scores = pd.DataFrame(grid_tree.cv_results_)\n",
        "scores.plot(x='param_ccp_alpha', y='mean_train_score', ax=ax)\n",
        "scores.plot(x='param_ccp_alpha', y='mean_test_score', ax=ax)\n",
        "ax.set_title(\"Error de validacion cruzada vs hiperparámetro ccp_alpha\");\n"
      ]
    },
    {
      "cell_type": "code",
      "execution_count": null,
      "id": "99b447e5",
      "metadata": {
        "id": "99b447e5"
      },
      "outputs": [],
      "source": [
        "grid_tree.best_params_"
      ]
    },
    {
      "cell_type": "code",
      "execution_count": null,
      "id": "16c34ba1",
      "metadata": {
        "id": "16c34ba1"
      },
      "outputs": [],
      "source": [
        "# Estructura del árbol final\n",
        "# ------------------------------------------------------------------------------\n",
        "model_tree_final = grid_tree.best_estimator_\n",
        "print(f\"Profundidad del árbol: {model_tree_final.get_depth()}\")\n",
        "print(f\"Número de nodos terminales: {model_tree_final.get_n_leaves()}\")"
      ]
    },
    {
      "cell_type": "code",
      "execution_count": null,
      "id": "d39a2d28",
      "metadata": {
        "id": "d39a2d28"
      },
      "outputs": [],
      "source": [
        "\n",
        "# Predict the probabilities\n",
        "y_test['prob_hat_tree_cp'] = model_tree_final.predict_proba(X_test)[:, 1]\n",
        "\n",
        "# Display the first few rows of the specified columns\n",
        "y_test.head()\n"
      ]
    },
    {
      "cell_type": "markdown",
      "id": "3cf95004",
      "metadata": {
        "id": "3cf95004"
      },
      "source": [
        "## Random Forests"
      ]
    },
    {
      "cell_type": "code",
      "execution_count": null,
      "id": "49e92051",
      "metadata": {
        "id": "49e92051"
      },
      "outputs": [],
      "source": [
        "from sklearn.ensemble import RandomForestClassifier\n",
        "from sklearn.model_selection import RepeatedKFold\n",
        "import multiprocessing"
      ]
    },
    {
      "cell_type": "code",
      "execution_count": null,
      "id": "420d3e85",
      "metadata": {
        "id": "420d3e85"
      },
      "outputs": [],
      "source": [
        "\n",
        "\n",
        "# Grid de hiperparámetros evaluados\n",
        "# ==============================================================================\n",
        "param_grid = {\n",
        "    'n_estimators': [150,200], #número de árboles\n",
        "    'max_features': [5, 7, 9], # número de predictores\n",
        "    'max_depth'   : [3, 10, 20], #profundidad\n",
        "    'criterion'   : ['gini', 'entropy'] # uno puede usar gini o entropia\n",
        "}\n",
        "\n",
        "# Búsqueda por grid search con validación cruzada\n",
        "# ==============================================================================\n",
        "grid_forest = GridSearchCV(\n",
        "        estimator  = RandomForestClassifier(random_state = 123),\n",
        "        param_grid = param_grid,\n",
        "        scoring    = 'accuracy',\n",
        "        n_jobs     = multiprocessing.cpu_count() - 1,\n",
        "        cv         = RepeatedKFold(n_splits=5, n_repeats=3, random_state=123),\n",
        "        refit      = True,\n",
        "        verbose    = 0,\n",
        "        return_train_score = True\n",
        "       )\n",
        "\n",
        "grid_forest.fit(X = X_train, y = y_train)\n",
        "\n"
      ]
    },
    {
      "cell_type": "code",
      "execution_count": null,
      "id": "7a918ef7",
      "metadata": {
        "id": "7a918ef7"
      },
      "outputs": [],
      "source": [
        "\n",
        "# Resultados\n",
        "# ==============================================================================\n",
        "resultados = pd.DataFrame(grid_forest.cv_results_)\n",
        "resultados.filter(regex = '(param*|mean_t|std_t)') \\\n",
        "    .drop(columns = 'params') \\\n",
        "    .sort_values('mean_test_score', ascending = False) \\\n",
        "    .head(4)\n"
      ]
    },
    {
      "cell_type": "code",
      "execution_count": null,
      "id": "88eab19c",
      "metadata": {
        "id": "88eab19c"
      },
      "outputs": [],
      "source": [
        "\n",
        "\n",
        "# Mejores hiperparámetros por validación cruzada\n",
        "# ==============================================================================\n",
        "print(\"----------------------------------------\")\n",
        "print(\"Mejores hiperparámetros encontrados (cv)\")\n",
        "print(\"----------------------------------------\")\n",
        "print(grid_forest.best_params_, \":\", grid_forest.best_score_, grid_forest.scoring)\n",
        "\n"
      ]
    },
    {
      "cell_type": "code",
      "execution_count": null,
      "id": "d0e327cd",
      "metadata": {
        "id": "d0e327cd"
      },
      "outputs": [],
      "source": [
        "\n",
        "\n",
        "model_grid_forest_final = grid_forest.best_estimator_\n",
        "\n",
        "# Predict the probabilities\n",
        "y_test['prob_hat_forest'] = model_grid_forest_final.predict_proba(X_test)[:, 1]\n",
        "\n",
        "# Display the first few rows of the specified columns\n",
        "y_test.head()\n"
      ]
    },
    {
      "cell_type": "markdown",
      "id": "52756bfe",
      "metadata": {
        "id": "52756bfe"
      },
      "source": [
        "## Importancia de predictores\n",
        "### Importancia por pureza de nodos"
      ]
    },
    {
      "cell_type": "code",
      "execution_count": null,
      "id": "cf8141fc",
      "metadata": {
        "id": "cf8141fc"
      },
      "outputs": [],
      "source": [
        "importancia_predictores = pd.DataFrame(\n",
        "                            {'predictor': X_train.columns,\n",
        "                             'importancia': model_grid_forest_final.feature_importances_}\n",
        "                            )\n",
        "print(\"Importancia de los predictores en el modelo\")\n",
        "print(\"-------------------------------------------\")\n",
        "importancia_predictores.sort_values('importancia', ascending=False)"
      ]
    },
    {
      "cell_type": "markdown",
      "id": "23d04b4a",
      "metadata": {
        "id": "23d04b4a"
      },
      "source": [
        "###  Importancia por permutación"
      ]
    },
    {
      "cell_type": "code",
      "execution_count": null,
      "id": "8b831ffb",
      "metadata": {
        "id": "8b831ffb"
      },
      "outputs": [],
      "source": [
        "from sklearn.inspection import permutation_importance\n",
        "\n",
        "importancia = permutation_importance(\n",
        "                estimator    = model_grid_forest_final,\n",
        "                X            = X_train,\n",
        "                y            = y_train,\n",
        "                n_repeats    = 5,\n",
        "                scoring      = 'accuracy',\n",
        "                n_jobs       = multiprocessing.cpu_count() - 1,\n",
        "                random_state = 123\n",
        "             )\n",
        "\n",
        "# Se almacenan los resultados (media y desviación) en un dataframe\n",
        "df_importancia = pd.DataFrame(\n",
        "                    {k: importancia[k] for k in ['importances_mean', 'importances_std']}\n",
        "                 )\n",
        "df_importancia['feature'] = X_train.columns\n",
        "df_importancia.sort_values('importances_mean', ascending=False)\n",
        "\n"
      ]
    },
    {
      "cell_type": "markdown",
      "id": "72fa900c",
      "metadata": {
        "id": "72fa900c"
      },
      "source": [
        "# AdaBoost"
      ]
    },
    {
      "cell_type": "code",
      "execution_count": null,
      "id": "2979a186",
      "metadata": {
        "id": "2979a186"
      },
      "outputs": [],
      "source": [
        "from sklearn.ensemble import AdaBoostClassifier"
      ]
    },
    {
      "cell_type": "code",
      "execution_count": null,
      "id": "feeb82d8",
      "metadata": {
        "id": "feeb82d8"
      },
      "outputs": [],
      "source": [
        "model_ada= AdaBoostClassifier(\n",
        "                DecisionTreeClassifier(max_depth=1), #clasificador G(X)\n",
        "                                      n_estimators=300 # número de iteraciones\n",
        ")"
      ]
    },
    {
      "cell_type": "code",
      "execution_count": null,
      "id": "62421d2a",
      "metadata": {
        "id": "62421d2a"
      },
      "outputs": [],
      "source": [
        "# Entrenamiento del modelo\n",
        "# ------------------------------------------------------------------------------\n",
        "model_ada.fit(X_train, y_train)"
      ]
    },
    {
      "cell_type": "code",
      "execution_count": null,
      "id": "1a3ca546",
      "metadata": {
        "id": "1a3ca546"
      },
      "outputs": [],
      "source": [
        "# Predict the probabilities\n",
        "y_test['prob_hat_ada'] = model_ada.predict_proba(X_test)[:, 1]\n",
        "\n",
        "# Display the first few rows of the specified columns\n",
        "y_test.head()\n"
      ]
    },
    {
      "cell_type": "markdown",
      "id": "763ab9d1",
      "metadata": {
        "id": "763ab9d1"
      },
      "source": [
        "# Classification and Missclasification"
      ]
    },
    {
      "cell_type": "markdown",
      "id": "54adb2d6",
      "metadata": {
        "id": "54adb2d6"
      },
      "source": [
        "\n",
        "\n",
        "\\begin{align}\n",
        "\\hat{Y}_i= 1[\\hat{p}_i >0.5]\n",
        "\\end{align}"
      ]
    },
    {
      "cell_type": "code",
      "execution_count": null,
      "id": "99341d2c",
      "metadata": {
        "id": "99341d2c"
      },
      "outputs": [],
      "source": [
        "\n",
        "# Define the rule (threshold)\n",
        "rule = 0.5\n",
        "\n",
        "# Create the predicted class labels based on the rule\n",
        "y_test['Default_hat_logit'] = (y_test['prob_hat'] > rule).astype(int)\n",
        "\n",
        "# Display the first few rows of the specified columns\n",
        "y_test[['Default', 'prob_hat', 'Default_hat_logit']].head(30)"
      ]
    },
    {
      "cell_type": "code",
      "execution_count": null,
      "id": "72427d20",
      "metadata": {
        "id": "72427d20"
      },
      "outputs": [],
      "source": [
        "from sklearn.metrics import accuracy_score\n",
        "\n",
        "accuracy = accuracy_score(\n",
        "            y_true    = y_test['Default'],\n",
        "            y_pred    = y_test['Default_hat_logit'],\n",
        "            normalize = True\n",
        "           )\n",
        "print(\"\")\n",
        "print(f\"El accuracy de test es: {100*accuracy}%\")\n",
        "\n"
      ]
    },
    {
      "cell_type": "code",
      "execution_count": null,
      "id": "82181165",
      "metadata": {
        "id": "82181165"
      },
      "outputs": [],
      "source": [
        "from sklearn.metrics import ConfusionMatrixDisplay\n",
        "\n",
        "# Matriz de confusión de las predicciones de test\n",
        "# ==============================================================================\n",
        "confusion_matrix = pd.crosstab(\n",
        "    y_test['Default'],\n",
        "    y_test['Default_hat_logit'],\n",
        "    rownames=['Real'],\n",
        "    colnames=['Predicción']\n",
        ")\n",
        "confusion_matrix\n",
        "\n"
      ]
    },
    {
      "cell_type": "markdown",
      "id": "55f8b0aa",
      "metadata": {
        "id": "55f8b0aa"
      },
      "source": [
        "## Trees"
      ]
    },
    {
      "cell_type": "code",
      "execution_count": null,
      "id": "a0f8d5a3",
      "metadata": {
        "id": "a0f8d5a3"
      },
      "outputs": [],
      "source": [
        "\n",
        "# Create the predicted class labels based on the rule\n",
        "y_test['Default_hat_tree'] = (y_test['prob_hat_tree'] > rule).astype(int)\n"
      ]
    },
    {
      "cell_type": "code",
      "execution_count": null,
      "id": "12a77000",
      "metadata": {
        "id": "12a77000"
      },
      "outputs": [],
      "source": [
        "\n",
        "accuracy = accuracy_score(\n",
        "            y_true    = y_test['Default'],\n",
        "            y_pred    = y_test['Default_hat_tree'],\n",
        "            normalize = True\n",
        "           )\n",
        "print(\"\")\n",
        "print(f\"El accuracy de test es: {100*accuracy}%\")\n",
        "\n"
      ]
    },
    {
      "cell_type": "code",
      "execution_count": null,
      "id": "67e4deb3",
      "metadata": {
        "id": "67e4deb3"
      },
      "outputs": [],
      "source": [
        "\n",
        "# Matriz de confusión de las predicciones de test\n",
        "# ==============================================================================\n",
        "confusion_matrix = pd.crosstab(\n",
        "    y_test['Default'],\n",
        "    y_test['Default_hat_tree'],\n",
        "    rownames=['Real'],\n",
        "    colnames=['Predicción']\n",
        ")\n",
        "confusion_matrix"
      ]
    },
    {
      "cell_type": "markdown",
      "id": "80b90d26",
      "metadata": {
        "id": "80b90d26"
      },
      "source": [
        "## Trees CP"
      ]
    },
    {
      "cell_type": "code",
      "execution_count": null,
      "id": "358a2c9e",
      "metadata": {
        "id": "358a2c9e"
      },
      "outputs": [],
      "source": [
        "\n",
        "# Create the predicted class labels based on the rule\n",
        "y_test['Default_hat_tree_cp'] = (y_test['prob_hat_tree_cp'] > rule).astype(int)\n"
      ]
    },
    {
      "cell_type": "code",
      "execution_count": null,
      "id": "bd5d2ff6",
      "metadata": {
        "id": "bd5d2ff6"
      },
      "outputs": [],
      "source": [
        "\n",
        "accuracy = accuracy_score(\n",
        "            y_true    = y_test['Default'],\n",
        "            y_pred    = y_test['Default_hat_tree_cp'],\n",
        "            normalize = True\n",
        "           )\n",
        "print(\"\")\n",
        "print(f\"El accuracy de test es: {100*accuracy}%\")\n",
        "\n"
      ]
    },
    {
      "cell_type": "code",
      "execution_count": null,
      "id": "c93166c5",
      "metadata": {
        "id": "c93166c5"
      },
      "outputs": [],
      "source": [
        "# Matriz de confusión de las predicciones de test\n",
        "# ==============================================================================\n",
        "confusion_matrix = pd.crosstab(\n",
        "    y_test['Default'],\n",
        "    y_test['Default_hat_tree_cp'],\n",
        "    rownames=['Real'],\n",
        "    colnames=['Predicción']\n",
        ")\n",
        "confusion_matrix"
      ]
    },
    {
      "cell_type": "markdown",
      "id": "be641c8f",
      "metadata": {
        "id": "be641c8f"
      },
      "source": [
        "## Forest"
      ]
    },
    {
      "cell_type": "code",
      "execution_count": null,
      "id": "21c40a19",
      "metadata": {
        "id": "21c40a19"
      },
      "outputs": [],
      "source": [
        "\n",
        "# Create the predicted class labels based on the rule\n",
        "y_test['Default_hat_forest'] = (y_test['prob_hat_forest'] > rule).astype(int)\n"
      ]
    },
    {
      "cell_type": "code",
      "execution_count": null,
      "id": "c9b95572",
      "metadata": {
        "id": "c9b95572"
      },
      "outputs": [],
      "source": [
        "\n",
        "accuracy = accuracy_score(\n",
        "            y_true    = y_test['Default'],\n",
        "            y_pred    = y_test['Default_hat_forest'],\n",
        "            normalize = True\n",
        "           )\n",
        "print(\"\")\n",
        "print(f\"El accuracy de test es: {100*accuracy}%\")\n",
        "\n"
      ]
    },
    {
      "cell_type": "code",
      "execution_count": null,
      "id": "593bb283",
      "metadata": {
        "id": "593bb283"
      },
      "outputs": [],
      "source": [
        "# Matriz de confusión de las predicciones de test\n",
        "# ==============================================================================\n",
        "confusion_matrix = pd.crosstab(\n",
        "    y_test['Default'],\n",
        "    y_test['Default_hat_forest'],\n",
        "    rownames=['Real'],\n",
        "    colnames=['Predicción']\n",
        ")\n",
        "confusion_matrix"
      ]
    },
    {
      "cell_type": "markdown",
      "id": "4b882f9a",
      "metadata": {
        "id": "4b882f9a"
      },
      "source": [
        "## AdaBoost"
      ]
    },
    {
      "cell_type": "code",
      "execution_count": null,
      "id": "35a3129f",
      "metadata": {
        "id": "35a3129f"
      },
      "outputs": [],
      "source": [
        "\n",
        "# Create the predicted class labels based on the rule\n",
        "y_test['Default_hat_ada'] = (y_test['prob_hat_ada'] > rule).astype(int)\n"
      ]
    },
    {
      "cell_type": "code",
      "execution_count": null,
      "id": "1bc9ce55",
      "metadata": {
        "id": "1bc9ce55"
      },
      "outputs": [],
      "source": [
        "\n",
        "accuracy = accuracy_score(\n",
        "            y_true    = y_test['Default'],\n",
        "            y_pred    = y_test['Default_hat_ada'],\n",
        "            normalize = True\n",
        "           )\n",
        "print(\"\")\n",
        "print(f\"El accuracy de test es: {100*accuracy}%\")\n",
        "\n"
      ]
    },
    {
      "cell_type": "code",
      "execution_count": null,
      "id": "0d8c0b30",
      "metadata": {
        "id": "0d8c0b30"
      },
      "outputs": [],
      "source": [
        "# Matriz de confusión de las predicciones de test\n",
        "# ==============================================================================\n",
        "confusion_matrix = pd.crosstab(\n",
        "    y_test['Default'],\n",
        "    y_test['Default_hat_ada'],\n",
        "    rownames=['Real'],\n",
        "    colnames=['Predicción']\n",
        ")\n",
        "confusion_matrix"
      ]
    },
    {
      "cell_type": "code",
      "execution_count": null,
      "id": "9300bab7",
      "metadata": {
        "id": "9300bab7"
      },
      "outputs": [],
      "source": [
        "from sklearn.metrics import f1_score\n",
        "\n",
        "\n",
        "\n",
        "# Dictionary to hold F1 scores\n",
        "f1_scores = {}\n",
        "\n",
        "f1_scores['Logit'] = f1_score(    y_test['Default'], y_test['Default_hat_logit'])\n",
        "f1_scores['CART'] = f1_score(    y_test['Default'], y_test['Default_hat_tree'])\n",
        "f1_scores['CART CP'] = f1_score(    y_test['Default'], y_test['Default_hat_tree_cp'])\n",
        "f1_scores['Forest'] = f1_score(    y_test['Default'], y_test['Default_hat_forest'])\n",
        "f1_scores['AdaBoost'] = f1_score(    y_test['Default'], y_test['Default_hat_ada'])\n"
      ]
    },
    {
      "cell_type": "code",
      "execution_count": null,
      "id": "97e7cc76",
      "metadata": {
        "id": "97e7cc76"
      },
      "outputs": [],
      "source": [
        "f1_df = pd.DataFrame(list(f1_scores.items()), columns=['Model', 'F1 Score'])\n",
        "print(f1_df)"
      ]
    },
    {
      "cell_type": "code",
      "execution_count": null,
      "id": "0e4cb67d",
      "metadata": {
        "id": "0e4cb67d"
      },
      "outputs": [],
      "source": [
        "from sklearn.metrics import roc_curve, auc\n",
        "\n",
        "\n",
        "models = {\n",
        "    'Logit': logit_model,\n",
        "    'CART': model_tree,\n",
        "    'CART CP': model_tree_final,\n",
        "    'Random Forest': model_grid_forest_final,\n",
        "    'AdaBoost': model_ada\n",
        "}\n",
        "\n",
        "auc_scores = {}\n"
      ]
    },
    {
      "cell_type": "code",
      "execution_count": null,
      "id": "d7454d77",
      "metadata": {
        "id": "d7454d77"
      },
      "outputs": [],
      "source": [
        "\n",
        "for name, model in models.items():\n",
        "    model.fit(X_train, y_train)\n",
        "    y_pred_prob = model.predict_proba(X_test)[:, 1]\n",
        "    fpr, tpr, _ = roc_curve(y_test['Default'], y_pred_prob)\n",
        "    roc_auc = auc(fpr, tpr)\n",
        "    auc_scores[name] = roc_auc\n",
        "\n",
        "    # Plot ROC curve\n",
        "    plt.plot(fpr, tpr, label=f'{name} (area = {roc_auc:.2f})')\n",
        "    plt.plot([0, 1], [0, 1], 'k--')  # Dashed diagonal\n",
        "    plt.xlabel('False Positive Rate')\n",
        "    plt.ylabel('True Positive Rate')\n",
        "    plt.title('ROC Curves')\n",
        "    plt.legend(loc='lower right')\n",
        "    plt.show()"
      ]
    },
    {
      "cell_type": "code",
      "execution_count": null,
      "id": "827b696a",
      "metadata": {
        "id": "827b696a"
      },
      "outputs": [],
      "source": [
        "# Create DataFrame for AUC scores\n",
        "auc_df = pd.DataFrame(list(auc_scores.items()), columns=['Model', 'AUC Score'])\n",
        "auc_df"
      ]
    },
    {
      "cell_type": "code",
      "execution_count": null,
      "id": "2a3bd519",
      "metadata": {
        "id": "2a3bd519"
      },
      "outputs": [],
      "source": [
        "fpr, tpr, thresholds = roc_curve(y_test['Default'], y_test['prob_hat'])\n",
        "\n",
        "# Calculate the Euclidean distance for each point on the ROC curve from the top-left corner\n",
        "distances = np.sqrt((1 - tpr) ** 2 + fpr ** 2)\n",
        "\n",
        "# Find the optimal threshold\n",
        "optimal_idx = np.argmin(distances)\n",
        "optimal_threshold = thresholds[optimal_idx]\n",
        "optimal_threshold"
      ]
    },
    {
      "cell_type": "code",
      "execution_count": null,
      "id": "ba896533",
      "metadata": {
        "id": "ba896533"
      },
      "outputs": [],
      "source": [
        "\n",
        "plt.figure()\n",
        "plt.plot(fpr, tpr, label='ROC curve')\n",
        "plt.plot(fpr[optimal_idx], tpr[optimal_idx], 'bo', label='Optimal Threshold')\n",
        "plt.fill_between(fpr, tpr, alpha=0.2)\n",
        "plt.plot([0, 1], [0, 1], 'k--')\n",
        "plt.xlim([0.0, 1.0])\n",
        "plt.ylim([0.0, 1.05])\n",
        "plt.xlabel('False Positive Rate')\n",
        "plt.ylabel('True Positive Rate')\n",
        "plt.title('Receiver Operating Characteristic')\n",
        "plt.legend(loc=\"lower right\")\n",
        "plt.show()\n"
      ]
    },
    {
      "cell_type": "code",
      "execution_count": null,
      "id": "637272c4",
      "metadata": {
        "id": "637272c4"
      },
      "outputs": [],
      "source": [
        "\n",
        "# Create the predicted class labels based on the rule\n",
        "y_test['Default_hat_optimal'] = (y_test['prob_hat'] > optimal_threshold).astype(int)\n"
      ]
    },
    {
      "cell_type": "code",
      "execution_count": null,
      "id": "e867f930",
      "metadata": {
        "id": "e867f930"
      },
      "outputs": [],
      "source": [
        "\n",
        "accuracy = accuracy_score(\n",
        "            y_true    = y_test['Default'],\n",
        "            y_pred    = y_test['Default_hat_optimal'],\n",
        "            normalize = True\n",
        "           )\n",
        "print(\"\")\n",
        "print(f\"El accuracy de test es: {100*accuracy}%\")\n",
        "\n"
      ]
    },
    {
      "cell_type": "code",
      "execution_count": null,
      "id": "fe3abb8d",
      "metadata": {
        "id": "fe3abb8d"
      },
      "outputs": [],
      "source": [
        "print(f\"El F1 de test es: {100*f1_score(    y_test['Default'], y_test['Default_hat_logit'])}%\")"
      ]
    },
    {
      "cell_type": "code",
      "execution_count": null,
      "id": "871df85a",
      "metadata": {
        "id": "871df85a"
      },
      "outputs": [],
      "source": [
        "# Matriz de confusión de las predicciones de test\n",
        "# ==============================================================================\n",
        "confusion_matrix = pd.crosstab(\n",
        "    y_test['Default'],\n",
        "    y_test['Default_hat_logit'],\n",
        "    rownames=['Real'],\n",
        "    colnames=['Predicción']\n",
        ")\n",
        "confusion_matrix"
      ]
    }
  ],
  "metadata": {
    "jupytext": {
      "formats": "ipynb,Rmd"
    },
    "kernelspec": {
      "display_name": "Python 3 (ipykernel)",
      "language": "python",
      "name": "python3"
    },
    "language_info": {
      "codemirror_mode": {
        "name": "ipython",
        "version": 3
      },
      "file_extension": ".py",
      "mimetype": "text/x-python",
      "name": "python",
      "nbconvert_exporter": "python",
      "pygments_lexer": "ipython3",
      "version": "3.11.3"
    },
    "toc": {
      "base_numbering": 1,
      "nav_menu": {},
      "number_sections": true,
      "sideBar": true,
      "skip_h1_title": false,
      "title_cell": "Table of Contents",
      "title_sidebar": "Contents",
      "toc_cell": false,
      "toc_position": {},
      "toc_section_display": true,
      "toc_window_display": false
    },
    "colab": {
      "provenance": []
    }
  },
  "nbformat": 4,
  "nbformat_minor": 5
}