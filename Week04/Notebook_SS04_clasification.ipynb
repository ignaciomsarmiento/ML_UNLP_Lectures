{
 "cells": [
  {
   "cell_type": "markdown",
   "id": "a952ad54-2218-4382-b2eb-d401d349f764",
   "metadata": {},
   "source": [
    "<div >\n",
    "    <img src = \"../banner/banner_ML_UNLP_1900_200.png\" />\n",
    "</div>"
   ]
  },
  {
   "cell_type": "markdown",
   "id": "f98598b7",
   "metadata": {},
   "source": [
    "<a target=\"_blank\" href=\"https://colab.research.google.com/github/ignaciomsarmiento/ML_UNLP_Lectures/blob/main/Week04/Notebook_SS04_clasification.ipynb\">\n",
    "  <img src=\"https://colab.research.google.com/assets/colab-badge.svg\" alt=\"Open In Colab\"/>\n",
    "</a>\n",
    "\n"
   ]
  },
  {
   "cell_type": "markdown",
   "id": "f7e57de4",
   "metadata": {},
   "source": [
    "# Classification"
   ]
  },
  {
   "cell_type": "markdown",
   "id": "303a3dcd",
   "metadata": {},
   "source": [
    "To work through the steps of probability-based classification, we’ll use a real dataset on loans and credit from a set of local lenders in Germany (taken from the UC Irvine Machine Learning Repository and cleaned for our purposes). \n",
    "\n",
    "Credit scoring is a classic problem of classification, and it remains one of the big application domains for ML: use previous loan results (default versus payment) to train a model that can predict the performance of potential new loans.\n",
    "\n",
    "\\begin{align}\n",
    "Default=f(x) + u\n",
    "\\end{align}\n",
    "\n",
    "where $Default=I(Default=1)$\n",
    "\n"
   ]
  },
  {
   "cell_type": "markdown",
   "id": "b9183a2e",
   "metadata": {},
   "source": [
    "# Dataset"
   ]
  },
  {
   "cell_type": "markdown",
   "id": "2fdab5a6",
   "metadata": {},
   "source": [
    "Let's load the modules:"
   ]
  },
  {
   "cell_type": "code",
   "execution_count": null,
   "id": "5eb2e2d9",
   "metadata": {},
   "outputs": [],
   "source": [
    "import numpy as np\n",
    "import pandas as pd"
   ]
  },
  {
   "cell_type": "code",
   "execution_count": null,
   "id": "247c94a5",
   "metadata": {},
   "outputs": [],
   "source": [
    "db = pd.read_csv(\"https://raw.githubusercontent.com/ignaciomsarmiento/datasets/main/credit.csv\")\n",
    "db.head()"
   ]
  },
  {
   "cell_type": "code",
   "execution_count": null,
   "id": "efd33e96",
   "metadata": {},
   "outputs": [],
   "source": [
    "db = db.iloc[:, 1:] #remove first column\n",
    "db.head()"
   ]
  },
  {
   "cell_type": "code",
   "execution_count": null,
   "id": "bb71045c",
   "metadata": {},
   "outputs": [],
   "source": [
    "db['Default'].value_counts(normalize=True) * 100"
   ]
  },
  {
   "cell_type": "code",
   "execution_count": null,
   "id": "bdf4ce56",
   "metadata": {},
   "outputs": [],
   "source": [
    "db['foreign'].value_counts(normalize=True) * 100\n"
   ]
  },
  {
   "cell_type": "code",
   "execution_count": null,
   "id": "ea0e0b3d",
   "metadata": {},
   "outputs": [],
   "source": [
    "import matplotlib.pyplot as plt\n",
    "from statsmodels.graphics.mosaicplot import mosaic\n",
    "\n",
    "# Assuming df is your DataFrame equivalent to the 'credit' data frame in R\n",
    "# and it contains 'Default' and 'history' columns\n",
    "\n",
    "# Create a mosaic plot\n",
    "mosaic(db, ['history', 'Default'], title='Mosaic Plot of Default by History')\n",
    "plt.ylabel('Default')\n",
    "plt.show()\n"
   ]
  },
  {
   "cell_type": "markdown",
   "id": "a5e5668c",
   "metadata": {},
   "source": [
    "## Estimación Logit\n",
    "\n",
    "\\begin{align}\n",
    "p_i &=\\frac{e^{X_i\\beta}}{1+e^{X_i\\beta}}\n",
    "\\end{align}\n"
   ]
  },
  {
   "cell_type": "code",
   "execution_count": null,
   "id": "baedd153",
   "metadata": {},
   "outputs": [],
   "source": [
    "import pandas as pd\n",
    "from sklearn.linear_model import LogisticRegression\n",
    "from sklearn.model_selection import train_test_split\n",
    "\n",
    "\n",
    "\n",
    "# Convert 'history' and 'purpose' into dummy variables\n",
    "db_dummies = pd.get_dummies(db, columns=['history', 'purpose','foreign'], drop_first=True)\n",
    "\n",
    "# Separate the independent and dependent variables\n",
    "X = db_dummies.drop('Default', axis=1)\n",
    "y = db_dummies['Default']\n"
   ]
  },
  {
   "cell_type": "code",
   "execution_count": null,
   "id": "d101b3fc",
   "metadata": {},
   "outputs": [],
   "source": [
    "X_train, X_test, y_train, y_test = train_test_split(\n",
    "                                        X,\n",
    "                                        y,\n",
    "                                        train_size   = 0.8,\n",
    "                                        random_state = 1234,\n",
    "                                        shuffle      = True\n",
    "                                    )\n",
    "\n",
    "\n"
   ]
  },
  {
   "cell_type": "code",
   "execution_count": null,
   "id": "a496bd79",
   "metadata": {},
   "outputs": [],
   "source": [
    "# Fit the logistic regression model\n",
    "logit_model = LogisticRegression(max_iter=200 )\n",
    "logit_model.fit(X_train,y_train)\n"
   ]
  },
  {
   "cell_type": "code",
   "execution_count": null,
   "id": "8e7dd376",
   "metadata": {},
   "outputs": [],
   "source": []
  },
  {
   "cell_type": "markdown",
   "id": "c872b7af",
   "metadata": {},
   "source": [
    "## Prediction\n",
    "\n",
    "\n",
    "\\begin{align}\n",
    "\\hat{p}_i &=\\frac{e^{X_i\\hat{\\beta}}}{1+e^{X_i\\hat{\\beta}}}\n",
    "\\end{align}"
   ]
  },
  {
   "cell_type": "code",
   "execution_count": null,
   "id": "0df635bd",
   "metadata": {},
   "outputs": [],
   "source": [
    "y_test=pd.DataFrame(y_test)\n",
    "y_test.head()"
   ]
  },
  {
   "cell_type": "code",
   "execution_count": null,
   "id": "9f58a43b",
   "metadata": {},
   "outputs": [],
   "source": [
    "\n",
    "# Predict the probabilities\n",
    "y_test['prob_hat'] = logit_model.predict_proba(X_test)[:, 1]\n",
    "\n",
    "# Display the first few rows of the specified columns\n",
    "y_test.head()\n"
   ]
  },
  {
   "cell_type": "markdown",
   "id": "1fe0b73e",
   "metadata": {},
   "source": [
    "# CARTs"
   ]
  },
  {
   "cell_type": "code",
   "execution_count": null,
   "id": "3473b64e",
   "metadata": {},
   "outputs": [],
   "source": [
    "from sklearn.tree import DecisionTreeClassifier\n",
    "\n",
    "# Creación del modelo\n",
    "# ------------------------------------------------------------------------------\n",
    "model_tree = DecisionTreeClassifier(\n",
    "            max_depth         = 5,\n",
    "            criterion         = 'gini',\n",
    "            random_state      = 123\n",
    "          )\n",
    "\n",
    "# Entrenamiento del modelo\n",
    "# ------------------------------------------------------------------------------\n",
    "model_tree.fit(X_train, y_train)\n",
    "\n"
   ]
  },
  {
   "cell_type": "code",
   "execution_count": null,
   "id": "ad3d65ac",
   "metadata": {},
   "outputs": [],
   "source": [
    "from sklearn.tree import plot_tree\n",
    "\n",
    "# Estructura del árbol creado\n",
    "# ------------------------------------------------------------------------------\n",
    "fig, ax = plt.subplots(figsize=(13, 6))\n",
    "\n",
    "print(f\"Profundidad del árbol: {model_tree.get_depth()}\")\n",
    "print(f\"Número de nodos terminales: {model_tree.get_n_leaves()}\")\n",
    "\n",
    "plot = plot_tree(\n",
    "            decision_tree = model_tree,\n",
    "            feature_names = X_train.columns,\n",
    "            class_names   = 'ventas_altas',\n",
    "            filled        = True,\n",
    "            impurity      = False,\n",
    "            fontsize      = 7,\n",
    "            ax            = ax\n",
    "       )\n",
    "\n"
   ]
  },
  {
   "cell_type": "code",
   "execution_count": null,
   "id": "9df45107",
   "metadata": {},
   "outputs": [],
   "source": [
    "\n",
    "# Predict the probabilities\n",
    "y_test['prob_hat_tree'] = model_tree.predict_proba(X_test)[:, 1]\n",
    "\n",
    "# Display the first few rows of the specified columns\n",
    "y_test.head()\n"
   ]
  },
  {
   "cell_type": "markdown",
   "id": "c3c2227c",
   "metadata": {},
   "source": [
    "### Pruning"
   ]
  },
  {
   "cell_type": "code",
   "execution_count": null,
   "id": "5af3aa2b",
   "metadata": {},
   "outputs": [],
   "source": [
    "from sklearn.model_selection import GridSearchCV\n",
    "\n",
    "# Post pruning (const complexity pruning) por validación cruzada\n",
    "# ------------------------------------------------------------------------------\n",
    "# Valores de ccp_alpha evaluados\n",
    "param_grid = {'ccp_alpha':np.linspace(0, 0.005, 40)}\n",
    "param_grid"
   ]
  },
  {
   "cell_type": "code",
   "execution_count": null,
   "id": "5adcefa8",
   "metadata": {},
   "outputs": [],
   "source": [
    "from sklearn.metrics import make_scorer, f1_score\n",
    "\n",
    "f1_scorer = make_scorer(f1_score)\n",
    "\n",
    "\n",
    "\n",
    "# Búsqueda por validación cruzada\n",
    "grid_tree = GridSearchCV(\n",
    "        # El árbol se crece al máximo posible antes de aplicar el pruning\n",
    "        estimator = DecisionTreeClassifier(\n",
    "                            max_depth         = None,\n",
    "                            min_samples_split = 2,\n",
    "                            min_samples_leaf  = 1,\n",
    "                            random_state      = 123\n",
    "                       ),\n",
    "        param_grid = param_grid,\n",
    "        scoring    = f1_scorer,\n",
    "        cv         = 5,\n",
    "        refit      = True,\n",
    "        return_train_score = True\n",
    "      )\n",
    "\n",
    "grid_tree.fit(X_train, y_train)\n"
   ]
  },
  {
   "cell_type": "code",
   "execution_count": null,
   "id": "276fa2b1",
   "metadata": {},
   "outputs": [],
   "source": [
    "fig, ax = plt.subplots(figsize=(6, 3.84))\n",
    "scores = pd.DataFrame(grid_tree.cv_results_)\n",
    "scores.plot(x='param_ccp_alpha', y='mean_train_score', ax=ax)\n",
    "scores.plot(x='param_ccp_alpha', y='mean_test_score', ax=ax)\n",
    "ax.set_title(\"Error de validacion cruzada vs hiperparámetro ccp_alpha\");\n"
   ]
  },
  {
   "cell_type": "code",
   "execution_count": null,
   "id": "99b447e5",
   "metadata": {},
   "outputs": [],
   "source": [
    "grid_tree.best_params_"
   ]
  },
  {
   "cell_type": "code",
   "execution_count": null,
   "id": "16c34ba1",
   "metadata": {},
   "outputs": [],
   "source": [
    "# Estructura del árbol final\n",
    "# ------------------------------------------------------------------------------\n",
    "model_tree_final = grid_tree.best_estimator_\n",
    "print(f\"Profundidad del árbol: {model_tree_final.get_depth()}\")\n",
    "print(f\"Número de nodos terminales: {model_tree_final.get_n_leaves()}\")"
   ]
  },
  {
   "cell_type": "code",
   "execution_count": null,
   "id": "d39a2d28",
   "metadata": {},
   "outputs": [],
   "source": [
    "\n",
    "# Predict the probabilities\n",
    "y_test['prob_hat_tree_cp'] = model_tree_final.predict_proba(X_test)[:, 1]\n",
    "\n",
    "# Display the first few rows of the specified columns\n",
    "y_test.head()\n"
   ]
  },
  {
   "cell_type": "markdown",
   "id": "3cf95004",
   "metadata": {},
   "source": [
    "## Random Forests"
   ]
  },
  {
   "cell_type": "code",
   "execution_count": null,
   "id": "49e92051",
   "metadata": {},
   "outputs": [],
   "source": [
    "from sklearn.ensemble import RandomForestClassifier\n",
    "from sklearn.model_selection import RepeatedKFold\n",
    "import multiprocessing"
   ]
  },
  {
   "cell_type": "code",
   "execution_count": null,
   "id": "420d3e85",
   "metadata": {},
   "outputs": [],
   "source": [
    "\n",
    "\n",
    "# Grid de hiperparámetros evaluados\n",
    "# ==============================================================================\n",
    "param_grid = {\n",
    "    'n_estimators': [150,200],\n",
    "    'max_features': [5, 7, 9],\n",
    "    'max_depth'   : [None, 3, 10, 20],\n",
    "    'criterion'   : ['gini', 'entropy']\n",
    "}\n",
    "\n",
    "# Búsqueda por grid search con validación cruzada\n",
    "# ==============================================================================\n",
    "grid_forest = GridSearchCV(\n",
    "        estimator  = RandomForestClassifier(random_state = 123),\n",
    "        param_grid = param_grid,\n",
    "        scoring    = 'accuracy',\n",
    "        n_jobs     = multiprocessing.cpu_count() - 1,\n",
    "        cv         = RepeatedKFold(n_splits=5, n_repeats=3, random_state=123), \n",
    "        refit      = True,\n",
    "        verbose    = 0,\n",
    "        return_train_score = True\n",
    "       )\n",
    "\n",
    "grid_forest.fit(X = X_train, y = y_train)\n",
    "\n"
   ]
  },
  {
   "cell_type": "code",
   "execution_count": null,
   "id": "7a918ef7",
   "metadata": {},
   "outputs": [],
   "source": [
    "\n",
    "# Resultados\n",
    "# ==============================================================================\n",
    "resultados = pd.DataFrame(grid_forest.cv_results_)\n",
    "resultados.filter(regex = '(param*|mean_t|std_t)') \\\n",
    "    .drop(columns = 'params') \\\n",
    "    .sort_values('mean_test_score', ascending = False) \\\n",
    "    .head(4)\n"
   ]
  },
  {
   "cell_type": "code",
   "execution_count": null,
   "id": "88eab19c",
   "metadata": {},
   "outputs": [],
   "source": [
    "\n",
    "\n",
    "# Mejores hiperparámetros por validación cruzada\n",
    "# ==============================================================================\n",
    "print(\"----------------------------------------\")\n",
    "print(\"Mejores hiperparámetros encontrados (cv)\")\n",
    "print(\"----------------------------------------\")\n",
    "print(grid_forest.best_params_, \":\", grid_forest.best_score_, grid_forest.scoring)\n",
    "\n"
   ]
  },
  {
   "cell_type": "code",
   "execution_count": null,
   "id": "d0e327cd",
   "metadata": {},
   "outputs": [],
   "source": [
    "\n",
    "\n",
    "model_grid_forest_final = grid_forest.best_estimator_\n",
    "\n",
    "# Predict the probabilities\n",
    "y_test['prob_hat_forest'] = model_grid_forest_final.predict_proba(X_test)[:, 1]\n",
    "\n",
    "# Display the first few rows of the specified columns\n",
    "y_test.head()\n"
   ]
  },
  {
   "cell_type": "markdown",
   "id": "52756bfe",
   "metadata": {},
   "source": [
    "## Importancia de predictores\n",
    "### Importancia por pureza de nodos"
   ]
  },
  {
   "cell_type": "code",
   "execution_count": null,
   "id": "cf8141fc",
   "metadata": {},
   "outputs": [],
   "source": [
    "importancia_predictores = pd.DataFrame(\n",
    "                            {'predictor': X_train.columns,\n",
    "                             'importancia': model_grid_forest_final.feature_importances_}\n",
    "                            )\n",
    "print(\"Importancia de los predictores en el modelo\")\n",
    "print(\"-------------------------------------------\")\n",
    "importancia_predictores.sort_values('importancia', ascending=False)"
   ]
  },
  {
   "cell_type": "markdown",
   "id": "23d04b4a",
   "metadata": {},
   "source": [
    "###  Importancia por permutación"
   ]
  },
  {
   "cell_type": "code",
   "execution_count": null,
   "id": "8b831ffb",
   "metadata": {},
   "outputs": [],
   "source": [
    "from sklearn.inspection import permutation_importance\n",
    "\n",
    "importancia = permutation_importance(\n",
    "                estimator    = model_grid_forest_final,\n",
    "                X            = X_train,\n",
    "                y            = y_train,\n",
    "                n_repeats    = 5,\n",
    "                scoring      = 'accuracy',\n",
    "                n_jobs       = multiprocessing.cpu_count() - 1,\n",
    "                random_state = 123\n",
    "             )\n",
    "\n",
    "# Se almacenan los resultados (media y desviación) en un dataframe\n",
    "df_importancia = pd.DataFrame(\n",
    "                    {k: importancia[k] for k in ['importances_mean', 'importances_std']}\n",
    "                 )\n",
    "df_importancia['feature'] = X_train.columns\n",
    "df_importancia.sort_values('importances_mean', ascending=False)\n",
    "\n"
   ]
  },
  {
   "cell_type": "markdown",
   "id": "72fa900c",
   "metadata": {},
   "source": [
    "# AdaBoost"
   ]
  },
  {
   "cell_type": "code",
   "execution_count": null,
   "id": "2979a186",
   "metadata": {},
   "outputs": [],
   "source": [
    "from sklearn.ensemble import AdaBoostClassifier"
   ]
  },
  {
   "cell_type": "code",
   "execution_count": null,
   "id": "feeb82d8",
   "metadata": {},
   "outputs": [],
   "source": [
    "model_ada= AdaBoostClassifier(\n",
    "                DecisionTreeClassifier(max_depth=2),\n",
    "                                      n_estimators=300\n",
    ")"
   ]
  },
  {
   "cell_type": "code",
   "execution_count": null,
   "id": "62421d2a",
   "metadata": {},
   "outputs": [],
   "source": [
    "# Entrenamiento del modelo\n",
    "# ------------------------------------------------------------------------------\n",
    "model_ada.fit(X_train, y_train)"
   ]
  },
  {
   "cell_type": "code",
   "execution_count": null,
   "id": "1a3ca546",
   "metadata": {},
   "outputs": [],
   "source": [
    "# Predict the probabilities\n",
    "y_test['prob_hat_ada'] = model_ada.predict_proba(X_test)[:, 1]\n",
    "\n",
    "# Display the first few rows of the specified columns\n",
    "y_test.head()\n"
   ]
  },
  {
   "cell_type": "markdown",
   "id": "2a463d65",
   "metadata": {},
   "source": [
    "# Classification and Missclasification"
   ]
  },
  {
   "cell_type": "markdown",
   "id": "54adb2d6",
   "metadata": {},
   "source": [
    "\n",
    "\n",
    "\\begin{align}\n",
    "\\hat{Y}_i= 1[\\hat{p}_i >0.5]\n",
    "\\end{align}"
   ]
  },
  {
   "cell_type": "code",
   "execution_count": null,
   "id": "99341d2c",
   "metadata": {},
   "outputs": [],
   "source": [
    "\n",
    "# Define the rule (threshold)\n",
    "rule = 0.5\n",
    "\n",
    "# Create the predicted class labels based on the rule\n",
    "y_test['Default_hat_logit'] = (y_test['prob_hat'] > rule).astype(int)\n",
    "\n",
    "# Display the first few rows of the specified columns\n",
    "y_test[['Default', 'prob_hat', 'Default_hat_logit']].head(30)"
   ]
  },
  {
   "cell_type": "code",
   "execution_count": null,
   "id": "72427d20",
   "metadata": {},
   "outputs": [],
   "source": [
    "from sklearn.metrics import accuracy_score\n",
    "\n",
    "accuracy = accuracy_score(\n",
    "            y_true    = y_test['Default'],\n",
    "            y_pred    = y_test['Default_hat_logit'],\n",
    "            normalize = True\n",
    "           )\n",
    "print(\"\")\n",
    "print(f\"El accuracy de test es: {100*accuracy}%\")\n",
    "\n"
   ]
  },
  {
   "cell_type": "code",
   "execution_count": null,
   "id": "82181165",
   "metadata": {},
   "outputs": [],
   "source": [
    "from sklearn.metrics import ConfusionMatrixDisplay\n",
    "\n",
    "# Matriz de confusión de las predicciones de test\n",
    "# ==============================================================================\n",
    "confusion_matrix = pd.crosstab(\n",
    "    y_test['Default'],\n",
    "    y_test['Default_hat_logit'],\n",
    "    rownames=['Real'],\n",
    "    colnames=['Predicción']\n",
    ")\n",
    "confusion_matrix\n",
    "\n"
   ]
  },
  {
   "cell_type": "markdown",
   "id": "5c141aa8",
   "metadata": {},
   "source": [
    "## Trees"
   ]
  },
  {
   "cell_type": "code",
   "execution_count": null,
   "id": "a0f8d5a3",
   "metadata": {},
   "outputs": [],
   "source": [
    "\n",
    "# Create the predicted class labels based on the rule\n",
    "y_test['Default_hat_tree'] = (y_test['prob_hat_tree'] > rule).astype(int)\n"
   ]
  },
  {
   "cell_type": "code",
   "execution_count": null,
   "id": "12a77000",
   "metadata": {},
   "outputs": [],
   "source": [
    "\n",
    "accuracy = accuracy_score(\n",
    "            y_true    = y_test['Default'],\n",
    "            y_pred    = y_test['Default_hat_tree'],\n",
    "            normalize = True\n",
    "           )\n",
    "print(\"\")\n",
    "print(f\"El accuracy de test es: {100*accuracy}%\")\n",
    "\n"
   ]
  },
  {
   "cell_type": "code",
   "execution_count": null,
   "id": "67e4deb3",
   "metadata": {},
   "outputs": [],
   "source": [
    "\n",
    "# Matriz de confusión de las predicciones de test\n",
    "# ==============================================================================\n",
    "confusion_matrix = pd.crosstab(\n",
    "    y_test['Default'],\n",
    "    y_test['Default_hat_tree'],\n",
    "    rownames=['Real'],\n",
    "    colnames=['Predicción']\n",
    ")\n",
    "confusion_matrix"
   ]
  },
  {
   "cell_type": "markdown",
   "id": "e7bd5d51",
   "metadata": {},
   "source": [
    "## Trees CP"
   ]
  },
  {
   "cell_type": "code",
   "execution_count": null,
   "id": "358a2c9e",
   "metadata": {},
   "outputs": [],
   "source": [
    "\n",
    "# Create the predicted class labels based on the rule\n",
    "y_test['Default_hat_tree_cp'] = (y_test['prob_hat_tree_cp'] > rule).astype(int)\n"
   ]
  },
  {
   "cell_type": "code",
   "execution_count": null,
   "id": "bd5d2ff6",
   "metadata": {},
   "outputs": [],
   "source": [
    "\n",
    "accuracy = accuracy_score(\n",
    "            y_true    = y_test['Default'],\n",
    "            y_pred    = y_test['Default_hat_tree_cp'],\n",
    "            normalize = True\n",
    "           )\n",
    "print(\"\")\n",
    "print(f\"El accuracy de test es: {100*accuracy}%\")\n",
    "\n"
   ]
  },
  {
   "cell_type": "code",
   "execution_count": null,
   "id": "c93166c5",
   "metadata": {},
   "outputs": [],
   "source": [
    "# Matriz de confusión de las predicciones de test\n",
    "# ==============================================================================\n",
    "confusion_matrix = pd.crosstab(\n",
    "    y_test['Default'],\n",
    "    y_test['Default_hat_tree_cp'],\n",
    "    rownames=['Real'],\n",
    "    colnames=['Predicción']\n",
    ")\n",
    "confusion_matrix"
   ]
  },
  {
   "cell_type": "markdown",
   "id": "54b36b52",
   "metadata": {},
   "source": [
    "## Forest"
   ]
  },
  {
   "cell_type": "code",
   "execution_count": null,
   "id": "21c40a19",
   "metadata": {},
   "outputs": [],
   "source": [
    "\n",
    "# Create the predicted class labels based on the rule\n",
    "y_test['Default_hat_forest'] = (y_test['prob_hat_forest'] > rule).astype(int)\n"
   ]
  },
  {
   "cell_type": "code",
   "execution_count": null,
   "id": "c9b95572",
   "metadata": {},
   "outputs": [],
   "source": [
    "\n",
    "accuracy = accuracy_score(\n",
    "            y_true    = y_test['Default'],\n",
    "            y_pred    = y_test['Default_hat_forest'],\n",
    "            normalize = True\n",
    "           )\n",
    "print(\"\")\n",
    "print(f\"El accuracy de test es: {100*accuracy}%\")\n",
    "\n"
   ]
  },
  {
   "cell_type": "code",
   "execution_count": null,
   "id": "593bb283",
   "metadata": {},
   "outputs": [],
   "source": [
    "# Matriz de confusión de las predicciones de test\n",
    "# ==============================================================================\n",
    "confusion_matrix = pd.crosstab(\n",
    "    y_test['Default'],\n",
    "    y_test['Default_hat_forest'],\n",
    "    rownames=['Real'],\n",
    "    colnames=['Predicción']\n",
    ")\n",
    "confusion_matrix"
   ]
  },
  {
   "cell_type": "markdown",
   "id": "40af15e4",
   "metadata": {},
   "source": [
    "## AdaBoost"
   ]
  },
  {
   "cell_type": "code",
   "execution_count": null,
   "id": "35a3129f",
   "metadata": {},
   "outputs": [],
   "source": [
    "\n",
    "# Create the predicted class labels based on the rule\n",
    "y_test['Default_hat_ada'] = (y_test['prob_hat_ada'] > rule).astype(int)\n"
   ]
  },
  {
   "cell_type": "code",
   "execution_count": null,
   "id": "1bc9ce55",
   "metadata": {},
   "outputs": [],
   "source": [
    "\n",
    "accuracy = accuracy_score(\n",
    "            y_true    = y_test['Default'],\n",
    "            y_pred    = y_test['Default_hat_ada'],\n",
    "            normalize = True\n",
    "           )\n",
    "print(\"\")\n",
    "print(f\"El accuracy de test es: {100*accuracy}%\")\n",
    "\n"
   ]
  },
  {
   "cell_type": "code",
   "execution_count": null,
   "id": "0d8c0b30",
   "metadata": {},
   "outputs": [],
   "source": [
    "# Matriz de confusión de las predicciones de test\n",
    "# ==============================================================================\n",
    "confusion_matrix = pd.crosstab(\n",
    "    y_test['Default'],\n",
    "    y_test['Default_hat_ada'],\n",
    "    rownames=['Real'],\n",
    "    colnames=['Predicción']\n",
    ")\n",
    "confusion_matrix"
   ]
  },
  {
   "cell_type": "code",
   "execution_count": null,
   "id": "3dc3749d",
   "metadata": {},
   "outputs": [],
   "source": [
    "from sklearn.metrics import f1_score\n",
    "\n",
    "\n",
    "\n",
    "# Dictionary to hold F1 scores\n",
    "f1_scores = {}\n",
    "\n",
    "f1_scores['Logit'] = f1_score(    y_test['Default'], y_test['Default_hat_logit'])\n",
    "f1_scores['CART'] = f1_score(    y_test['Default'], y_test['Default_hat_tree'])\n",
    "f1_scores['CART CP'] = f1_score(    y_test['Default'], y_test['Default_hat_tree_cp'])\n",
    "f1_scores['Forest'] = f1_score(    y_test['Default'], y_test['Default_hat_forest'])\n",
    "f1_scores['AdaBoost'] = f1_score(    y_test['Default'], y_test['Default_hat_ada'])\n"
   ]
  },
  {
   "cell_type": "code",
   "execution_count": null,
   "id": "fece858a",
   "metadata": {},
   "outputs": [],
   "source": [
    "f1_df = pd.DataFrame(list(f1_scores.items()), columns=['Model', 'F1 Score'])\n",
    "print(f1_df)"
   ]
  },
  {
   "cell_type": "code",
   "execution_count": null,
   "id": "20e720d1",
   "metadata": {},
   "outputs": [],
   "source": [
    "from sklearn.metrics import roc_curve, auc\n",
    "\n",
    "\n",
    "models = {\n",
    "    'Logit': logit_model,\n",
    "    'CART': model_tree,\n",
    "    'CART CP': model_tree_final,\n",
    "    'Random Forest': model_grid_forest_final,\n",
    "    'AdaBoost': model_ada\n",
    "}\n",
    "\n",
    "auc_scores = {}\n"
   ]
  },
  {
   "cell_type": "code",
   "execution_count": null,
   "id": "a8e3ba7f",
   "metadata": {},
   "outputs": [],
   "source": [
    "\n",
    "for name, model in models.items():\n",
    "    model.fit(X_train, y_train)\n",
    "    y_pred_prob = model.predict_proba(X_test)[:, 1]\n",
    "    fpr, tpr, _ = roc_curve(y_test['Default'], y_pred_prob)\n",
    "    roc_auc = auc(fpr, tpr)\n",
    "    auc_scores[name] = roc_auc\n",
    "\n",
    "    # Plot ROC curve\n",
    "    plt.plot(fpr, tpr, label=f'{name} (area = {roc_auc:.2f})')\n",
    "    plt.plot([0, 1], [0, 1], 'k--')  # Dashed diagonal\n",
    "    plt.xlabel('False Positive Rate')\n",
    "    plt.ylabel('True Positive Rate')\n",
    "    plt.title('ROC Curves')\n",
    "    plt.legend(loc='lower right')\n",
    "    plt.show()"
   ]
  },
  {
   "cell_type": "code",
   "execution_count": null,
   "id": "78efc6f5",
   "metadata": {},
   "outputs": [],
   "source": [
    "# Create DataFrame for AUC scores\n",
    "auc_df = pd.DataFrame(list(auc_scores.items()), columns=['Model', 'AUC Score'])\n",
    "auc_df"
   ]
  },
  {
   "cell_type": "code",
   "execution_count": null,
   "id": "43d22826",
   "metadata": {},
   "outputs": [],
   "source": [
    "fpr, tpr, thresholds = roc_curve(y_test['Default'], y_test['prob_hat'])\n",
    "\n",
    "# Calculate the Euclidean distance for each point on the ROC curve from the top-left corner\n",
    "distances = np.sqrt((1 - tpr) ** 2 + fpr ** 2)\n",
    "\n",
    "# Find the optimal threshold\n",
    "optimal_idx = np.argmin(distances)\n",
    "optimal_threshold = thresholds[optimal_idx]\n",
    "optimal_threshold"
   ]
  },
  {
   "cell_type": "code",
   "execution_count": null,
   "id": "b0173db3",
   "metadata": {},
   "outputs": [],
   "source": [
    "\n",
    "plt.figure()\n",
    "plt.plot(fpr, tpr, label='ROC curve')\n",
    "plt.plot(fpr[optimal_idx], tpr[optimal_idx], 'bo', label='Optimal Threshold')\n",
    "plt.fill_between(fpr, tpr, alpha=0.2)\n",
    "plt.plot([0, 1], [0, 1], 'k--')\n",
    "plt.xlim([0.0, 1.0])\n",
    "plt.ylim([0.0, 1.05])\n",
    "plt.xlabel('False Positive Rate')\n",
    "plt.ylabel('True Positive Rate')\n",
    "plt.title('Receiver Operating Characteristic')\n",
    "plt.legend(loc=\"lower right\")\n",
    "plt.show()\n"
   ]
  },
  {
   "cell_type": "code",
   "execution_count": null,
   "id": "90771c32",
   "metadata": {},
   "outputs": [],
   "source": [
    "\n",
    "# Create the predicted class labels based on the rule\n",
    "y_test['Default_hat_optimal'] = (y_test['prob_hat'] > optimal_threshold).astype(int)\n"
   ]
  },
  {
   "cell_type": "code",
   "execution_count": null,
   "id": "b6086e36",
   "metadata": {},
   "outputs": [],
   "source": [
    "\n",
    "accuracy = accuracy_score(\n",
    "            y_true    = y_test['Default'],\n",
    "            y_pred    = y_test['Default_hat_optimal'],\n",
    "            normalize = True\n",
    "           )\n",
    "print(\"\")\n",
    "print(f\"El accuracy de test es: {100*accuracy}%\")\n",
    "\n"
   ]
  },
  {
   "cell_type": "code",
   "execution_count": null,
   "id": "44d173d0",
   "metadata": {},
   "outputs": [],
   "source": [
    "print(f\"El F1 de test es: {100*f1_score(    y_test['Default'], y_test['Default_hat_logit'])}%\")"
   ]
  },
  {
   "cell_type": "code",
   "execution_count": null,
   "id": "96a45eff",
   "metadata": {},
   "outputs": [],
   "source": [
    "# Matriz de confusión de las predicciones de test\n",
    "# ==============================================================================\n",
    "confusion_matrix = pd.crosstab(\n",
    "    y_test['Default'],\n",
    "    y_test['Default_hat_logit'],\n",
    "    rownames=['Real'],\n",
    "    colnames=['Predicción']\n",
    ")\n",
    "confusion_matrix"
   ]
  }
 ],
 "metadata": {
  "jupytext": {
   "formats": "ipynb,Rmd"
  },
  "kernelspec": {
   "display_name": "Python 3 (ipykernel)",
   "language": "python",
   "name": "python3"
  },
  "language_info": {
   "codemirror_mode": {
    "name": "ipython",
    "version": 3
   },
   "file_extension": ".py",
   "mimetype": "text/x-python",
   "name": "python",
   "nbconvert_exporter": "python",
   "pygments_lexer": "ipython3",
   "version": "3.11.3"
  },
  "toc": {
   "base_numbering": 1,
   "nav_menu": {},
   "number_sections": true,
   "sideBar": true,
   "skip_h1_title": false,
   "title_cell": "Table of Contents",
   "title_sidebar": "Contents",
   "toc_cell": false,
   "toc_position": {},
   "toc_section_display": true,
   "toc_window_display": false
  }
 },
 "nbformat": 4,
 "nbformat_minor": 5
}
