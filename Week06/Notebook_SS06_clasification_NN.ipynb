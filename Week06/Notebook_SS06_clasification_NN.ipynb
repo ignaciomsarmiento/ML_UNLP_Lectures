{
 "cells": [
  {
   "cell_type": "markdown",
   "id": "a952ad54-2218-4382-b2eb-d401d349f764",
   "metadata": {},
   "source": [
    "<div >\n",
    "    <img src = \"../banner/banner_ML_UNLP_1900_200.png\" />\n",
    "</div>"
   ]
  },
  {
   "cell_type": "markdown",
   "id": "da2a426e",
   "metadata": {},
   "source": [
    "<a target=\"_blank\" href=\"https://colab.research.google.com/github/ignaciomsarmiento/ML_UNLP_Lectures/blob/main/Week04/Notebook_SS04_clasification.ipynb\">\n",
    "  <img src=\"https://colab.research.google.com/assets/colab-badge.svg\" alt=\"Open In Colab\"/>\n",
    "</a>\n",
    "\n"
   ]
  },
  {
   "cell_type": "markdown",
   "id": "f7e57de4",
   "metadata": {},
   "source": [
    "# Classification"
   ]
  },
  {
   "cell_type": "markdown",
   "id": "303a3dcd",
   "metadata": {},
   "source": [
    "To work through the steps of probability-based classification, we’ll use a real dataset on loans and credit from a set of local lenders in Germany (taken from the UC Irvine Machine Learning Repository and cleaned for our purposes). \n",
    "\n",
    "Credit scoring is a classic problem of classification, and it remains one of the big application domains for ML: use previous loan results (default versus payment) to train a model that can predict the performance of potential new loans.\n",
    "\n",
    "\\begin{align}\n",
    "Default=f(x) + u\n",
    "\\end{align}\n",
    "\n",
    "where $Default=I(Default=1)$\n",
    "\n"
   ]
  },
  {
   "cell_type": "markdown",
   "id": "b9183a2e",
   "metadata": {},
   "source": [
    "# Dataset"
   ]
  },
  {
   "cell_type": "markdown",
   "id": "2fdab5a6",
   "metadata": {},
   "source": [
    "Let's load the modules:"
   ]
  },
  {
   "cell_type": "code",
   "execution_count": 1,
   "id": "5eb2e2d9",
   "metadata": {},
   "outputs": [],
   "source": [
    "import numpy as np\n",
    "import pandas as pd"
   ]
  },
  {
   "cell_type": "code",
   "execution_count": 2,
   "id": "247c94a5",
   "metadata": {
    "scrolled": true
   },
   "outputs": [
    {
     "data": {
      "text/html": [
       "<div>\n",
       "<style scoped>\n",
       "    .dataframe tbody tr th:only-of-type {\n",
       "        vertical-align: middle;\n",
       "    }\n",
       "\n",
       "    .dataframe tbody tr th {\n",
       "        vertical-align: top;\n",
       "    }\n",
       "\n",
       "    .dataframe thead th {\n",
       "        text-align: right;\n",
       "    }\n",
       "</style>\n",
       "<table border=\"1\" class=\"dataframe\">\n",
       "  <thead>\n",
       "    <tr style=\"text-align: right;\">\n",
       "      <th></th>\n",
       "      <th>Unnamed: 0</th>\n",
       "      <th>Default</th>\n",
       "      <th>duration</th>\n",
       "      <th>amount</th>\n",
       "      <th>installment</th>\n",
       "      <th>age</th>\n",
       "      <th>history</th>\n",
       "      <th>purpose</th>\n",
       "      <th>foreign</th>\n",
       "      <th>rent</th>\n",
       "    </tr>\n",
       "  </thead>\n",
       "  <tbody>\n",
       "    <tr>\n",
       "      <th>0</th>\n",
       "      <td>1</td>\n",
       "      <td>0</td>\n",
       "      <td>6</td>\n",
       "      <td>1169</td>\n",
       "      <td>4</td>\n",
       "      <td>67</td>\n",
       "      <td>terrible</td>\n",
       "      <td>goods/repair</td>\n",
       "      <td>foreign</td>\n",
       "      <td>False</td>\n",
       "    </tr>\n",
       "    <tr>\n",
       "      <th>1</th>\n",
       "      <td>2</td>\n",
       "      <td>1</td>\n",
       "      <td>48</td>\n",
       "      <td>5951</td>\n",
       "      <td>2</td>\n",
       "      <td>22</td>\n",
       "      <td>poor</td>\n",
       "      <td>goods/repair</td>\n",
       "      <td>foreign</td>\n",
       "      <td>False</td>\n",
       "    </tr>\n",
       "    <tr>\n",
       "      <th>2</th>\n",
       "      <td>3</td>\n",
       "      <td>0</td>\n",
       "      <td>12</td>\n",
       "      <td>2096</td>\n",
       "      <td>2</td>\n",
       "      <td>49</td>\n",
       "      <td>terrible</td>\n",
       "      <td>edu</td>\n",
       "      <td>foreign</td>\n",
       "      <td>False</td>\n",
       "    </tr>\n",
       "    <tr>\n",
       "      <th>3</th>\n",
       "      <td>4</td>\n",
       "      <td>0</td>\n",
       "      <td>42</td>\n",
       "      <td>7882</td>\n",
       "      <td>2</td>\n",
       "      <td>45</td>\n",
       "      <td>poor</td>\n",
       "      <td>goods/repair</td>\n",
       "      <td>foreign</td>\n",
       "      <td>False</td>\n",
       "    </tr>\n",
       "    <tr>\n",
       "      <th>4</th>\n",
       "      <td>5</td>\n",
       "      <td>1</td>\n",
       "      <td>24</td>\n",
       "      <td>4870</td>\n",
       "      <td>3</td>\n",
       "      <td>53</td>\n",
       "      <td>poor</td>\n",
       "      <td>newcar</td>\n",
       "      <td>foreign</td>\n",
       "      <td>False</td>\n",
       "    </tr>\n",
       "  </tbody>\n",
       "</table>\n",
       "</div>"
      ],
      "text/plain": [
       "   Unnamed: 0  Default  duration  amount  installment  age   history  \\\n",
       "0           1        0         6    1169            4   67  terrible   \n",
       "1           2        1        48    5951            2   22      poor   \n",
       "2           3        0        12    2096            2   49  terrible   \n",
       "3           4        0        42    7882            2   45      poor   \n",
       "4           5        1        24    4870            3   53      poor   \n",
       "\n",
       "        purpose  foreign   rent  \n",
       "0  goods/repair  foreign  False  \n",
       "1  goods/repair  foreign  False  \n",
       "2           edu  foreign  False  \n",
       "3  goods/repair  foreign  False  \n",
       "4        newcar  foreign  False  "
      ]
     },
     "execution_count": 2,
     "metadata": {},
     "output_type": "execute_result"
    }
   ],
   "source": [
    "db = pd.read_csv(\"https://raw.githubusercontent.com/ignaciomsarmiento/datasets/main/credit.csv\")\n",
    "db.head()"
   ]
  },
  {
   "cell_type": "code",
   "execution_count": 3,
   "id": "efd33e96",
   "metadata": {},
   "outputs": [
    {
     "data": {
      "text/html": [
       "<div>\n",
       "<style scoped>\n",
       "    .dataframe tbody tr th:only-of-type {\n",
       "        vertical-align: middle;\n",
       "    }\n",
       "\n",
       "    .dataframe tbody tr th {\n",
       "        vertical-align: top;\n",
       "    }\n",
       "\n",
       "    .dataframe thead th {\n",
       "        text-align: right;\n",
       "    }\n",
       "</style>\n",
       "<table border=\"1\" class=\"dataframe\">\n",
       "  <thead>\n",
       "    <tr style=\"text-align: right;\">\n",
       "      <th></th>\n",
       "      <th>Default</th>\n",
       "      <th>duration</th>\n",
       "      <th>amount</th>\n",
       "      <th>installment</th>\n",
       "      <th>age</th>\n",
       "      <th>history</th>\n",
       "      <th>purpose</th>\n",
       "      <th>foreign</th>\n",
       "      <th>rent</th>\n",
       "    </tr>\n",
       "  </thead>\n",
       "  <tbody>\n",
       "    <tr>\n",
       "      <th>0</th>\n",
       "      <td>0</td>\n",
       "      <td>6</td>\n",
       "      <td>1169</td>\n",
       "      <td>4</td>\n",
       "      <td>67</td>\n",
       "      <td>terrible</td>\n",
       "      <td>goods/repair</td>\n",
       "      <td>foreign</td>\n",
       "      <td>False</td>\n",
       "    </tr>\n",
       "    <tr>\n",
       "      <th>1</th>\n",
       "      <td>1</td>\n",
       "      <td>48</td>\n",
       "      <td>5951</td>\n",
       "      <td>2</td>\n",
       "      <td>22</td>\n",
       "      <td>poor</td>\n",
       "      <td>goods/repair</td>\n",
       "      <td>foreign</td>\n",
       "      <td>False</td>\n",
       "    </tr>\n",
       "    <tr>\n",
       "      <th>2</th>\n",
       "      <td>0</td>\n",
       "      <td>12</td>\n",
       "      <td>2096</td>\n",
       "      <td>2</td>\n",
       "      <td>49</td>\n",
       "      <td>terrible</td>\n",
       "      <td>edu</td>\n",
       "      <td>foreign</td>\n",
       "      <td>False</td>\n",
       "    </tr>\n",
       "    <tr>\n",
       "      <th>3</th>\n",
       "      <td>0</td>\n",
       "      <td>42</td>\n",
       "      <td>7882</td>\n",
       "      <td>2</td>\n",
       "      <td>45</td>\n",
       "      <td>poor</td>\n",
       "      <td>goods/repair</td>\n",
       "      <td>foreign</td>\n",
       "      <td>False</td>\n",
       "    </tr>\n",
       "    <tr>\n",
       "      <th>4</th>\n",
       "      <td>1</td>\n",
       "      <td>24</td>\n",
       "      <td>4870</td>\n",
       "      <td>3</td>\n",
       "      <td>53</td>\n",
       "      <td>poor</td>\n",
       "      <td>newcar</td>\n",
       "      <td>foreign</td>\n",
       "      <td>False</td>\n",
       "    </tr>\n",
       "  </tbody>\n",
       "</table>\n",
       "</div>"
      ],
      "text/plain": [
       "   Default  duration  amount  installment  age   history       purpose  \\\n",
       "0        0         6    1169            4   67  terrible  goods/repair   \n",
       "1        1        48    5951            2   22      poor  goods/repair   \n",
       "2        0        12    2096            2   49  terrible           edu   \n",
       "3        0        42    7882            2   45      poor  goods/repair   \n",
       "4        1        24    4870            3   53      poor        newcar   \n",
       "\n",
       "   foreign   rent  \n",
       "0  foreign  False  \n",
       "1  foreign  False  \n",
       "2  foreign  False  \n",
       "3  foreign  False  \n",
       "4  foreign  False  "
      ]
     },
     "execution_count": 3,
     "metadata": {},
     "output_type": "execute_result"
    }
   ],
   "source": [
    "db = db.iloc[:, 1:] #remove first column\n",
    "db.head()"
   ]
  },
  {
   "cell_type": "code",
   "execution_count": 4,
   "id": "2303775c",
   "metadata": {},
   "outputs": [
    {
     "data": {
      "text/plain": [
       "0    70.0\n",
       "1    30.0\n",
       "Name: Default, dtype: float64"
      ]
     },
     "execution_count": 4,
     "metadata": {},
     "output_type": "execute_result"
    }
   ],
   "source": [
    "db['Default'].value_counts(normalize=True) * 100"
   ]
  },
  {
   "cell_type": "code",
   "execution_count": 5,
   "id": "bdf4ce56",
   "metadata": {},
   "outputs": [
    {
     "data": {
      "text/plain": [
       "foreign    96.3\n",
       "german      3.7\n",
       "Name: foreign, dtype: float64"
      ]
     },
     "execution_count": 5,
     "metadata": {},
     "output_type": "execute_result"
    }
   ],
   "source": [
    "db['foreign'].value_counts(normalize=True) * 100\n"
   ]
  },
  {
   "cell_type": "code",
   "execution_count": 6,
   "id": "ea0e0b3d",
   "metadata": {},
   "outputs": [
    {
     "data": {
      "image/png": "[encoded data removed]",
      "text/plain": [
       "<Figure size 640x480 with 3 Axes>"
      ]
     },
     "metadata": {},
     "output_type": "display_data"
    }
   ],
   "source": [
    "import matplotlib.pyplot as plt\n",
    "from statsmodels.graphics.mosaicplot import mosaic\n",
    "\n",
    "# Assuming df is your DataFrame equivalent to the 'credit' data frame in R\n",
    "# and it contains 'Default' and 'history' columns\n",
    "\n",
    "# Create a mosaic plot\n",
    "mosaic(db, ['history', 'Default'], title='Mosaic Plot of Default by History')\n",
    "plt.ylabel('Default')\n",
    "plt.show()\n"
   ]
  },
  {
   "cell_type": "markdown",
   "id": "c5db7c72",
   "metadata": {},
   "source": [
    "## Clean and plit the data"
   ]
  },
  {
   "cell_type": "code",
   "execution_count": 7,
   "id": "baedd153",
   "metadata": {},
   "outputs": [],
   "source": [
    "from sklearn.model_selection import train_test_split\n",
    "\n",
    "\n",
    "# Separate the independent and dependent variables\n",
    "X = db.drop('Default', axis=1)\n",
    "y = db['Default']\n",
    "\n",
    "\n",
    "X_train, X_test, y_train, y_test = train_test_split(\n",
    "                                        X,\n",
    "                                        y,\n",
    "                                        train_size   = 0.8,\n",
    "                                        random_state = 1234,\n",
    "                                        shuffle      = True,\n",
    "                                        stratify=y\n",
    "                                    )\n"
   ]
  },
  {
   "cell_type": "code",
   "execution_count": 8,
   "id": "372ab7e5",
   "metadata": {},
   "outputs": [
    {
     "data": {
      "text/plain": [
       "0    70.0\n",
       "1    30.0\n",
       "Name: Default, dtype: float64"
      ]
     },
     "execution_count": 8,
     "metadata": {},
     "output_type": "execute_result"
    }
   ],
   "source": [
    "y_train.value_counts(normalize=True) * 100"
   ]
  },
  {
   "cell_type": "code",
   "execution_count": 9,
   "id": "50628c77",
   "metadata": {},
   "outputs": [
    {
     "data": {
      "text/plain": [
       "0    70.0\n",
       "1    30.0\n",
       "Name: Default, dtype: float64"
      ]
     },
     "execution_count": 9,
     "metadata": {},
     "output_type": "execute_result"
    }
   ],
   "source": [
    "y_test.value_counts(normalize=True) * 100"
   ]
  },
  {
   "cell_type": "code",
   "execution_count": 10,
   "id": "de27a5ee",
   "metadata": {},
   "outputs": [],
   "source": [
    "\n",
    "# One-hot encode categorical variables\n",
    "X_train_to_encode=X_train.drop(['duration', 'amount', 'installment', 'age'], axis=1)\n",
    "X_test_to_encode=X_test.drop(['duration', 'amount', 'installment', 'age'], axis=1)\n",
    "\n",
    "\n",
    "X_train_encoded = pd.get_dummies(X_train_to_encode,columns=['history', 'purpose','foreign','rent'], drop_first=True)\n",
    "X_test_encoded = pd.get_dummies(X_test_to_encode,columns=['history', 'purpose','foreign','rent'], drop_first=True)\n",
    "\n",
    "# Ensure the same columns in both train and test sets\n",
    "X_train_encoded, X_test_encoded = X_train_encoded.align(X_test_encoded, join='left', axis=1, fill_value=0)\n",
    "\n"
   ]
  },
  {
   "cell_type": "code",
   "execution_count": 11,
   "id": "17ee3452",
   "metadata": {},
   "outputs": [
    {
     "data": {
      "text/html": [
       "<div>\n",
       "<style scoped>\n",
       "    .dataframe tbody tr th:only-of-type {\n",
       "        vertical-align: middle;\n",
       "    }\n",
       "\n",
       "    .dataframe tbody tr th {\n",
       "        vertical-align: top;\n",
       "    }\n",
       "\n",
       "    .dataframe thead th {\n",
       "        text-align: right;\n",
       "    }\n",
       "</style>\n",
       "<table border=\"1\" class=\"dataframe\">\n",
       "  <thead>\n",
       "    <tr style=\"text-align: right;\">\n",
       "      <th></th>\n",
       "      <th>history_poor</th>\n",
       "      <th>history_terrible</th>\n",
       "      <th>purpose_edu</th>\n",
       "      <th>purpose_goods/repair</th>\n",
       "      <th>purpose_newcar</th>\n",
       "      <th>purpose_usedcar</th>\n",
       "      <th>foreign_german</th>\n",
       "      <th>rent_True</th>\n",
       "    </tr>\n",
       "  </thead>\n",
       "  <tbody>\n",
       "    <tr>\n",
       "      <th>428</th>\n",
       "      <td>1</td>\n",
       "      <td>0</td>\n",
       "      <td>0</td>\n",
       "      <td>1</td>\n",
       "      <td>0</td>\n",
       "      <td>0</td>\n",
       "      <td>0</td>\n",
       "      <td>0</td>\n",
       "    </tr>\n",
       "    <tr>\n",
       "      <th>699</th>\n",
       "      <td>1</td>\n",
       "      <td>0</td>\n",
       "      <td>1</td>\n",
       "      <td>0</td>\n",
       "      <td>0</td>\n",
       "      <td>0</td>\n",
       "      <td>0</td>\n",
       "      <td>1</td>\n",
       "    </tr>\n",
       "    <tr>\n",
       "      <th>46</th>\n",
       "      <td>1</td>\n",
       "      <td>0</td>\n",
       "      <td>0</td>\n",
       "      <td>1</td>\n",
       "      <td>0</td>\n",
       "      <td>0</td>\n",
       "      <td>0</td>\n",
       "      <td>0</td>\n",
       "    </tr>\n",
       "    <tr>\n",
       "      <th>99</th>\n",
       "      <td>1</td>\n",
       "      <td>0</td>\n",
       "      <td>0</td>\n",
       "      <td>0</td>\n",
       "      <td>0</td>\n",
       "      <td>1</td>\n",
       "      <td>0</td>\n",
       "      <td>1</td>\n",
       "    </tr>\n",
       "    <tr>\n",
       "      <th>664</th>\n",
       "      <td>0</td>\n",
       "      <td>1</td>\n",
       "      <td>1</td>\n",
       "      <td>0</td>\n",
       "      <td>0</td>\n",
       "      <td>0</td>\n",
       "      <td>0</td>\n",
       "      <td>0</td>\n",
       "    </tr>\n",
       "    <tr>\n",
       "      <th>...</th>\n",
       "      <td>...</td>\n",
       "      <td>...</td>\n",
       "      <td>...</td>\n",
       "      <td>...</td>\n",
       "      <td>...</td>\n",
       "      <td>...</td>\n",
       "      <td>...</td>\n",
       "      <td>...</td>\n",
       "    </tr>\n",
       "    <tr>\n",
       "      <th>731</th>\n",
       "      <td>1</td>\n",
       "      <td>0</td>\n",
       "      <td>0</td>\n",
       "      <td>1</td>\n",
       "      <td>0</td>\n",
       "      <td>0</td>\n",
       "      <td>0</td>\n",
       "      <td>1</td>\n",
       "    </tr>\n",
       "    <tr>\n",
       "      <th>687</th>\n",
       "      <td>1</td>\n",
       "      <td>0</td>\n",
       "      <td>0</td>\n",
       "      <td>0</td>\n",
       "      <td>1</td>\n",
       "      <td>0</td>\n",
       "      <td>0</td>\n",
       "      <td>0</td>\n",
       "    </tr>\n",
       "    <tr>\n",
       "      <th>315</th>\n",
       "      <td>0</td>\n",
       "      <td>0</td>\n",
       "      <td>0</td>\n",
       "      <td>1</td>\n",
       "      <td>0</td>\n",
       "      <td>0</td>\n",
       "      <td>0</td>\n",
       "      <td>0</td>\n",
       "    </tr>\n",
       "    <tr>\n",
       "      <th>862</th>\n",
       "      <td>1</td>\n",
       "      <td>0</td>\n",
       "      <td>0</td>\n",
       "      <td>1</td>\n",
       "      <td>0</td>\n",
       "      <td>0</td>\n",
       "      <td>0</td>\n",
       "      <td>0</td>\n",
       "    </tr>\n",
       "    <tr>\n",
       "      <th>696</th>\n",
       "      <td>1</td>\n",
       "      <td>0</td>\n",
       "      <td>0</td>\n",
       "      <td>1</td>\n",
       "      <td>0</td>\n",
       "      <td>0</td>\n",
       "      <td>1</td>\n",
       "      <td>0</td>\n",
       "    </tr>\n",
       "  </tbody>\n",
       "</table>\n",
       "<p>800 rows × 8 columns</p>\n",
       "</div>"
      ],
      "text/plain": [
       "     history_poor  history_terrible  purpose_edu  purpose_goods/repair  \\\n",
       "428             1                 0            0                     1   \n",
       "699             1                 0            1                     0   \n",
       "46              1                 0            0                     1   \n",
       "99              1                 0            0                     0   \n",
       "664             0                 1            1                     0   \n",
       "..            ...               ...          ...                   ...   \n",
       "731             1                 0            0                     1   \n",
       "687             1                 0            0                     0   \n",
       "315             0                 0            0                     1   \n",
       "862             1                 0            0                     1   \n",
       "696             1                 0            0                     1   \n",
       "\n",
       "     purpose_newcar  purpose_usedcar  foreign_german  rent_True  \n",
       "428               0                0               0          0  \n",
       "699               0                0               0          1  \n",
       "46                0                0               0          0  \n",
       "99                0                1               0          1  \n",
       "664               0                0               0          0  \n",
       "..              ...              ...             ...        ...  \n",
       "731               0                0               0          1  \n",
       "687               1                0               0          0  \n",
       "315               0                0               0          0  \n",
       "862               0                0               0          0  \n",
       "696               0                0               1          0  \n",
       "\n",
       "[800 rows x 8 columns]"
      ]
     },
     "execution_count": 11,
     "metadata": {},
     "output_type": "execute_result"
    }
   ],
   "source": [
    "X_train_encoded"
   ]
  },
  {
   "cell_type": "code",
   "execution_count": 12,
   "id": "e1ff52e1",
   "metadata": {},
   "outputs": [],
   "source": [
    "from sklearn.preprocessing import StandardScaler\n",
    "\n",
    "\n",
    "# Create a list of numerical columns (i.e., columns to be scaled)\n",
    "numerical_columns = X_train.columns.drop(['history', 'purpose', 'foreign', 'rent'])\n",
    "numerical_columns\n",
    "\n",
    "# # Initialize the StandardScaler\n",
    "scaler = StandardScaler()\n",
    "\n",
    "# # Fit the scaler to the numerical columns of the training data and transform\n",
    "X_train_scaled = scaler.fit_transform(X_train[numerical_columns])\n",
    "# # Transform the test data\n",
    "X_test_scaled = scaler.transform(X_test[numerical_columns])\n",
    "\n",
    "# Convert the scaled arrays back into DataFrames\n",
    "X_train_scaled_df = pd.DataFrame(X_train_scaled, columns=numerical_columns, index=X_train.index)\n",
    "X_test_scaled_df = pd.DataFrame(X_test_scaled, columns=numerical_columns, index=X_test.index)\n",
    "\n",
    "# Reset the index of the DataFrames to align them correctly\n",
    "X_train_scaled_df.reset_index(drop=True, inplace=True)\n",
    "X_test_scaled_df.reset_index(drop=True, inplace=True)\n",
    "X_train_encoded.reset_index(drop=True, inplace=True)\n",
    "X_test_encoded.reset_index(drop=True, inplace=True)\n",
    "\n",
    "# Combine scaled numerical and encoded categorical features\n",
    "X_train = pd.concat([X_train_scaled_df, X_train_encoded], axis=1)\n",
    "X_test = pd.concat([X_test_scaled_df, X_test_encoded], axis=1)"
   ]
  },
  {
   "cell_type": "code",
   "execution_count": 13,
   "id": "3f0c0e04",
   "metadata": {},
   "outputs": [
    {
     "data": {
      "text/html": [
       "<div>\n",
       "<style scoped>\n",
       "    .dataframe tbody tr th:only-of-type {\n",
       "        vertical-align: middle;\n",
       "    }\n",
       "\n",
       "    .dataframe tbody tr th {\n",
       "        vertical-align: top;\n",
       "    }\n",
       "\n",
       "    .dataframe thead th {\n",
       "        text-align: right;\n",
       "    }\n",
       "</style>\n",
       "<table border=\"1\" class=\"dataframe\">\n",
       "  <thead>\n",
       "    <tr style=\"text-align: right;\">\n",
       "      <th></th>\n",
       "      <th>duration</th>\n",
       "      <th>amount</th>\n",
       "      <th>installment</th>\n",
       "      <th>age</th>\n",
       "      <th>history_poor</th>\n",
       "      <th>history_terrible</th>\n",
       "      <th>purpose_edu</th>\n",
       "      <th>purpose_goods/repair</th>\n",
       "      <th>purpose_newcar</th>\n",
       "      <th>purpose_usedcar</th>\n",
       "      <th>foreign_german</th>\n",
       "      <th>rent_True</th>\n",
       "    </tr>\n",
       "  </thead>\n",
       "  <tbody>\n",
       "    <tr>\n",
       "      <th>0</th>\n",
       "      <td>-0.991076</td>\n",
       "      <td>-0.710033</td>\n",
       "      <td>-1.798849</td>\n",
       "      <td>-1.373603</td>\n",
       "      <td>1</td>\n",
       "      <td>0</td>\n",
       "      <td>0</td>\n",
       "      <td>1</td>\n",
       "      <td>0</td>\n",
       "      <td>0</td>\n",
       "      <td>0</td>\n",
       "      <td>0</td>\n",
       "    </tr>\n",
       "    <tr>\n",
       "      <th>1</th>\n",
       "      <td>-0.497492</td>\n",
       "      <td>-0.498744</td>\n",
       "      <td>0.906187</td>\n",
       "      <td>0.435704</td>\n",
       "      <td>1</td>\n",
       "      <td>0</td>\n",
       "      <td>1</td>\n",
       "      <td>0</td>\n",
       "      <td>0</td>\n",
       "      <td>0</td>\n",
       "      <td>0</td>\n",
       "      <td>1</td>\n",
       "    </tr>\n",
       "    <tr>\n",
       "      <th>2</th>\n",
       "      <td>1.230053</td>\n",
       "      <td>-0.358123</td>\n",
       "      <td>0.906187</td>\n",
       "      <td>0.345238</td>\n",
       "      <td>1</td>\n",
       "      <td>0</td>\n",
       "      <td>0</td>\n",
       "      <td>1</td>\n",
       "      <td>0</td>\n",
       "      <td>0</td>\n",
       "      <td>0</td>\n",
       "      <td>0</td>\n",
       "    </tr>\n",
       "    <tr>\n",
       "      <th>3</th>\n",
       "      <td>-0.086172</td>\n",
       "      <td>1.340039</td>\n",
       "      <td>0.004508</td>\n",
       "      <td>0.073842</td>\n",
       "      <td>1</td>\n",
       "      <td>0</td>\n",
       "      <td>0</td>\n",
       "      <td>0</td>\n",
       "      <td>0</td>\n",
       "      <td>1</td>\n",
       "      <td>0</td>\n",
       "      <td>1</td>\n",
       "    </tr>\n",
       "    <tr>\n",
       "      <th>4</th>\n",
       "      <td>-1.237869</td>\n",
       "      <td>-0.804970</td>\n",
       "      <td>-0.897170</td>\n",
       "      <td>1.340357</td>\n",
       "      <td>0</td>\n",
       "      <td>1</td>\n",
       "      <td>1</td>\n",
       "      <td>0</td>\n",
       "      <td>0</td>\n",
       "      <td>0</td>\n",
       "      <td>0</td>\n",
       "      <td>0</td>\n",
       "    </tr>\n",
       "  </tbody>\n",
       "</table>\n",
       "</div>"
      ],
      "text/plain": [
       "   duration    amount  installment       age  history_poor  history_terrible  \\\n",
       "0 -0.991076 -0.710033    -1.798849 -1.373603             1                 0   \n",
       "1 -0.497492 -0.498744     0.906187  0.435704             1                 0   \n",
       "2  1.230053 -0.358123     0.906187  0.345238             1                 0   \n",
       "3 -0.086172  1.340039     0.004508  0.073842             1                 0   \n",
       "4 -1.237869 -0.804970    -0.897170  1.340357             0                 1   \n",
       "\n",
       "   purpose_edu  purpose_goods/repair  purpose_newcar  purpose_usedcar  \\\n",
       "0            0                     1               0                0   \n",
       "1            1                     0               0                0   \n",
       "2            0                     1               0                0   \n",
       "3            0                     0               0                1   \n",
       "4            1                     0               0                0   \n",
       "\n",
       "   foreign_german  rent_True  \n",
       "0               0          0  \n",
       "1               0          1  \n",
       "2               0          0  \n",
       "3               0          1  \n",
       "4               0          0  "
      ]
     },
     "execution_count": 13,
     "metadata": {},
     "output_type": "execute_result"
    }
   ],
   "source": [
    "X_train.head()"
   ]
  },
  {
   "cell_type": "markdown",
   "id": "a5e5668c",
   "metadata": {},
   "source": [
    "## Estimación Logit\n",
    "\n",
    "\\begin{align}\n",
    "p_i &=\\frac{e^{X_i\\beta}}{1+e^{X_i\\beta}}\n",
    "\\end{align}\n"
   ]
  },
  {
   "cell_type": "code",
   "execution_count": 14,
   "id": "a496bd79",
   "metadata": {},
   "outputs": [
    {
     "data": {
      "text/html": [
       "<style>#sk-container-id-1 {color: black;background-color: white;}#sk-container-id-1 pre{padding: 0;}#sk-container-id-1 div.sk-toggleable {background-color: white;}#sk-container-id-1 label.sk-toggleable__label {cursor: pointer;display: block;width: 100%;margin-bottom: 0;padding: 0.3em;box-sizing: border-box;text-align: center;}#sk-container-id-1 label.sk-toggleable__label-arrow:before {content: \"▸\";float: left;margin-right: 0.25em;color: #696969;}#sk-container-id-1 label.sk-toggleable__label-arrow:hover:before {color: black;}#sk-container-id-1 div.sk-estimator:hover label.sk-toggleable__label-arrow:before {color: black;}#sk-container-id-1 div.sk-toggleable__content {max-height: 0;max-width: 0;overflow: hidden;text-align: left;background-color: #f0f8ff;}#sk-container-id-1 div.sk-toggleable__content pre {margin: 0.2em;color: black;border-radius: 0.25em;background-color: #f0f8ff;}#sk-container-id-1 input.sk-toggleable__control:checked~div.sk-toggleable__content {max-height: 200px;max-width: 100%;overflow: auto;}#sk-container-id-1 input.sk-toggleable__control:checked~label.sk-toggleable__label-arrow:before {content: \"▾\";}#sk-container-id-1 div.sk-estimator input.sk-toggleable__control:checked~label.sk-toggleable__label {background-color: #d4ebff;}#sk-container-id-1 div.sk-label input.sk-toggleable__control:checked~label.sk-toggleable__label {background-color: #d4ebff;}#sk-container-id-1 input.sk-hidden--visually {border: 0;clip: rect(1px 1px 1px 1px);clip: rect(1px, 1px, 1px, 1px);height: 1px;margin: -1px;overflow: hidden;padding: 0;position: absolute;width: 1px;}#sk-container-id-1 div.sk-estimator {font-family: monospace;background-color: #f0f8ff;border: 1px dotted black;border-radius: 0.25em;box-sizing: border-box;margin-bottom: 0.5em;}#sk-container-id-1 div.sk-estimator:hover {background-color: #d4ebff;}#sk-container-id-1 div.sk-parallel-item::after {content: \"\";width: 100%;border-bottom: 1px solid gray;flex-grow: 1;}#sk-container-id-1 div.sk-label:hover label.sk-toggleable__label {background-color: #d4ebff;}#sk-container-id-1 div.sk-serial::before {content: \"\";position: absolute;border-left: 1px solid gray;box-sizing: border-box;top: 0;bottom: 0;left: 50%;z-index: 0;}#sk-container-id-1 div.sk-serial {display: flex;flex-direction: column;align-items: center;background-color: white;padding-right: 0.2em;padding-left: 0.2em;position: relative;}#sk-container-id-1 div.sk-item {position: relative;z-index: 1;}#sk-container-id-1 div.sk-parallel {display: flex;align-items: stretch;justify-content: center;background-color: white;position: relative;}#sk-container-id-1 div.sk-item::before, #sk-container-id-1 div.sk-parallel-item::before {content: \"\";position: absolute;border-left: 1px solid gray;box-sizing: border-box;top: 0;bottom: 0;left: 50%;z-index: -1;}#sk-container-id-1 div.sk-parallel-item {display: flex;flex-direction: column;z-index: 1;position: relative;background-color: white;}#sk-container-id-1 div.sk-parallel-item:first-child::after {align-self: flex-end;width: 50%;}#sk-container-id-1 div.sk-parallel-item:last-child::after {align-self: flex-start;width: 50%;}#sk-container-id-1 div.sk-parallel-item:only-child::after {width: 0;}#sk-container-id-1 div.sk-dashed-wrapped {border: 1px dashed gray;margin: 0 0.4em 0.5em 0.4em;box-sizing: border-box;padding-bottom: 0.4em;background-color: white;}#sk-container-id-1 div.sk-label label {font-family: monospace;font-weight: bold;display: inline-block;line-height: 1.2em;}#sk-container-id-1 div.sk-label-container {text-align: center;}#sk-container-id-1 div.sk-container {/* jupyter's `normalize.less` sets `[hidden] { display: none; }` but bootstrap.min.css set `[hidden] { display: none !important; }` so we also need the `!important` here to be able to override the default hidden behavior on the sphinx rendered scikit-learn.org. See: https://github.com/scikit-learn/scikit-learn/issues/21755 */display: inline-block !important;position: relative;}#sk-container-id-1 div.sk-text-repr-fallback {display: none;}</style><div id=\"sk-container-id-1\" class=\"sk-top-container\"><div class=\"sk-text-repr-fallback\"><pre>LogisticRegression(max_iter=200)</pre><b>In a Jupyter environment, please rerun this cell to show the HTML representation or trust the notebook. <br />On GitHub, the HTML representation is unable to render, please try loading this page with nbviewer.org.</b></div><div class=\"sk-container\" hidden><div class=\"sk-item\"><div class=\"sk-estimator sk-toggleable\"><input class=\"sk-toggleable__control sk-hidden--visually\" id=\"sk-estimator-id-1\" type=\"checkbox\" checked><label for=\"sk-estimator-id-1\" class=\"sk-toggleable__label sk-toggleable__label-arrow\">LogisticRegression</label><div class=\"sk-toggleable__content\"><pre>LogisticRegression(max_iter=200)</pre></div></div></div></div></div>"
      ],
      "text/plain": [
       "LogisticRegression(max_iter=200)"
      ]
     },
     "execution_count": 14,
     "metadata": {},
     "output_type": "execute_result"
    }
   ],
   "source": [
    "from sklearn.linear_model import LogisticRegression\n",
    "\n",
    "# Fit the logistic regression model\n",
    "logit_model = LogisticRegression(max_iter=200 )\n",
    "logit_model.fit(X_train,y_train)\n"
   ]
  },
  {
   "cell_type": "markdown",
   "id": "c872b7af",
   "metadata": {},
   "source": [
    "## Prediction\n",
    "\n",
    "\n",
    "\\begin{align}\n",
    "\\hat{p}_i &=\\frac{e^{X_i\\hat{\\beta}}}{1+e^{X_i\\hat{\\beta}}}\n",
    "\\end{align}"
   ]
  },
  {
   "cell_type": "code",
   "execution_count": 15,
   "id": "0df635bd",
   "metadata": {},
   "outputs": [
    {
     "data": {
      "text/html": [
       "<div>\n",
       "<style scoped>\n",
       "    .dataframe tbody tr th:only-of-type {\n",
       "        vertical-align: middle;\n",
       "    }\n",
       "\n",
       "    .dataframe tbody tr th {\n",
       "        vertical-align: top;\n",
       "    }\n",
       "\n",
       "    .dataframe thead th {\n",
       "        text-align: right;\n",
       "    }\n",
       "</style>\n",
       "<table border=\"1\" class=\"dataframe\">\n",
       "  <thead>\n",
       "    <tr style=\"text-align: right;\">\n",
       "      <th></th>\n",
       "      <th>Default</th>\n",
       "    </tr>\n",
       "  </thead>\n",
       "  <tbody>\n",
       "    <tr>\n",
       "      <th>892</th>\n",
       "      <td>0</td>\n",
       "    </tr>\n",
       "    <tr>\n",
       "      <th>615</th>\n",
       "      <td>0</td>\n",
       "    </tr>\n",
       "    <tr>\n",
       "      <th>800</th>\n",
       "      <td>0</td>\n",
       "    </tr>\n",
       "    <tr>\n",
       "      <th>487</th>\n",
       "      <td>0</td>\n",
       "    </tr>\n",
       "    <tr>\n",
       "      <th>354</th>\n",
       "      <td>0</td>\n",
       "    </tr>\n",
       "  </tbody>\n",
       "</table>\n",
       "</div>"
      ],
      "text/plain": [
       "     Default\n",
       "892        0\n",
       "615        0\n",
       "800        0\n",
       "487        0\n",
       "354        0"
      ]
     },
     "execution_count": 15,
     "metadata": {},
     "output_type": "execute_result"
    }
   ],
   "source": [
    "y_test=pd.DataFrame(y_test)\n",
    "y_test.head()"
   ]
  },
  {
   "cell_type": "code",
   "execution_count": 16,
   "id": "9f58a43b",
   "metadata": {},
   "outputs": [
    {
     "data": {
      "text/html": [
       "<div>\n",
       "<style scoped>\n",
       "    .dataframe tbody tr th:only-of-type {\n",
       "        vertical-align: middle;\n",
       "    }\n",
       "\n",
       "    .dataframe tbody tr th {\n",
       "        vertical-align: top;\n",
       "    }\n",
       "\n",
       "    .dataframe thead th {\n",
       "        text-align: right;\n",
       "    }\n",
       "</style>\n",
       "<table border=\"1\" class=\"dataframe\">\n",
       "  <thead>\n",
       "    <tr style=\"text-align: right;\">\n",
       "      <th></th>\n",
       "      <th>Default</th>\n",
       "      <th>prob_hat</th>\n",
       "    </tr>\n",
       "  </thead>\n",
       "  <tbody>\n",
       "    <tr>\n",
       "      <th>892</th>\n",
       "      <td>0</td>\n",
       "      <td>0.132108</td>\n",
       "    </tr>\n",
       "    <tr>\n",
       "      <th>615</th>\n",
       "      <td>0</td>\n",
       "      <td>0.749774</td>\n",
       "    </tr>\n",
       "    <tr>\n",
       "      <th>800</th>\n",
       "      <td>0</td>\n",
       "      <td>0.236990</td>\n",
       "    </tr>\n",
       "    <tr>\n",
       "      <th>487</th>\n",
       "      <td>0</td>\n",
       "      <td>0.380504</td>\n",
       "    </tr>\n",
       "    <tr>\n",
       "      <th>354</th>\n",
       "      <td>0</td>\n",
       "      <td>0.330548</td>\n",
       "    </tr>\n",
       "    <tr>\n",
       "      <th>473</th>\n",
       "      <td>0</td>\n",
       "      <td>0.378778</td>\n",
       "    </tr>\n",
       "    <tr>\n",
       "      <th>678</th>\n",
       "      <td>0</td>\n",
       "      <td>0.303583</td>\n",
       "    </tr>\n",
       "    <tr>\n",
       "      <th>179</th>\n",
       "      <td>0</td>\n",
       "      <td>0.153249</td>\n",
       "    </tr>\n",
       "    <tr>\n",
       "      <th>23</th>\n",
       "      <td>0</td>\n",
       "      <td>0.042834</td>\n",
       "    </tr>\n",
       "    <tr>\n",
       "      <th>460</th>\n",
       "      <td>0</td>\n",
       "      <td>0.194815</td>\n",
       "    </tr>\n",
       "  </tbody>\n",
       "</table>\n",
       "</div>"
      ],
      "text/plain": [
       "     Default  prob_hat\n",
       "892        0  0.132108\n",
       "615        0  0.749774\n",
       "800        0  0.236990\n",
       "487        0  0.380504\n",
       "354        0  0.330548\n",
       "473        0  0.378778\n",
       "678        0  0.303583\n",
       "179        0  0.153249\n",
       "23         0  0.042834\n",
       "460        0  0.194815"
      ]
     },
     "execution_count": 16,
     "metadata": {},
     "output_type": "execute_result"
    }
   ],
   "source": [
    "# Predict the probabilities\n",
    "y_test['prob_hat'] = logit_model.predict_proba(X_test)[:, 1]\n",
    "\n",
    "# Display the first few rows of the specified columns\n",
    "y_test.head(10)\n"
   ]
  },
  {
   "cell_type": "markdown",
   "id": "92f6b87c",
   "metadata": {},
   "source": [
    "## Red Neuronal"
   ]
  },
  {
   "cell_type": "code",
   "execution_count": 17,
   "id": "156f9652",
   "metadata": {},
   "outputs": [],
   "source": [
    "#from keras.utils import to_categorical \n",
    "\n",
    "X_train = np.asarray(X_train).astype(np.float32)\n",
    "X_test = np.asarray(X_test).astype(np.float32)\n",
    "\n"
   ]
  },
  {
   "cell_type": "code",
   "execution_count": 18,
   "id": "704453e1",
   "metadata": {},
   "outputs": [
    {
     "name": "stderr",
     "output_type": "stream",
     "text": [
      "2023-12-04 18:25:31.738938: I tensorflow/core/platform/cpu_feature_guard.cc:182] This TensorFlow binary is optimized to use available CPU instructions in performance-critical operations.\n",
      "To enable the following instructions: AVX2 AVX512F AVX512_VNNI FMA, in other operations, rebuild TensorFlow with the appropriate compiler flags.\n"
     ]
    }
   ],
   "source": [
    "import tensorflow as tf\n",
    "from tensorflow import keras\n",
    "\n",
    "\n",
    "from tensorflow.keras.models import Sequential\n",
    "from tensorflow.keras.layers import Dense, Activation, Dropout, BatchNormalization\n",
    "from tensorflow.keras.callbacks import EarlyStopping, ModelCheckpoint\n",
    "from tensorflow.keras.optimizers import Adam\n",
    "\n",
    "model_nn = Sequential([\n",
    "  Dense(64, input_dim=X_train.shape[1], activation='relu'),\n",
    "  Dropout(0.4),\n",
    "  Dense(32, activation='relu'),\n",
    "  Dropout(0.3),\n",
    "  Dense(1, activation='sigmoid')\n",
    "])\n",
    "\n",
    "model_nn.compile(\n",
    "    optimizer=Adam(learning_rate=1e-3),\n",
    "    loss='binary_crossentropy',\n",
    "    metrics=['accuracy'])\n",
    "\n"
   ]
  },
  {
   "cell_type": "markdown",
   "id": "026b2705",
   "metadata": {},
   "source": [
    "We are going to add one extra step: EarlyStopping\n",
    "\n",
    "EarlyStopping is a callback to stop training when a monitored metric has stopped improving.\n",
    "   -  monitor='val_loss': This specifies that the callback should monitor the validation loss.\n",
    "   - patience=10: This sets the number of epochs with no improvement after which training will be stopped. Here, training will stop if there is no decrease in validation loss for 10 consecutive epochs.\n",
    "   - verbose=1: This enables verbose output, which means the callback will print a message when it stops the training.\n",
    "   - mode='min': This tells the callback that the training should stop when the monitored quantity (in this case, val_loss) has stopped decreasing.\n",
    "\n",
    "This callback are used during model training to automatically stop training when the validation loss does not improve for a certain number of epochs (EarlyStopping).\n",
    "\n",
    "This approach is commonly used to prevent overfitting."
   ]
  },
  {
   "cell_type": "code",
   "execution_count": 19,
   "id": "ec4c4abb",
   "metadata": {},
   "outputs": [
    {
     "name": "stdout",
     "output_type": "stream",
     "text": [
      "Epoch 1/150\n",
      "3/3 [==============================] - 1s 77ms/step - loss: 0.6675 - accuracy: 0.5984 - val_loss: 0.6415 - val_accuracy: 0.6562\n",
      "Epoch 2/150\n",
      "3/3 [==============================] - 0s 12ms/step - loss: 0.6376 - accuracy: 0.6766 - val_loss: 0.6285 - val_accuracy: 0.6750\n",
      "Epoch 3/150\n",
      "3/3 [==============================] - 0s 13ms/step - loss: 0.6415 - accuracy: 0.6781 - val_loss: 0.6190 - val_accuracy: 0.6875\n",
      "Epoch 4/150\n",
      "3/3 [==============================] - 0s 12ms/step - loss: 0.6294 - accuracy: 0.6984 - val_loss: 0.6123 - val_accuracy: 0.6812\n",
      "Epoch 5/150\n",
      "3/3 [==============================] - 0s 11ms/step - loss: 0.6185 - accuracy: 0.6891 - val_loss: 0.6077 - val_accuracy: 0.6750\n",
      "Epoch 6/150\n",
      "3/3 [==============================] - 0s 12ms/step - loss: 0.6078 - accuracy: 0.7063 - val_loss: 0.6044 - val_accuracy: 0.6750\n",
      "Epoch 7/150\n",
      "3/3 [==============================] - 0s 11ms/step - loss: 0.6135 - accuracy: 0.7063 - val_loss: 0.6021 - val_accuracy: 0.6750\n",
      "Epoch 8/150\n",
      "3/3 [==============================] - 0s 12ms/step - loss: 0.6038 - accuracy: 0.7109 - val_loss: 0.6000 - val_accuracy: 0.6750\n",
      "Epoch 9/150\n",
      "3/3 [==============================] - 0s 12ms/step - loss: 0.6041 - accuracy: 0.7047 - val_loss: 0.5975 - val_accuracy: 0.6750\n",
      "Epoch 10/150\n",
      "3/3 [==============================] - 0s 12ms/step - loss: 0.6009 - accuracy: 0.7000 - val_loss: 0.5948 - val_accuracy: 0.6750\n",
      "Epoch 11/150\n",
      "3/3 [==============================] - 0s 12ms/step - loss: 0.6028 - accuracy: 0.7047 - val_loss: 0.5923 - val_accuracy: 0.6750\n",
      "Epoch 12/150\n",
      "3/3 [==============================] - 0s 12ms/step - loss: 0.6034 - accuracy: 0.7094 - val_loss: 0.5900 - val_accuracy: 0.6750\n",
      "Epoch 13/150\n",
      "3/3 [==============================] - 0s 15ms/step - loss: 0.6044 - accuracy: 0.7000 - val_loss: 0.5879 - val_accuracy: 0.6687\n",
      "Epoch 14/150\n",
      "3/3 [==============================] - 0s 12ms/step - loss: 0.6055 - accuracy: 0.7125 - val_loss: 0.5861 - val_accuracy: 0.6687\n",
      "Epoch 15/150\n",
      "3/3 [==============================] - 0s 12ms/step - loss: 0.5863 - accuracy: 0.7078 - val_loss: 0.5844 - val_accuracy: 0.6687\n",
      "Epoch 16/150\n",
      "3/3 [==============================] - 0s 12ms/step - loss: 0.5833 - accuracy: 0.7203 - val_loss: 0.5827 - val_accuracy: 0.6687\n",
      "Epoch 17/150\n",
      "3/3 [==============================] - 0s 12ms/step - loss: 0.5901 - accuracy: 0.6953 - val_loss: 0.5811 - val_accuracy: 0.6687\n",
      "Epoch 18/150\n",
      "3/3 [==============================] - 0s 13ms/step - loss: 0.5763 - accuracy: 0.7156 - val_loss: 0.5798 - val_accuracy: 0.6687\n",
      "Epoch 19/150\n",
      "3/3 [==============================] - 0s 12ms/step - loss: 0.5858 - accuracy: 0.7094 - val_loss: 0.5785 - val_accuracy: 0.6687\n",
      "Epoch 20/150\n",
      "3/3 [==============================] - 0s 13ms/step - loss: 0.5712 - accuracy: 0.7188 - val_loss: 0.5772 - val_accuracy: 0.6687\n",
      "Epoch 21/150\n",
      "3/3 [==============================] - 0s 12ms/step - loss: 0.5785 - accuracy: 0.7078 - val_loss: 0.5761 - val_accuracy: 0.6687\n",
      "Epoch 22/150\n",
      "3/3 [==============================] - 0s 12ms/step - loss: 0.5851 - accuracy: 0.7109 - val_loss: 0.5748 - val_accuracy: 0.6812\n",
      "Epoch 23/150\n",
      "3/3 [==============================] - 0s 12ms/step - loss: 0.5680 - accuracy: 0.7109 - val_loss: 0.5740 - val_accuracy: 0.6750\n",
      "Epoch 24/150\n",
      "3/3 [==============================] - 0s 12ms/step - loss: 0.5806 - accuracy: 0.7125 - val_loss: 0.5731 - val_accuracy: 0.6750\n",
      "Epoch 25/150\n",
      "3/3 [==============================] - 0s 12ms/step - loss: 0.5738 - accuracy: 0.7203 - val_loss: 0.5722 - val_accuracy: 0.6812\n",
      "Epoch 26/150\n",
      "3/3 [==============================] - 0s 12ms/step - loss: 0.5875 - accuracy: 0.7156 - val_loss: 0.5716 - val_accuracy: 0.6875\n",
      "Epoch 27/150\n",
      "3/3 [==============================] - 0s 12ms/step - loss: 0.5799 - accuracy: 0.7000 - val_loss: 0.5710 - val_accuracy: 0.6875\n",
      "Epoch 28/150\n",
      "3/3 [==============================] - 0s 13ms/step - loss: 0.5618 - accuracy: 0.7156 - val_loss: 0.5703 - val_accuracy: 0.6875\n",
      "Epoch 29/150\n",
      "3/3 [==============================] - 0s 12ms/step - loss: 0.5668 - accuracy: 0.7125 - val_loss: 0.5698 - val_accuracy: 0.6875\n",
      "Epoch 30/150\n",
      "3/3 [==============================] - 0s 12ms/step - loss: 0.5707 - accuracy: 0.7063 - val_loss: 0.5693 - val_accuracy: 0.6875\n",
      "Epoch 31/150\n",
      "3/3 [==============================] - 0s 12ms/step - loss: 0.5673 - accuracy: 0.7078 - val_loss: 0.5686 - val_accuracy: 0.6875\n",
      "Epoch 32/150\n",
      "3/3 [==============================] - 0s 12ms/step - loss: 0.5686 - accuracy: 0.7156 - val_loss: 0.5681 - val_accuracy: 0.6875\n",
      "Epoch 33/150\n",
      "3/3 [==============================] - 0s 12ms/step - loss: 0.5475 - accuracy: 0.7141 - val_loss: 0.5675 - val_accuracy: 0.6938\n",
      "Epoch 34/150\n",
      "3/3 [==============================] - 0s 12ms/step - loss: 0.5641 - accuracy: 0.7094 - val_loss: 0.5667 - val_accuracy: 0.6938\n",
      "Epoch 35/150\n",
      "3/3 [==============================] - 0s 12ms/step - loss: 0.5635 - accuracy: 0.7250 - val_loss: 0.5662 - val_accuracy: 0.6938\n",
      "Epoch 36/150\n",
      "3/3 [==============================] - 0s 12ms/step - loss: 0.5745 - accuracy: 0.7188 - val_loss: 0.5658 - val_accuracy: 0.6875\n",
      "Epoch 37/150\n",
      "3/3 [==============================] - 0s 11ms/step - loss: 0.5612 - accuracy: 0.7188 - val_loss: 0.5655 - val_accuracy: 0.6875\n",
      "Epoch 38/150\n",
      "3/3 [==============================] - 0s 12ms/step - loss: 0.5590 - accuracy: 0.7109 - val_loss: 0.5653 - val_accuracy: 0.6938\n",
      "Epoch 39/150\n",
      "3/3 [==============================] - 0s 12ms/step - loss: 0.5685 - accuracy: 0.7188 - val_loss: 0.5652 - val_accuracy: 0.6938\n",
      "Epoch 40/150\n",
      "3/3 [==============================] - 0s 11ms/step - loss: 0.5373 - accuracy: 0.7281 - val_loss: 0.5650 - val_accuracy: 0.6938\n",
      "Epoch 41/150\n",
      "3/3 [==============================] - 0s 12ms/step - loss: 0.5619 - accuracy: 0.7172 - val_loss: 0.5647 - val_accuracy: 0.6938\n",
      "Epoch 42/150\n",
      "3/3 [==============================] - 0s 12ms/step - loss: 0.5483 - accuracy: 0.7172 - val_loss: 0.5641 - val_accuracy: 0.6938\n",
      "Epoch 43/150\n",
      "3/3 [==============================] - 0s 12ms/step - loss: 0.5470 - accuracy: 0.7266 - val_loss: 0.5634 - val_accuracy: 0.6938\n",
      "Epoch 44/150\n",
      "3/3 [==============================] - 0s 12ms/step - loss: 0.5508 - accuracy: 0.7188 - val_loss: 0.5630 - val_accuracy: 0.6938\n",
      "Epoch 45/150\n",
      "3/3 [==============================] - 0s 12ms/step - loss: 0.5452 - accuracy: 0.7203 - val_loss: 0.5628 - val_accuracy: 0.6938\n",
      "Epoch 46/150\n",
      "3/3 [==============================] - 0s 11ms/step - loss: 0.5436 - accuracy: 0.7281 - val_loss: 0.5624 - val_accuracy: 0.6875\n",
      "Epoch 47/150\n",
      "3/3 [==============================] - 0s 11ms/step - loss: 0.5542 - accuracy: 0.7234 - val_loss: 0.5616 - val_accuracy: 0.6875\n",
      "Epoch 48/150\n",
      "3/3 [==============================] - 0s 11ms/step - loss: 0.5439 - accuracy: 0.7234 - val_loss: 0.5607 - val_accuracy: 0.6938\n",
      "Epoch 49/150\n",
      "3/3 [==============================] - 0s 11ms/step - loss: 0.5473 - accuracy: 0.7250 - val_loss: 0.5601 - val_accuracy: 0.6938\n",
      "Epoch 50/150\n",
      "3/3 [==============================] - 0s 11ms/step - loss: 0.5468 - accuracy: 0.7297 - val_loss: 0.5597 - val_accuracy: 0.6938\n",
      "Epoch 51/150\n",
      "3/3 [==============================] - 0s 11ms/step - loss: 0.5432 - accuracy: 0.7281 - val_loss: 0.5595 - val_accuracy: 0.6875\n",
      "Epoch 52/150\n",
      "3/3 [==============================] - 0s 11ms/step - loss: 0.5403 - accuracy: 0.7203 - val_loss: 0.5592 - val_accuracy: 0.6875\n",
      "Epoch 53/150\n",
      "3/3 [==============================] - 0s 11ms/step - loss: 0.5436 - accuracy: 0.7359 - val_loss: 0.5590 - val_accuracy: 0.6875\n",
      "Epoch 54/150\n",
      "3/3 [==============================] - 0s 11ms/step - loss: 0.5438 - accuracy: 0.7328 - val_loss: 0.5588 - val_accuracy: 0.6812\n",
      "Epoch 55/150\n",
      "3/3 [==============================] - 0s 11ms/step - loss: 0.5514 - accuracy: 0.7281 - val_loss: 0.5585 - val_accuracy: 0.6812\n",
      "Epoch 56/150\n",
      "3/3 [==============================] - 0s 11ms/step - loss: 0.5292 - accuracy: 0.7297 - val_loss: 0.5582 - val_accuracy: 0.6875\n",
      "Epoch 57/150\n",
      "3/3 [==============================] - 0s 12ms/step - loss: 0.5579 - accuracy: 0.7172 - val_loss: 0.5574 - val_accuracy: 0.6812\n",
      "Epoch 58/150\n",
      "3/3 [==============================] - 0s 12ms/step - loss: 0.5440 - accuracy: 0.7234 - val_loss: 0.5570 - val_accuracy: 0.6812\n",
      "Epoch 59/150\n"
     ]
    },
    {
     "name": "stdout",
     "output_type": "stream",
     "text": [
      "3/3 [==============================] - 0s 11ms/step - loss: 0.5444 - accuracy: 0.7422 - val_loss: 0.5562 - val_accuracy: 0.6812\n",
      "Epoch 60/150\n",
      "3/3 [==============================] - 0s 12ms/step - loss: 0.5470 - accuracy: 0.7234 - val_loss: 0.5549 - val_accuracy: 0.6812\n",
      "Epoch 61/150\n",
      "3/3 [==============================] - 0s 12ms/step - loss: 0.5421 - accuracy: 0.7109 - val_loss: 0.5542 - val_accuracy: 0.6938\n",
      "Epoch 62/150\n",
      "3/3 [==============================] - 0s 11ms/step - loss: 0.5496 - accuracy: 0.7172 - val_loss: 0.5535 - val_accuracy: 0.7000\n",
      "Epoch 63/150\n",
      "3/3 [==============================] - 0s 11ms/step - loss: 0.5303 - accuracy: 0.7406 - val_loss: 0.5529 - val_accuracy: 0.7000\n",
      "Epoch 64/150\n",
      "3/3 [==============================] - 0s 11ms/step - loss: 0.5391 - accuracy: 0.7406 - val_loss: 0.5522 - val_accuracy: 0.7000\n",
      "Epoch 65/150\n",
      "3/3 [==============================] - 0s 12ms/step - loss: 0.5430 - accuracy: 0.7375 - val_loss: 0.5517 - val_accuracy: 0.7000\n",
      "Epoch 66/150\n",
      "3/3 [==============================] - 0s 11ms/step - loss: 0.5426 - accuracy: 0.7328 - val_loss: 0.5511 - val_accuracy: 0.7125\n",
      "Epoch 67/150\n",
      "3/3 [==============================] - 0s 11ms/step - loss: 0.5405 - accuracy: 0.7297 - val_loss: 0.5507 - val_accuracy: 0.7188\n",
      "Epoch 68/150\n",
      "3/3 [==============================] - 0s 11ms/step - loss: 0.5448 - accuracy: 0.7266 - val_loss: 0.5505 - val_accuracy: 0.7125\n",
      "Epoch 69/150\n",
      "3/3 [==============================] - 0s 11ms/step - loss: 0.5395 - accuracy: 0.7297 - val_loss: 0.5505 - val_accuracy: 0.7188\n",
      "Epoch 70/150\n",
      "3/3 [==============================] - 0s 11ms/step - loss: 0.5438 - accuracy: 0.7328 - val_loss: 0.5505 - val_accuracy: 0.7188\n",
      "Epoch 71/150\n",
      "3/3 [==============================] - 0s 11ms/step - loss: 0.5392 - accuracy: 0.7406 - val_loss: 0.5503 - val_accuracy: 0.7188\n",
      "Epoch 72/150\n",
      "3/3 [==============================] - 0s 11ms/step - loss: 0.5497 - accuracy: 0.7203 - val_loss: 0.5499 - val_accuracy: 0.7125\n",
      "Epoch 73/150\n",
      "3/3 [==============================] - 0s 11ms/step - loss: 0.5384 - accuracy: 0.7375 - val_loss: 0.5496 - val_accuracy: 0.7125\n",
      "Epoch 74/150\n",
      "3/3 [==============================] - 0s 11ms/step - loss: 0.5223 - accuracy: 0.7469 - val_loss: 0.5494 - val_accuracy: 0.7125\n",
      "Epoch 75/150\n",
      "3/3 [==============================] - 0s 11ms/step - loss: 0.5291 - accuracy: 0.7297 - val_loss: 0.5492 - val_accuracy: 0.7188\n",
      "Epoch 76/150\n",
      "3/3 [==============================] - 0s 11ms/step - loss: 0.5294 - accuracy: 0.7344 - val_loss: 0.5487 - val_accuracy: 0.7188\n",
      "Epoch 77/150\n",
      "3/3 [==============================] - 0s 12ms/step - loss: 0.5210 - accuracy: 0.7453 - val_loss: 0.5479 - val_accuracy: 0.7188\n",
      "Epoch 78/150\n",
      "3/3 [==============================] - 0s 11ms/step - loss: 0.5359 - accuracy: 0.7453 - val_loss: 0.5471 - val_accuracy: 0.7188\n",
      "Epoch 79/150\n",
      "3/3 [==============================] - 0s 11ms/step - loss: 0.5210 - accuracy: 0.7469 - val_loss: 0.5465 - val_accuracy: 0.7188\n",
      "Epoch 80/150\n",
      "3/3 [==============================] - 0s 11ms/step - loss: 0.5253 - accuracy: 0.7500 - val_loss: 0.5461 - val_accuracy: 0.7250\n",
      "Epoch 81/150\n",
      "3/3 [==============================] - 0s 11ms/step - loss: 0.5319 - accuracy: 0.7391 - val_loss: 0.5454 - val_accuracy: 0.7188\n",
      "Epoch 82/150\n",
      "3/3 [==============================] - 0s 11ms/step - loss: 0.5143 - accuracy: 0.7375 - val_loss: 0.5446 - val_accuracy: 0.7188\n",
      "Epoch 83/150\n",
      "3/3 [==============================] - 0s 11ms/step - loss: 0.5352 - accuracy: 0.7312 - val_loss: 0.5438 - val_accuracy: 0.7188\n",
      "Epoch 84/150\n",
      "3/3 [==============================] - 0s 11ms/step - loss: 0.5165 - accuracy: 0.7609 - val_loss: 0.5433 - val_accuracy: 0.7125\n",
      "Epoch 85/150\n",
      "3/3 [==============================] - 0s 11ms/step - loss: 0.5246 - accuracy: 0.7531 - val_loss: 0.5429 - val_accuracy: 0.7125\n",
      "Epoch 86/150\n",
      "3/3 [==============================] - 0s 11ms/step - loss: 0.5297 - accuracy: 0.7406 - val_loss: 0.5426 - val_accuracy: 0.7125\n",
      "Epoch 87/150\n",
      "3/3 [==============================] - 0s 11ms/step - loss: 0.5215 - accuracy: 0.7516 - val_loss: 0.5425 - val_accuracy: 0.7125\n",
      "Epoch 88/150\n",
      "3/3 [==============================] - 0s 11ms/step - loss: 0.5366 - accuracy: 0.7484 - val_loss: 0.5426 - val_accuracy: 0.7125\n",
      "Epoch 89/150\n",
      "3/3 [==============================] - 0s 11ms/step - loss: 0.5073 - accuracy: 0.7453 - val_loss: 0.5426 - val_accuracy: 0.7125\n",
      "Epoch 90/150\n",
      "3/3 [==============================] - 0s 11ms/step - loss: 0.5338 - accuracy: 0.7547 - val_loss: 0.5426 - val_accuracy: 0.7188\n",
      "Epoch 91/150\n",
      "3/3 [==============================] - 0s 11ms/step - loss: 0.5216 - accuracy: 0.7359 - val_loss: 0.5425 - val_accuracy: 0.7125\n",
      "Epoch 92/150\n",
      "3/3 [==============================] - 0s 12ms/step - loss: 0.5228 - accuracy: 0.7422 - val_loss: 0.5428 - val_accuracy: 0.7188\n",
      "Epoch 93/150\n",
      "3/3 [==============================] - 0s 11ms/step - loss: 0.5294 - accuracy: 0.7406 - val_loss: 0.5430 - val_accuracy: 0.7188\n",
      "Epoch 94/150\n",
      "3/3 [==============================] - 0s 11ms/step - loss: 0.5333 - accuracy: 0.7391 - val_loss: 0.5428 - val_accuracy: 0.7188\n",
      "Epoch 95/150\n",
      "3/3 [==============================] - 0s 11ms/step - loss: 0.5301 - accuracy: 0.7359 - val_loss: 0.5425 - val_accuracy: 0.7188\n",
      "Epoch 96/150\n",
      "3/3 [==============================] - 0s 11ms/step - loss: 0.5132 - accuracy: 0.7531 - val_loss: 0.5420 - val_accuracy: 0.7188\n",
      "Epoch 97/150\n",
      "3/3 [==============================] - 0s 11ms/step - loss: 0.5183 - accuracy: 0.7469 - val_loss: 0.5416 - val_accuracy: 0.7188\n",
      "Epoch 98/150\n",
      "3/3 [==============================] - 0s 11ms/step - loss: 0.5262 - accuracy: 0.7547 - val_loss: 0.5411 - val_accuracy: 0.7250\n",
      "Epoch 99/150\n",
      "3/3 [==============================] - 0s 11ms/step - loss: 0.5232 - accuracy: 0.7469 - val_loss: 0.5406 - val_accuracy: 0.7250\n",
      "Epoch 100/150\n",
      "3/3 [==============================] - 0s 11ms/step - loss: 0.5228 - accuracy: 0.7406 - val_loss: 0.5401 - val_accuracy: 0.7312\n",
      "Epoch 101/150\n",
      "3/3 [==============================] - 0s 11ms/step - loss: 0.5346 - accuracy: 0.7469 - val_loss: 0.5398 - val_accuracy: 0.7312\n",
      "Epoch 102/150\n",
      "3/3 [==============================] - 0s 12ms/step - loss: 0.5128 - accuracy: 0.7422 - val_loss: 0.5390 - val_accuracy: 0.7312\n",
      "Epoch 103/150\n",
      "3/3 [==============================] - 0s 12ms/step - loss: 0.5252 - accuracy: 0.7516 - val_loss: 0.5385 - val_accuracy: 0.7312\n",
      "Epoch 104/150\n",
      "3/3 [==============================] - 0s 12ms/step - loss: 0.5201 - accuracy: 0.7422 - val_loss: 0.5383 - val_accuracy: 0.7312\n",
      "Epoch 105/150\n",
      "3/3 [==============================] - 0s 12ms/step - loss: 0.5241 - accuracy: 0.7437 - val_loss: 0.5383 - val_accuracy: 0.7250\n",
      "Epoch 106/150\n",
      "3/3 [==============================] - 0s 11ms/step - loss: 0.5175 - accuracy: 0.7516 - val_loss: 0.5387 - val_accuracy: 0.7250\n",
      "Epoch 107/150\n",
      "3/3 [==============================] - 0s 11ms/step - loss: 0.5121 - accuracy: 0.7437 - val_loss: 0.5393 - val_accuracy: 0.7250\n",
      "Epoch 108/150\n",
      "3/3 [==============================] - 0s 11ms/step - loss: 0.5295 - accuracy: 0.7422 - val_loss: 0.5399 - val_accuracy: 0.7250\n",
      "Epoch 109/150\n",
      "3/3 [==============================] - 0s 11ms/step - loss: 0.5285 - accuracy: 0.7516 - val_loss: 0.5404 - val_accuracy: 0.7250\n",
      "Epoch 110/150\n",
      "3/3 [==============================] - 0s 11ms/step - loss: 0.5290 - accuracy: 0.7422 - val_loss: 0.5399 - val_accuracy: 0.7250\n",
      "Epoch 111/150\n",
      "3/3 [==============================] - 0s 11ms/step - loss: 0.5176 - accuracy: 0.7500 - val_loss: 0.5391 - val_accuracy: 0.7250\n",
      "Epoch 112/150\n",
      "3/3 [==============================] - 0s 11ms/step - loss: 0.5167 - accuracy: 0.7516 - val_loss: 0.5380 - val_accuracy: 0.7250\n",
      "Epoch 113/150\n",
      "3/3 [==============================] - 0s 11ms/step - loss: 0.5243 - accuracy: 0.7469 - val_loss: 0.5367 - val_accuracy: 0.7250\n",
      "Epoch 114/150\n",
      "3/3 [==============================] - 0s 11ms/step - loss: 0.5186 - accuracy: 0.7422 - val_loss: 0.5359 - val_accuracy: 0.7250\n",
      "Epoch 115/150\n",
      "3/3 [==============================] - 0s 12ms/step - loss: 0.5266 - accuracy: 0.7469 - val_loss: 0.5352 - val_accuracy: 0.7250\n",
      "Epoch 116/150\n",
      "3/3 [==============================] - 0s 11ms/step - loss: 0.5113 - accuracy: 0.7437 - val_loss: 0.5343 - val_accuracy: 0.7250\n",
      "Epoch 117/150\n"
     ]
    },
    {
     "name": "stdout",
     "output_type": "stream",
     "text": [
      "3/3 [==============================] - 0s 11ms/step - loss: 0.5146 - accuracy: 0.7437 - val_loss: 0.5335 - val_accuracy: 0.7312\n",
      "Epoch 118/150\n",
      "3/3 [==============================] - 0s 12ms/step - loss: 0.5044 - accuracy: 0.7688 - val_loss: 0.5328 - val_accuracy: 0.7312\n",
      "Epoch 119/150\n",
      "3/3 [==============================] - 0s 12ms/step - loss: 0.5285 - accuracy: 0.7437 - val_loss: 0.5323 - val_accuracy: 0.7312\n",
      "Epoch 120/150\n",
      "3/3 [==============================] - 0s 12ms/step - loss: 0.5304 - accuracy: 0.7437 - val_loss: 0.5319 - val_accuracy: 0.7375\n",
      "Epoch 121/150\n",
      "3/3 [==============================] - 0s 12ms/step - loss: 0.5197 - accuracy: 0.7516 - val_loss: 0.5317 - val_accuracy: 0.7375\n",
      "Epoch 122/150\n",
      "3/3 [==============================] - 0s 12ms/step - loss: 0.5231 - accuracy: 0.7594 - val_loss: 0.5318 - val_accuracy: 0.7312\n",
      "Epoch 123/150\n",
      "3/3 [==============================] - 0s 12ms/step - loss: 0.5076 - accuracy: 0.7500 - val_loss: 0.5320 - val_accuracy: 0.7312\n",
      "Epoch 124/150\n",
      "3/3 [==============================] - 0s 12ms/step - loss: 0.5094 - accuracy: 0.7594 - val_loss: 0.5323 - val_accuracy: 0.7312\n",
      "Epoch 125/150\n",
      "3/3 [==============================] - 0s 12ms/step - loss: 0.5180 - accuracy: 0.7500 - val_loss: 0.5320 - val_accuracy: 0.7312\n",
      "Epoch 126/150\n",
      "3/3 [==============================] - 0s 12ms/step - loss: 0.5097 - accuracy: 0.7484 - val_loss: 0.5320 - val_accuracy: 0.7312\n",
      "Epoch 127/150\n",
      "3/3 [==============================] - 0s 12ms/step - loss: 0.5200 - accuracy: 0.7469 - val_loss: 0.5322 - val_accuracy: 0.7312\n",
      "Epoch 128/150\n",
      "3/3 [==============================] - 0s 11ms/step - loss: 0.5219 - accuracy: 0.7422 - val_loss: 0.5322 - val_accuracy: 0.7312\n",
      "Epoch 129/150\n",
      "3/3 [==============================] - 0s 12ms/step - loss: 0.5085 - accuracy: 0.7500 - val_loss: 0.5324 - val_accuracy: 0.7312\n",
      "Epoch 130/150\n",
      "3/3 [==============================] - 0s 12ms/step - loss: 0.5130 - accuracy: 0.7500 - val_loss: 0.5327 - val_accuracy: 0.7312\n",
      "Epoch 131/150\n",
      "3/3 [==============================] - 0s 12ms/step - loss: 0.5213 - accuracy: 0.7563 - val_loss: 0.5327 - val_accuracy: 0.7312\n",
      "Epoch 131: early stopping\n"
     ]
    }
   ],
   "source": [
    "\n",
    "history = model_nn.fit(\n",
    "    X_train, y_train,\n",
    "    epochs=150,\n",
    "    batch_size=256,\n",
    "    validation_split=0.2,\n",
    "    callbacks=EarlyStopping(monitor='val_loss', patience=10, verbose=1, mode='min'),\n",
    "    verbose=1)"
   ]
  },
  {
   "cell_type": "code",
   "execution_count": 20,
   "id": "323cc7b3",
   "metadata": {},
   "outputs": [
    {
     "data": {
      "image/png": "[encoded data removed]",
      "text/plain": [
       "<Figure size 640x480 with 1 Axes>"
      ]
     },
     "metadata": {},
     "output_type": "display_data"
    }
   ],
   "source": [
    "\n",
    "\n",
    "hist = pd.DataFrame(history.history)\n",
    "hist['epoch'] = history.epoch\n",
    "\n",
    "def plot_loss(history):\n",
    "  plt.plot(history.history['loss'], label='loss') \n",
    "  plt.xlabel('Epoch')\n",
    "  plt.ylabel('Error')\n",
    "  plt.legend()\n",
    "  plt.grid(True)\n",
    "\n",
    "plot_loss(history)\n"
   ]
  },
  {
   "cell_type": "code",
   "execution_count": 21,
   "id": "5eaf6a9f",
   "metadata": {},
   "outputs": [
    {
     "name": "stdout",
     "output_type": "stream",
     "text": [
      "7/7 [==============================] - 0s 1ms/step\n"
     ]
    }
   ],
   "source": [
    "y_test['prob_hat_nn'] = model_nn.predict(X_test).ravel()"
   ]
  },
  {
   "cell_type": "code",
   "execution_count": 22,
   "id": "bc1f2f84",
   "metadata": {},
   "outputs": [
    {
     "data": {
      "text/html": [
       "<div>\n",
       "<style scoped>\n",
       "    .dataframe tbody tr th:only-of-type {\n",
       "        vertical-align: middle;\n",
       "    }\n",
       "\n",
       "    .dataframe tbody tr th {\n",
       "        vertical-align: top;\n",
       "    }\n",
       "\n",
       "    .dataframe thead th {\n",
       "        text-align: right;\n",
       "    }\n",
       "</style>\n",
       "<table border=\"1\" class=\"dataframe\">\n",
       "  <thead>\n",
       "    <tr style=\"text-align: right;\">\n",
       "      <th></th>\n",
       "      <th>Default</th>\n",
       "      <th>prob_hat</th>\n",
       "      <th>prob_hat_nn</th>\n",
       "    </tr>\n",
       "  </thead>\n",
       "  <tbody>\n",
       "    <tr>\n",
       "      <th>892</th>\n",
       "      <td>0</td>\n",
       "      <td>0.132108</td>\n",
       "      <td>0.120301</td>\n",
       "    </tr>\n",
       "    <tr>\n",
       "      <th>615</th>\n",
       "      <td>0</td>\n",
       "      <td>0.749774</td>\n",
       "      <td>0.696940</td>\n",
       "    </tr>\n",
       "    <tr>\n",
       "      <th>800</th>\n",
       "      <td>0</td>\n",
       "      <td>0.236990</td>\n",
       "      <td>0.173727</td>\n",
       "    </tr>\n",
       "    <tr>\n",
       "      <th>487</th>\n",
       "      <td>0</td>\n",
       "      <td>0.380504</td>\n",
       "      <td>0.409571</td>\n",
       "    </tr>\n",
       "    <tr>\n",
       "      <th>354</th>\n",
       "      <td>0</td>\n",
       "      <td>0.330548</td>\n",
       "      <td>0.369295</td>\n",
       "    </tr>\n",
       "  </tbody>\n",
       "</table>\n",
       "</div>"
      ],
      "text/plain": [
       "     Default  prob_hat  prob_hat_nn\n",
       "892        0  0.132108     0.120301\n",
       "615        0  0.749774     0.696940\n",
       "800        0  0.236990     0.173727\n",
       "487        0  0.380504     0.409571\n",
       "354        0  0.330548     0.369295"
      ]
     },
     "execution_count": 22,
     "metadata": {},
     "output_type": "execute_result"
    }
   ],
   "source": [
    "y_test.head()"
   ]
  },
  {
   "cell_type": "code",
   "execution_count": 23,
   "id": "54e59da8",
   "metadata": {},
   "outputs": [
    {
     "data": {
      "text/plain": [
       "[0.4977809190750122, 0.7587500214576721]"
      ]
     },
     "execution_count": 23,
     "metadata": {},
     "output_type": "execute_result"
    }
   ],
   "source": [
    " model_nn.evaluate(X_train, y_train, verbose=0)"
   ]
  },
  {
   "cell_type": "markdown",
   "id": "763ab9d1",
   "metadata": {},
   "source": [
    "# Classification and Missclasification"
   ]
  },
  {
   "cell_type": "markdown",
   "id": "54adb2d6",
   "metadata": {},
   "source": [
    "\n",
    "\n",
    "\\begin{align}\n",
    "\\hat{Y}_i= 1[\\hat{p}_i >0.5]\n",
    "\\end{align}"
   ]
  },
  {
   "cell_type": "code",
   "execution_count": 24,
   "id": "99341d2c",
   "metadata": {},
   "outputs": [
    {
     "data": {
      "text/html": [
       "<div>\n",
       "<style scoped>\n",
       "    .dataframe tbody tr th:only-of-type {\n",
       "        vertical-align: middle;\n",
       "    }\n",
       "\n",
       "    .dataframe tbody tr th {\n",
       "        vertical-align: top;\n",
       "    }\n",
       "\n",
       "    .dataframe thead th {\n",
       "        text-align: right;\n",
       "    }\n",
       "</style>\n",
       "<table border=\"1\" class=\"dataframe\">\n",
       "  <thead>\n",
       "    <tr style=\"text-align: right;\">\n",
       "      <th></th>\n",
       "      <th>Default</th>\n",
       "      <th>prob_hat</th>\n",
       "      <th>Default_hat_logit</th>\n",
       "    </tr>\n",
       "  </thead>\n",
       "  <tbody>\n",
       "    <tr>\n",
       "      <th>892</th>\n",
       "      <td>0</td>\n",
       "      <td>0.132108</td>\n",
       "      <td>0</td>\n",
       "    </tr>\n",
       "    <tr>\n",
       "      <th>615</th>\n",
       "      <td>0</td>\n",
       "      <td>0.749774</td>\n",
       "      <td>1</td>\n",
       "    </tr>\n",
       "    <tr>\n",
       "      <th>800</th>\n",
       "      <td>0</td>\n",
       "      <td>0.236990</td>\n",
       "      <td>0</td>\n",
       "    </tr>\n",
       "    <tr>\n",
       "      <th>487</th>\n",
       "      <td>0</td>\n",
       "      <td>0.380504</td>\n",
       "      <td>0</td>\n",
       "    </tr>\n",
       "    <tr>\n",
       "      <th>354</th>\n",
       "      <td>0</td>\n",
       "      <td>0.330548</td>\n",
       "      <td>0</td>\n",
       "    </tr>\n",
       "    <tr>\n",
       "      <th>473</th>\n",
       "      <td>0</td>\n",
       "      <td>0.378778</td>\n",
       "      <td>0</td>\n",
       "    </tr>\n",
       "    <tr>\n",
       "      <th>678</th>\n",
       "      <td>0</td>\n",
       "      <td>0.303583</td>\n",
       "      <td>0</td>\n",
       "    </tr>\n",
       "    <tr>\n",
       "      <th>179</th>\n",
       "      <td>0</td>\n",
       "      <td>0.153249</td>\n",
       "      <td>0</td>\n",
       "    </tr>\n",
       "    <tr>\n",
       "      <th>23</th>\n",
       "      <td>0</td>\n",
       "      <td>0.042834</td>\n",
       "      <td>0</td>\n",
       "    </tr>\n",
       "    <tr>\n",
       "      <th>460</th>\n",
       "      <td>0</td>\n",
       "      <td>0.194815</td>\n",
       "      <td>0</td>\n",
       "    </tr>\n",
       "  </tbody>\n",
       "</table>\n",
       "</div>"
      ],
      "text/plain": [
       "     Default  prob_hat  Default_hat_logit\n",
       "892        0  0.132108                  0\n",
       "615        0  0.749774                  1\n",
       "800        0  0.236990                  0\n",
       "487        0  0.380504                  0\n",
       "354        0  0.330548                  0\n",
       "473        0  0.378778                  0\n",
       "678        0  0.303583                  0\n",
       "179        0  0.153249                  0\n",
       "23         0  0.042834                  0\n",
       "460        0  0.194815                  0"
      ]
     },
     "execution_count": 24,
     "metadata": {},
     "output_type": "execute_result"
    }
   ],
   "source": [
    "\n",
    "# Define the rule (threshold)\n",
    "rule = 0.5\n",
    "\n",
    "# Create the predicted class labels based on the rule\n",
    "y_test['Default_hat_logit'] = (y_test['prob_hat'] > rule).astype(int)\n",
    "\n",
    "# Display the first few rows of the specified columns\n",
    "y_test[['Default', 'prob_hat', 'Default_hat_logit']].head(10)"
   ]
  },
  {
   "cell_type": "code",
   "execution_count": 25,
   "id": "72427d20",
   "metadata": {},
   "outputs": [
    {
     "name": "stdout",
     "output_type": "stream",
     "text": [
      "\n",
      "El accuracy de test es: 71.0%\n"
     ]
    }
   ],
   "source": [
    "from sklearn.metrics import accuracy_score\n",
    "\n",
    "accuracy = accuracy_score(\n",
    "            y_true    = y_test['Default'],\n",
    "            y_pred    = y_test['Default_hat_logit'],\n",
    "            normalize = True\n",
    "           )\n",
    "print(\"\")\n",
    "print(f\"El accuracy de test es: {100*accuracy}%\")\n",
    "\n"
   ]
  },
  {
   "cell_type": "code",
   "execution_count": 26,
   "id": "82181165",
   "metadata": {},
   "outputs": [
    {
     "data": {
      "text/html": [
       "<div>\n",
       "<style scoped>\n",
       "    .dataframe tbody tr th:only-of-type {\n",
       "        vertical-align: middle;\n",
       "    }\n",
       "\n",
       "    .dataframe tbody tr th {\n",
       "        vertical-align: top;\n",
       "    }\n",
       "\n",
       "    .dataframe thead th {\n",
       "        text-align: right;\n",
       "    }\n",
       "</style>\n",
       "<table border=\"1\" class=\"dataframe\">\n",
       "  <thead>\n",
       "    <tr style=\"text-align: right;\">\n",
       "      <th>Predicción</th>\n",
       "      <th>0</th>\n",
       "      <th>1</th>\n",
       "    </tr>\n",
       "    <tr>\n",
       "      <th>Real</th>\n",
       "      <th></th>\n",
       "      <th></th>\n",
       "    </tr>\n",
       "  </thead>\n",
       "  <tbody>\n",
       "    <tr>\n",
       "      <th>0</th>\n",
       "      <td>123</td>\n",
       "      <td>17</td>\n",
       "    </tr>\n",
       "    <tr>\n",
       "      <th>1</th>\n",
       "      <td>41</td>\n",
       "      <td>19</td>\n",
       "    </tr>\n",
       "  </tbody>\n",
       "</table>\n",
       "</div>"
      ],
      "text/plain": [
       "Predicción    0   1\n",
       "Real               \n",
       "0           123  17\n",
       "1            41  19"
      ]
     },
     "execution_count": 26,
     "metadata": {},
     "output_type": "execute_result"
    }
   ],
   "source": [
    "from sklearn.metrics import ConfusionMatrixDisplay\n",
    "\n",
    "# Matriz de confusión de las predicciones de test\n",
    "# ==============================================================================\n",
    "confusion_matrix = pd.crosstab(\n",
    "    y_test['Default'],\n",
    "    y_test['Default_hat_logit'],\n",
    "    rownames=['Real'],\n",
    "    colnames=['Predicción']\n",
    ")\n",
    "confusion_matrix\n",
    "\n"
   ]
  },
  {
   "cell_type": "markdown",
   "id": "4b882f9a",
   "metadata": {},
   "source": [
    "## Red Neuronal"
   ]
  },
  {
   "cell_type": "code",
   "execution_count": 27,
   "id": "35a3129f",
   "metadata": {},
   "outputs": [
    {
     "data": {
      "text/html": [
       "<div>\n",
       "<style scoped>\n",
       "    .dataframe tbody tr th:only-of-type {\n",
       "        vertical-align: middle;\n",
       "    }\n",
       "\n",
       "    .dataframe tbody tr th {\n",
       "        vertical-align: top;\n",
       "    }\n",
       "\n",
       "    .dataframe thead th {\n",
       "        text-align: right;\n",
       "    }\n",
       "</style>\n",
       "<table border=\"1\" class=\"dataframe\">\n",
       "  <thead>\n",
       "    <tr style=\"text-align: right;\">\n",
       "      <th></th>\n",
       "      <th>Default</th>\n",
       "      <th>prob_hat_nn</th>\n",
       "      <th>Default_hat_nn</th>\n",
       "    </tr>\n",
       "  </thead>\n",
       "  <tbody>\n",
       "    <tr>\n",
       "      <th>892</th>\n",
       "      <td>0</td>\n",
       "      <td>0.120301</td>\n",
       "      <td>0</td>\n",
       "    </tr>\n",
       "    <tr>\n",
       "      <th>615</th>\n",
       "      <td>0</td>\n",
       "      <td>0.696940</td>\n",
       "      <td>1</td>\n",
       "    </tr>\n",
       "    <tr>\n",
       "      <th>800</th>\n",
       "      <td>0</td>\n",
       "      <td>0.173727</td>\n",
       "      <td>0</td>\n",
       "    </tr>\n",
       "    <tr>\n",
       "      <th>487</th>\n",
       "      <td>0</td>\n",
       "      <td>0.409571</td>\n",
       "      <td>0</td>\n",
       "    </tr>\n",
       "    <tr>\n",
       "      <th>354</th>\n",
       "      <td>0</td>\n",
       "      <td>0.369295</td>\n",
       "      <td>0</td>\n",
       "    </tr>\n",
       "    <tr>\n",
       "      <th>473</th>\n",
       "      <td>0</td>\n",
       "      <td>0.434881</td>\n",
       "      <td>0</td>\n",
       "    </tr>\n",
       "    <tr>\n",
       "      <th>678</th>\n",
       "      <td>0</td>\n",
       "      <td>0.387336</td>\n",
       "      <td>0</td>\n",
       "    </tr>\n",
       "    <tr>\n",
       "      <th>179</th>\n",
       "      <td>0</td>\n",
       "      <td>0.102319</td>\n",
       "      <td>0</td>\n",
       "    </tr>\n",
       "    <tr>\n",
       "      <th>23</th>\n",
       "      <td>0</td>\n",
       "      <td>0.016268</td>\n",
       "      <td>0</td>\n",
       "    </tr>\n",
       "    <tr>\n",
       "      <th>460</th>\n",
       "      <td>0</td>\n",
       "      <td>0.281513</td>\n",
       "      <td>0</td>\n",
       "    </tr>\n",
       "  </tbody>\n",
       "</table>\n",
       "</div>"
      ],
      "text/plain": [
       "     Default  prob_hat_nn  Default_hat_nn\n",
       "892        0     0.120301               0\n",
       "615        0     0.696940               1\n",
       "800        0     0.173727               0\n",
       "487        0     0.409571               0\n",
       "354        0     0.369295               0\n",
       "473        0     0.434881               0\n",
       "678        0     0.387336               0\n",
       "179        0     0.102319               0\n",
       "23         0     0.016268               0\n",
       "460        0     0.281513               0"
      ]
     },
     "execution_count": 27,
     "metadata": {},
     "output_type": "execute_result"
    }
   ],
   "source": [
    "\n",
    "# Create the predicted class labels based on the rule\n",
    "y_test['Default_hat_nn'] = (y_test['prob_hat_nn'] > rule).astype(int)\n",
    "\n",
    "# Display the first few rows of the specified columns\n",
    "y_test[['Default', 'prob_hat_nn', 'Default_hat_nn']].head(10)"
   ]
  },
  {
   "cell_type": "code",
   "execution_count": 28,
   "id": "1bc9ce55",
   "metadata": {},
   "outputs": [
    {
     "name": "stdout",
     "output_type": "stream",
     "text": [
      "\n",
      "El accuracy de test es: 72.0%\n"
     ]
    }
   ],
   "source": [
    "\n",
    "accuracy = accuracy_score(\n",
    "            y_true    = y_test['Default'],\n",
    "            y_pred    = y_test['Default_hat_nn'],\n",
    "            normalize = True\n",
    "           )\n",
    "print(\"\")\n",
    "print(f\"El accuracy de test es: {100*accuracy}%\")\n",
    "\n"
   ]
  },
  {
   "cell_type": "code",
   "execution_count": 29,
   "id": "0d8c0b30",
   "metadata": {},
   "outputs": [
    {
     "data": {
      "text/html": [
       "<div>\n",
       "<style scoped>\n",
       "    .dataframe tbody tr th:only-of-type {\n",
       "        vertical-align: middle;\n",
       "    }\n",
       "\n",
       "    .dataframe tbody tr th {\n",
       "        vertical-align: top;\n",
       "    }\n",
       "\n",
       "    .dataframe thead th {\n",
       "        text-align: right;\n",
       "    }\n",
       "</style>\n",
       "<table border=\"1\" class=\"dataframe\">\n",
       "  <thead>\n",
       "    <tr style=\"text-align: right;\">\n",
       "      <th>Predicción</th>\n",
       "      <th>0</th>\n",
       "      <th>1</th>\n",
       "    </tr>\n",
       "    <tr>\n",
       "      <th>Real</th>\n",
       "      <th></th>\n",
       "      <th></th>\n",
       "    </tr>\n",
       "  </thead>\n",
       "  <tbody>\n",
       "    <tr>\n",
       "      <th>0</th>\n",
       "      <td>125</td>\n",
       "      <td>15</td>\n",
       "    </tr>\n",
       "    <tr>\n",
       "      <th>1</th>\n",
       "      <td>41</td>\n",
       "      <td>19</td>\n",
       "    </tr>\n",
       "  </tbody>\n",
       "</table>\n",
       "</div>"
      ],
      "text/plain": [
       "Predicción    0   1\n",
       "Real               \n",
       "0           125  15\n",
       "1            41  19"
      ]
     },
     "execution_count": 29,
     "metadata": {},
     "output_type": "execute_result"
    }
   ],
   "source": [
    "# Matriz de confusión de las predicciones de test\n",
    "# ==============================================================================\n",
    "confusion_matrix = pd.crosstab(\n",
    "    y_test['Default'],\n",
    "    y_test['Default_hat_nn'],\n",
    "    rownames=['Real'],\n",
    "    colnames=['Predicción']\n",
    ")\n",
    "confusion_matrix"
   ]
  },
  {
   "cell_type": "markdown",
   "id": "805a5df8",
   "metadata": {},
   "source": [
    "# F1 scores"
   ]
  },
  {
   "cell_type": "code",
   "execution_count": 30,
   "id": "9300bab7",
   "metadata": {},
   "outputs": [],
   "source": [
    "from sklearn.metrics import f1_score\n",
    "\n",
    "\n",
    "\n",
    "# Dictionary to hold F1 scores\n",
    "f1_scores = {}\n",
    "\n",
    "f1_scores['Logit'] = f1_score(    y_test['Default'], y_test['Default_hat_logit'])\n",
    "f1_scores['NN'] = f1_score(    y_test['Default'], y_test['Default_hat_nn'])\n"
   ]
  },
  {
   "cell_type": "code",
   "execution_count": 31,
   "id": "97e7cc76",
   "metadata": {},
   "outputs": [
    {
     "name": "stdout",
     "output_type": "stream",
     "text": [
      "   Model  F1 Score\n",
      "0  Logit  0.395833\n",
      "1     NN  0.404255\n"
     ]
    }
   ],
   "source": [
    "f1_df = pd.DataFrame(list(f1_scores.items()), columns=['Model', 'F1 Score'])\n",
    "print(f1_df)"
   ]
  },
  {
   "cell_type": "markdown",
   "id": "c493381d",
   "metadata": {},
   "source": [
    "# ROC"
   ]
  },
  {
   "cell_type": "code",
   "execution_count": 32,
   "id": "205eb3a1",
   "metadata": {},
   "outputs": [],
   "source": [
    "import sklearn\n",
    "from sklearn.metrics import roc_curve, auc\n"
   ]
  },
  {
   "cell_type": "code",
   "execution_count": 33,
   "id": "0e4cb67d",
   "metadata": {},
   "outputs": [
    {
     "data": {
      "image/png": "[encoded data removed]",
      "text/plain": [
       "<Figure size 640x480 with 1 Axes>"
      ]
     },
     "metadata": {},
     "output_type": "display_data"
    }
   ],
   "source": [
    "fpr, tpr, _ = roc_curve(y_test['Default'], y_test['prob_hat'])\n",
    "#roc_auc = auc(fpr, tpr)\n",
    "\n",
    "\n",
    "# Plot ROC curve\n",
    "plt.plot(fpr, tpr, label='Logit')\n",
    "plt.plot([0, 1], [0, 1], 'k--')  # Dashed diagonal\n",
    "plt.xlabel('False Positive Rate')\n",
    "plt.ylabel('True Positive Rate')\n",
    "plt.title('ROC Curves')\n",
    "plt.legend(loc='lower right')\n",
    "plt.show()"
   ]
  },
  {
   "cell_type": "code",
   "execution_count": 34,
   "id": "d7454d77",
   "metadata": {},
   "outputs": [
    {
     "data": {
      "image/png": "[encoded data removed]",
      "text/plain": [
       "<Figure size 640x480 with 1 Axes>"
      ]
     },
     "metadata": {},
     "output_type": "display_data"
    }
   ],
   "source": [
    "\n",
    "fpr_nn, tpr_nn, _ = roc_curve(y_test['Default'], y_test['prob_hat_nn'])\n",
    "roc_auc_nn = auc(fpr_nn, tpr_nn)\n",
    "\n",
    "\n",
    "# Plot ROC curve\n",
    "plt.plot(fpr_nn, tpr_nn, label='NN')\n",
    "plt.plot([0, 1], [0, 1], 'k--')  # Dashed diagonal\n",
    "plt.xlabel('False Positive Rate')\n",
    "plt.ylabel('True Positive Rate')\n",
    "plt.title('ROC Curves')\n",
    "plt.legend(loc='lower right')\n",
    "plt.show()\n"
   ]
  },
  {
   "cell_type": "code",
   "execution_count": 35,
   "id": "2a3bd519",
   "metadata": {},
   "outputs": [
    {
     "data": {
      "text/plain": [
       "0.35276487"
      ]
     },
     "execution_count": 35,
     "metadata": {},
     "output_type": "execute_result"
    }
   ],
   "source": [
    "fpr_nn, tpr_nn, thresholds = roc_curve(y_test['Default'], y_test['prob_hat_nn'])\n",
    "\n",
    "# Calculate the Euclidean distance for each point on the ROC curve from the top-left corner\n",
    "distances = np.sqrt((1 - tpr) ** 2 + fpr ** 2)\n",
    "\n",
    "# Find the optimal threshold\n",
    "optimal_idx = np.argmin(distances)\n",
    "optimal_threshold = thresholds[optimal_idx]\n",
    "optimal_threshold"
   ]
  },
  {
   "cell_type": "code",
   "execution_count": 36,
   "id": "637272c4",
   "metadata": {},
   "outputs": [],
   "source": [
    "\n",
    "# Create the predicted class labels based on the rule\n",
    "y_test['Default_hat_optimal'] = (y_test['prob_hat_nn'] > optimal_threshold).astype(int)\n"
   ]
  },
  {
   "cell_type": "code",
   "execution_count": 37,
   "id": "e867f930",
   "metadata": {},
   "outputs": [
    {
     "name": "stdout",
     "output_type": "stream",
     "text": [
      "\n",
      "El accuracy de test es: 70.0%\n"
     ]
    }
   ],
   "source": [
    "\n",
    "accuracy = accuracy_score(\n",
    "            y_true    = y_test['Default'],\n",
    "            y_pred    = y_test['Default_hat_optimal'],\n",
    "            normalize = True\n",
    "           )\n",
    "print(\"\")\n",
    "print(f\"El accuracy de test es: {100*accuracy}%\")\n",
    "\n"
   ]
  },
  {
   "cell_type": "code",
   "execution_count": 38,
   "id": "fe3abb8d",
   "metadata": {},
   "outputs": [
    {
     "name": "stdout",
     "output_type": "stream",
     "text": [
      "El F1 de test es: 39.58333333333333%\n"
     ]
    }
   ],
   "source": [
    "print(f\"El F1 de test es: {100*f1_score(    y_test['Default'], y_test['Default_hat_logit'])}%\")"
   ]
  },
  {
   "cell_type": "code",
   "execution_count": 39,
   "id": "871df85a",
   "metadata": {},
   "outputs": [
    {
     "data": {
      "text/html": [
       "<div>\n",
       "<style scoped>\n",
       "    .dataframe tbody tr th:only-of-type {\n",
       "        vertical-align: middle;\n",
       "    }\n",
       "\n",
       "    .dataframe tbody tr th {\n",
       "        vertical-align: top;\n",
       "    }\n",
       "\n",
       "    .dataframe thead th {\n",
       "        text-align: right;\n",
       "    }\n",
       "</style>\n",
       "<table border=\"1\" class=\"dataframe\">\n",
       "  <thead>\n",
       "    <tr style=\"text-align: right;\">\n",
       "      <th>Predicción</th>\n",
       "      <th>0</th>\n",
       "      <th>1</th>\n",
       "    </tr>\n",
       "    <tr>\n",
       "      <th>Real</th>\n",
       "      <th></th>\n",
       "      <th></th>\n",
       "    </tr>\n",
       "  </thead>\n",
       "  <tbody>\n",
       "    <tr>\n",
       "      <th>0</th>\n",
       "      <td>102</td>\n",
       "      <td>38</td>\n",
       "    </tr>\n",
       "    <tr>\n",
       "      <th>1</th>\n",
       "      <td>22</td>\n",
       "      <td>38</td>\n",
       "    </tr>\n",
       "  </tbody>\n",
       "</table>\n",
       "</div>"
      ],
      "text/plain": [
       "Predicción    0   1\n",
       "Real               \n",
       "0           102  38\n",
       "1            22  38"
      ]
     },
     "execution_count": 39,
     "metadata": {},
     "output_type": "execute_result"
    }
   ],
   "source": [
    "# Matriz de confusión de las predicciones de test\n",
    "# ==============================================================================\n",
    "confusion_matrix = pd.crosstab(\n",
    "    y_test['Default'],\n",
    "    y_test['Default_hat_optimal'],\n",
    "    rownames=['Real'],\n",
    "    colnames=['Predicción']\n",
    ")\n",
    "confusion_matrix"
   ]
  },
  {
   "cell_type": "code",
   "execution_count": 40,
   "id": "4e4ec457",
   "metadata": {},
   "outputs": [
    {
     "data": {
      "text/plain": [
       "0.5588235294117647"
      ]
     },
     "execution_count": 40,
     "metadata": {},
     "output_type": "execute_result"
    }
   ],
   "source": [
    "f1_score(    y_test['Default'], y_test['Default_hat_optimal'])\n"
   ]
  }
 ],
 "metadata": {
  "jupytext": {
   "formats": "ipynb,Rmd"
  },
  "kernelspec": {
   "display_name": "Python 3 (ipykernel)",
   "language": "python",
   "name": "python3"
  },
  "language_info": {
   "codemirror_mode": {
    "name": "ipython",
    "version": 3
   },
   "file_extension": ".py",
   "mimetype": "text/x-python",
   "name": "python",
   "nbconvert_exporter": "python",
   "pygments_lexer": "ipython3",
   "version": "3.11.3"
  },
  "toc": {
   "base_numbering": 1,
   "nav_menu": {},
   "number_sections": true,
   "sideBar": true,
   "skip_h1_title": false,
   "title_cell": "Table of Contents",
   "title_sidebar": "Contents",
   "toc_cell": false,
   "toc_position": {},
   "toc_section_display": true,
   "toc_window_display": false
  }
 },
 "nbformat": 4,
 "nbformat_minor": 5
}
