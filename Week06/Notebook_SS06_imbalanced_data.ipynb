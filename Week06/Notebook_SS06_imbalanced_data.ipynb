{
 "cells": [
  {
   "cell_type": "markdown",
   "metadata": {},
   "source": [
    "<div >\n",
    "    <img src = \"../banner/banner_ML_UNLP_1900_200.png\" />\n",
    "</div>"
   ]
  },
  {
   "cell_type": "markdown",
   "metadata": {},
   "source": [
    "\n",
    "<a target=\"_blank\" href=\"https://colab.research.google.com/github/ignaciomsarmiento/ML_UNLP_Lectures/blob/main/Week06/Notebook_SS06_imbalanced_data.ipynb\">\n",
    "  <img src=\"https://colab.research.google.com/assets/colab-badge.svg\" alt=\"Open In Colab\"/>\n",
    "</a>\n"
   ]
  },
  {
   "cell_type": "markdown",
   "metadata": {
    "id": "7JfLUlawto_D"
   },
   "source": [
    "# Classification on imbalanced data"
   ]
  },
  {
   "cell_type": "markdown",
   "metadata": {
    "id": "mthoSGBAOoX-"
   },
   "source": [
    "This notebook demonstrates how to classify a highly imbalanced dataset in which the number of examples in one class greatly outnumbers the examples in another. You will work with the [Credit Card Fraud Detection](https://www.kaggle.com/mlg-ulb/creditcardfraud) dataset hosted on Kaggle. The aim is to detect a mere 492 fraudulent transactions from 284,807 transactions in total. "
   ]
  },
  {
   "cell_type": "markdown",
   "metadata": {},
   "source": [
    "A classification data set with skewed class proportions is called imbalanced. Classes that make up a large proportion of the data set are called majority classes. Those that make up a smaller proportion are minority classes.\n",
    "\n",
    "What counts as imbalanced? The answer could range from mild to extreme, as the table below shows.\n",
    "\n",
    "\n",
    "| Degree of imbalance   | Proportion of Minority Class |\n",
    "|-----------|-----------|\n",
    "| Mild   | 20-40% of the data set   |\n",
    "| Moderate   | 1-20% of the data set |\n",
    "| Extreme   | <1% of the data set   |\n",
    "\n",
    "\n",
    "Why look out for imbalanced data? You may need to apply a particular sampling technique if you have a classification task with an imbalanced data set.\n",
    "\n"
   ]
  },
  {
   "cell_type": "markdown",
   "metadata": {},
   "source": [
    "Why would this be problematic? With so few positives relative to negatives, the training model will spend most of its time on negative examples and not learn enough from positive ones. For example, if your batch size is 128, many batches will have no positive examples, so the gradients will be less informative."
   ]
  },
  {
   "cell_type": "markdown",
   "metadata": {
    "id": "kRHmSyHxEIhN"
   },
   "source": [
    "## Packages"
   ]
  },
  {
   "cell_type": "code",
   "execution_count": 1,
   "metadata": {
    "execution": {
     "iopub.execute_input": "2023-10-27T05:19:05.272309Z",
     "iopub.status.busy": "2023-10-27T05:19:05.271617Z",
     "iopub.status.idle": "2023-10-27T05:19:08.225190Z",
     "shell.execute_reply": "2023-10-27T05:19:08.224183Z"
    },
    "id": "JM7hDSNClfoK"
   },
   "outputs": [
    {
     "name": "stderr",
     "output_type": "stream",
     "text": [
      "2023-12-04 19:59:19.872229: I tensorflow/core/platform/cpu_feature_guard.cc:182] This TensorFlow binary is optimized to use available CPU instructions in performance-critical operations.\n",
      "To enable the following instructions: AVX2 AVX512F AVX512_VNNI FMA, in other operations, rebuild TensorFlow with the appropriate compiler flags.\n"
     ]
    }
   ],
   "source": [
    "import tensorflow as tf\n",
    "from tensorflow import keras\n",
    "\n",
    "import os\n",
    "import tempfile\n",
    "\n",
    "import matplotlib as mpl\n",
    "import matplotlib.pyplot as plt\n",
    "import numpy as np\n",
    "import pandas as pd\n",
    "import seaborn as sns\n",
    "\n",
    "import sklearn\n",
    "from sklearn.metrics import confusion_matrix\n",
    "from sklearn.model_selection import train_test_split\n",
    "from sklearn.preprocessing import StandardScaler"
   ]
  },
  {
   "cell_type": "code",
   "execution_count": 2,
   "metadata": {
    "execution": {
     "iopub.execute_input": "2023-10-27T05:19:08.230166Z",
     "iopub.status.busy": "2023-10-27T05:19:08.229096Z",
     "iopub.status.idle": "2023-10-27T05:19:08.233338Z",
     "shell.execute_reply": "2023-10-27T05:19:08.232760Z"
    },
    "id": "c8o1FHzD-_y_"
   },
   "outputs": [],
   "source": [
    "mpl.rcParams['figure.figsize'] = (12, 10)\n",
    "colors = plt.rcParams['axes.prop_cycle'].by_key()['color']"
   ]
  },
  {
   "cell_type": "markdown",
   "metadata": {
    "id": "Z3iZVjziKHmX"
   },
   "source": [
    "## Data processing and exploration"
   ]
  },
  {
   "cell_type": "code",
   "execution_count": 3,
   "metadata": {
    "execution": {
     "iopub.execute_input": "2023-10-27T05:19:08.236732Z",
     "iopub.status.busy": "2023-10-27T05:19:08.236214Z",
     "iopub.status.idle": "2023-10-27T05:19:11.893007Z",
     "shell.execute_reply": "2023-10-27T05:19:11.892384Z"
    },
    "id": "pR_SnbMArXr7"
   },
   "outputs": [
    {
     "data": {
      "text/html": [
       "<div>\n",
       "<style scoped>\n",
       "    .dataframe tbody tr th:only-of-type {\n",
       "        vertical-align: middle;\n",
       "    }\n",
       "\n",
       "    .dataframe tbody tr th {\n",
       "        vertical-align: top;\n",
       "    }\n",
       "\n",
       "    .dataframe thead th {\n",
       "        text-align: right;\n",
       "    }\n",
       "</style>\n",
       "<table border=\"1\" class=\"dataframe\">\n",
       "  <thead>\n",
       "    <tr style=\"text-align: right;\">\n",
       "      <th></th>\n",
       "      <th>Time</th>\n",
       "      <th>V1</th>\n",
       "      <th>V2</th>\n",
       "      <th>V3</th>\n",
       "      <th>V4</th>\n",
       "      <th>V5</th>\n",
       "      <th>V6</th>\n",
       "      <th>V7</th>\n",
       "      <th>V8</th>\n",
       "      <th>V9</th>\n",
       "      <th>...</th>\n",
       "      <th>V21</th>\n",
       "      <th>V22</th>\n",
       "      <th>V23</th>\n",
       "      <th>V24</th>\n",
       "      <th>V25</th>\n",
       "      <th>V26</th>\n",
       "      <th>V27</th>\n",
       "      <th>V28</th>\n",
       "      <th>Amount</th>\n",
       "      <th>Class</th>\n",
       "    </tr>\n",
       "  </thead>\n",
       "  <tbody>\n",
       "    <tr>\n",
       "      <th>0</th>\n",
       "      <td>0.0</td>\n",
       "      <td>-1.359807</td>\n",
       "      <td>-0.072781</td>\n",
       "      <td>2.536347</td>\n",
       "      <td>1.378155</td>\n",
       "      <td>-0.338321</td>\n",
       "      <td>0.462388</td>\n",
       "      <td>0.239599</td>\n",
       "      <td>0.098698</td>\n",
       "      <td>0.363787</td>\n",
       "      <td>...</td>\n",
       "      <td>-0.018307</td>\n",
       "      <td>0.277838</td>\n",
       "      <td>-0.110474</td>\n",
       "      <td>0.066928</td>\n",
       "      <td>0.128539</td>\n",
       "      <td>-0.189115</td>\n",
       "      <td>0.133558</td>\n",
       "      <td>-0.021053</td>\n",
       "      <td>149.62</td>\n",
       "      <td>0</td>\n",
       "    </tr>\n",
       "    <tr>\n",
       "      <th>1</th>\n",
       "      <td>0.0</td>\n",
       "      <td>1.191857</td>\n",
       "      <td>0.266151</td>\n",
       "      <td>0.166480</td>\n",
       "      <td>0.448154</td>\n",
       "      <td>0.060018</td>\n",
       "      <td>-0.082361</td>\n",
       "      <td>-0.078803</td>\n",
       "      <td>0.085102</td>\n",
       "      <td>-0.255425</td>\n",
       "      <td>...</td>\n",
       "      <td>-0.225775</td>\n",
       "      <td>-0.638672</td>\n",
       "      <td>0.101288</td>\n",
       "      <td>-0.339846</td>\n",
       "      <td>0.167170</td>\n",
       "      <td>0.125895</td>\n",
       "      <td>-0.008983</td>\n",
       "      <td>0.014724</td>\n",
       "      <td>2.69</td>\n",
       "      <td>0</td>\n",
       "    </tr>\n",
       "    <tr>\n",
       "      <th>2</th>\n",
       "      <td>1.0</td>\n",
       "      <td>-1.358354</td>\n",
       "      <td>-1.340163</td>\n",
       "      <td>1.773209</td>\n",
       "      <td>0.379780</td>\n",
       "      <td>-0.503198</td>\n",
       "      <td>1.800499</td>\n",
       "      <td>0.791461</td>\n",
       "      <td>0.247676</td>\n",
       "      <td>-1.514654</td>\n",
       "      <td>...</td>\n",
       "      <td>0.247998</td>\n",
       "      <td>0.771679</td>\n",
       "      <td>0.909412</td>\n",
       "      <td>-0.689281</td>\n",
       "      <td>-0.327642</td>\n",
       "      <td>-0.139097</td>\n",
       "      <td>-0.055353</td>\n",
       "      <td>-0.059752</td>\n",
       "      <td>378.66</td>\n",
       "      <td>0</td>\n",
       "    </tr>\n",
       "    <tr>\n",
       "      <th>3</th>\n",
       "      <td>1.0</td>\n",
       "      <td>-0.966272</td>\n",
       "      <td>-0.185226</td>\n",
       "      <td>1.792993</td>\n",
       "      <td>-0.863291</td>\n",
       "      <td>-0.010309</td>\n",
       "      <td>1.247203</td>\n",
       "      <td>0.237609</td>\n",
       "      <td>0.377436</td>\n",
       "      <td>-1.387024</td>\n",
       "      <td>...</td>\n",
       "      <td>-0.108300</td>\n",
       "      <td>0.005274</td>\n",
       "      <td>-0.190321</td>\n",
       "      <td>-1.175575</td>\n",
       "      <td>0.647376</td>\n",
       "      <td>-0.221929</td>\n",
       "      <td>0.062723</td>\n",
       "      <td>0.061458</td>\n",
       "      <td>123.50</td>\n",
       "      <td>0</td>\n",
       "    </tr>\n",
       "    <tr>\n",
       "      <th>4</th>\n",
       "      <td>2.0</td>\n",
       "      <td>-1.158233</td>\n",
       "      <td>0.877737</td>\n",
       "      <td>1.548718</td>\n",
       "      <td>0.403034</td>\n",
       "      <td>-0.407193</td>\n",
       "      <td>0.095921</td>\n",
       "      <td>0.592941</td>\n",
       "      <td>-0.270533</td>\n",
       "      <td>0.817739</td>\n",
       "      <td>...</td>\n",
       "      <td>-0.009431</td>\n",
       "      <td>0.798278</td>\n",
       "      <td>-0.137458</td>\n",
       "      <td>0.141267</td>\n",
       "      <td>-0.206010</td>\n",
       "      <td>0.502292</td>\n",
       "      <td>0.219422</td>\n",
       "      <td>0.215153</td>\n",
       "      <td>69.99</td>\n",
       "      <td>0</td>\n",
       "    </tr>\n",
       "  </tbody>\n",
       "</table>\n",
       "<p>5 rows × 31 columns</p>\n",
       "</div>"
      ],
      "text/plain": [
       "   Time        V1        V2        V3        V4        V5        V6        V7  \\\n",
       "0   0.0 -1.359807 -0.072781  2.536347  1.378155 -0.338321  0.462388  0.239599   \n",
       "1   0.0  1.191857  0.266151  0.166480  0.448154  0.060018 -0.082361 -0.078803   \n",
       "2   1.0 -1.358354 -1.340163  1.773209  0.379780 -0.503198  1.800499  0.791461   \n",
       "3   1.0 -0.966272 -0.185226  1.792993 -0.863291 -0.010309  1.247203  0.237609   \n",
       "4   2.0 -1.158233  0.877737  1.548718  0.403034 -0.407193  0.095921  0.592941   \n",
       "\n",
       "         V8        V9  ...       V21       V22       V23       V24       V25  \\\n",
       "0  0.098698  0.363787  ... -0.018307  0.277838 -0.110474  0.066928  0.128539   \n",
       "1  0.085102 -0.255425  ... -0.225775 -0.638672  0.101288 -0.339846  0.167170   \n",
       "2  0.247676 -1.514654  ...  0.247998  0.771679  0.909412 -0.689281 -0.327642   \n",
       "3  0.377436 -1.387024  ... -0.108300  0.005274 -0.190321 -1.175575  0.647376   \n",
       "4 -0.270533  0.817739  ... -0.009431  0.798278 -0.137458  0.141267 -0.206010   \n",
       "\n",
       "        V26       V27       V28  Amount  Class  \n",
       "0 -0.189115  0.133558 -0.021053  149.62      0  \n",
       "1  0.125895 -0.008983  0.014724    2.69      0  \n",
       "2 -0.139097 -0.055353 -0.059752  378.66      0  \n",
       "3 -0.221929  0.062723  0.061458  123.50      0  \n",
       "4  0.502292  0.219422  0.215153   69.99      0  \n",
       "\n",
       "[5 rows x 31 columns]"
      ]
     },
     "execution_count": 3,
     "metadata": {},
     "output_type": "execute_result"
    }
   ],
   "source": [
    "file = tf.keras.utils\n",
    "raw_df = pd.read_csv('https://storage.googleapis.com/download.tensorflow.org/data/creditcard.csv')\n",
    "raw_df.head()"
   ]
  },
  {
   "cell_type": "markdown",
   "metadata": {
    "execution": {
     "iopub.execute_input": "2023-10-27T05:19:11.896825Z",
     "iopub.status.busy": "2023-10-27T05:19:11.896164Z",
     "iopub.status.idle": "2023-10-27T05:19:12.030137Z",
     "shell.execute_reply": "2023-10-27T05:19:12.029487Z"
    },
    "id": "-fgdQgmwUFuj"
   },
   "source": [
    "Note: This dataset has been collected and analysed during a research collaboration of Worldline and the [Machine Learning Group](http://mlg.ulb.ac.be) of ULB (Université Libre de Bruxelles) on big data mining and fraud detection. More details on current and past projects on related topics are available [here](https://www.researchgate.net/project/Fraud-detection-5) and the page of the [DefeatFraud](https://mlg.ulb.ac.be/wordpress/portfolio_page/defeatfraud-assessment-and-validation-of-deep-feature-engineering-and-learning-solutions-for-fraud-detection/) project"
   ]
  },
  {
   "cell_type": "markdown",
   "metadata": {
    "id": "xWKB_CVZFLpB"
   },
   "source": [
    "### Examine the class label imbalance\n",
    "\n",
    "Let's look at the dataset imbalance:"
   ]
  },
  {
   "cell_type": "code",
   "execution_count": 4,
   "metadata": {
    "execution": {
     "iopub.execute_input": "2023-10-27T05:19:12.033708Z",
     "iopub.status.busy": "2023-10-27T05:19:12.033468Z",
     "iopub.status.idle": "2023-10-27T05:19:12.038202Z",
     "shell.execute_reply": "2023-10-27T05:19:12.037607Z"
    },
    "id": "HCJFrtuY2iLF"
   },
   "outputs": [
    {
     "name": "stdout",
     "output_type": "stream",
     "text": [
      "Examples:\n",
      "    Total: 284807\n",
      "    Positive: 492 (0.17% of total)\n",
      "\n"
     ]
    }
   ],
   "source": [
    "neg, pos = np.bincount(raw_df['Class'])\n",
    "total = neg + pos\n",
    "print('Examples:\\n    Total: {}\\n    Positive: {} ({:.2f}% of total)\\n'.format(\n",
    "    total, pos, 100 * pos / total))"
   ]
  },
  {
   "cell_type": "markdown",
   "metadata": {
    "id": "KnLKFQDsCBUg"
   },
   "source": [
    "This shows the small fraction of positive samples. "
   ]
  },
  {
   "cell_type": "markdown",
   "metadata": {
    "id": "6qox6ryyzwdr"
   },
   "source": [
    "### Data cleaning\n",
    "\n",
    "The raw data has a few issues. First the `Time` and `Amount` columns are too variable to use directly. Drop the `Time` column (since it's not clear what it means) and take the log of the `Amount` column to reduce its range."
   ]
  },
  {
   "cell_type": "code",
   "execution_count": 5,
   "metadata": {
    "execution": {
     "iopub.execute_input": "2023-10-27T05:19:12.041522Z",
     "iopub.status.busy": "2023-10-27T05:19:12.041278Z",
     "iopub.status.idle": "2023-10-27T05:19:12.065334Z",
     "shell.execute_reply": "2023-10-27T05:19:12.064751Z"
    },
    "id": "Ef42jTuxEjnj"
   },
   "outputs": [],
   "source": [
    "cleaned_df = raw_df.copy()\n",
    "\n",
    "# You don't want the `Time` column.\n",
    "cleaned_df.pop('Time')\n",
    "\n",
    "# The `Amount` column covers a huge range. Convert to log-space.\n",
    "eps = 0.001 # 0 => 0.1¢\n",
    "cleaned_df['Log Amount'] = np.log(cleaned_df.pop('Amount')+eps)"
   ]
  },
  {
   "cell_type": "markdown",
   "metadata": {},
   "source": [
    "### Split in training, validation, and test sets."
   ]
  },
  {
   "cell_type": "markdown",
   "metadata": {},
   "source": [
    "- The goal is to predict well out of sample\n",
    "\n",
    "- We do not want to overfit the training sample\n",
    "\n",
    "- We are going to define 3 datasets\n",
    "\n",
    "    - train, \n",
    "    - validation, and \n",
    "    - test sets. \n",
    "    \n",
    "    The validation set is used during the model fitting to evaluate the loss and any metrics, however the model is not fit with this data. The test set is completely unused during the training phase and is only used at the end to evaluate how well the model generalizes to new data. This is especially important with imbalanced datasets where overfitting  is a significant concern from the lack of training data."
   ]
  },
  {
   "cell_type": "code",
   "execution_count": 6,
   "metadata": {
    "execution": {
     "iopub.execute_input": "2023-10-27T05:19:12.068651Z",
     "iopub.status.busy": "2023-10-27T05:19:12.068432Z",
     "iopub.status.idle": "2023-10-27T05:19:12.272889Z",
     "shell.execute_reply": "2023-10-27T05:19:12.272149Z"
    },
    "id": "xfxhKg7Yr1-b"
   },
   "outputs": [],
   "source": [
    "# Use a utility from sklearn to split and shuffle your dataset.\n",
    "train_df, test_df = train_test_split(cleaned_df, test_size=0.2)\n",
    "train_df, val_df = train_test_split(train_df, test_size=0.2)\n",
    "\n",
    "# Form np arrays of labels and features.\n",
    "train_labels = np.array(train_df.pop('Class'))\n",
    "bool_train_labels = train_labels != 0\n",
    "val_labels = np.array(val_df.pop('Class'))\n",
    "test_labels = np.array(test_df.pop('Class'))\n",
    "\n",
    "train_features = np.array(train_df)\n",
    "val_features = np.array(val_df)\n",
    "test_features = np.array(test_df)"
   ]
  },
  {
   "cell_type": "markdown",
   "metadata": {
    "id": "8a_Z_kBmr7Oh"
   },
   "source": [
    "We check whether the distribution of the classes in the three sets is about the same or not."
   ]
  },
  {
   "cell_type": "code",
   "execution_count": 7,
   "metadata": {
    "execution": {
     "iopub.execute_input": "2023-10-27T05:19:12.277387Z",
     "iopub.status.busy": "2023-10-27T05:19:12.277147Z",
     "iopub.status.idle": "2023-10-27T05:19:12.281759Z",
     "shell.execute_reply": "2023-10-27T05:19:12.281080Z"
    },
    "id": "96520cffee66"
   },
   "outputs": [
    {
     "name": "stdout",
     "output_type": "stream",
     "text": [
      "Average class probability in training set:   0.0018\n",
      "Average class probability in validation set: 0.0016\n",
      "Average class probability in test set:       0.0015\n"
     ]
    }
   ],
   "source": [
    "print(f'Average class probability in training set:   {train_labels.mean():.4f}')\n",
    "print(f'Average class probability in validation set: {val_labels.mean():.4f}')\n",
    "print(f'Average class probability in test set:       {test_labels.mean():.4f}')"
   ]
  },
  {
   "cell_type": "markdown",
   "metadata": {
    "id": "8a_Z_kBmr7Oh"
   },
   "source": [
    "Given the small number of positive labels, this seems about right.\n",
    "\n",
    "Normalize the input features using the sklearn StandardScaler.\n",
    "This will set the mean to 0 and standard deviation to 1.\n",
    "\n",
    "Note: The `StandardScaler` is only fit using the `train_features` to be sure the model is not peeking at the validation or test sets. "
   ]
  },
  {
   "cell_type": "code",
   "execution_count": 8,
   "metadata": {
    "execution": {
     "iopub.execute_input": "2023-10-27T05:19:12.284871Z",
     "iopub.status.busy": "2023-10-27T05:19:12.284641Z",
     "iopub.status.idle": "2023-10-27T05:19:12.402094Z",
     "shell.execute_reply": "2023-10-27T05:19:12.401320Z"
    },
    "id": "IO-qEUmJ5JQg"
   },
   "outputs": [
    {
     "name": "stdout",
     "output_type": "stream",
     "text": [
      "Training labels shape: (182276,)\n",
      "Validation labels shape: (45569,)\n",
      "Test labels shape: (56962,)\n",
      "Training features shape: (182276, 29)\n",
      "Validation features shape: (45569, 29)\n",
      "Test features shape: (56962, 29)\n"
     ]
    }
   ],
   "source": [
    "scaler = StandardScaler()\n",
    "train_features = scaler.fit_transform(train_features)\n",
    "\n",
    "val_features = scaler.transform(val_features)\n",
    "test_features = scaler.transform(test_features)\n",
    "\n",
    "train_features = np.clip(train_features, -5, 5)\n",
    "val_features = np.clip(val_features, -5, 5)\n",
    "test_features = np.clip(test_features, -5, 5)\n",
    "\n",
    "\n",
    "print('Training labels shape:', train_labels.shape)\n",
    "print('Validation labels shape:', val_labels.shape)\n",
    "print('Test labels shape:', test_labels.shape)\n",
    "\n",
    "print('Training features shape:', train_features.shape)\n",
    "print('Validation features shape:', val_features.shape)\n",
    "print('Test features shape:', test_features.shape)\n"
   ]
  },
  {
   "cell_type": "markdown",
   "metadata": {
    "id": "uQ7m9nqDC3W6"
   },
   "source": [
    "### Look at the data \n"
   ]
  },
  {
   "cell_type": "code",
   "execution_count": 9,
   "metadata": {
    "execution": {
     "iopub.execute_input": "2023-10-27T05:19:12.405772Z",
     "iopub.status.busy": "2023-10-27T05:19:12.405529Z",
     "iopub.status.idle": "2023-10-27T05:19:14.297115Z",
     "shell.execute_reply": "2023-10-27T05:19:14.296479Z"
    },
    "id": "raK7hyjd_vf6"
   },
   "outputs": [
    {
     "data": {
      "image/png": "[encoded data removed]",
      "text/plain": [
       "<Figure size 600x600 with 3 Axes>"
      ]
     },
     "metadata": {},
     "output_type": "display_data"
    },
    {
     "data": {
      "image/png": "[encoded data removed]",
      "text/plain": [
       "<Figure size 600x600 with 3 Axes>"
      ]
     },
     "metadata": {},
     "output_type": "display_data"
    }
   ],
   "source": [
    "pos_df = pd.DataFrame(train_features[ bool_train_labels], columns=train_df.columns)\n",
    "neg_df = pd.DataFrame(train_features[~bool_train_labels], columns=train_df.columns)\n",
    "\n",
    "sns.jointplot(x=pos_df['V5'], y=pos_df['V6'],\n",
    "              kind='hex', xlim=(-5,5), ylim=(-5,5))\n",
    "plt.suptitle(\"Fraud distribution\")\n",
    "\n",
    "sns.jointplot(x=neg_df['V5'], y=neg_df['V6'],\n",
    "              kind='hex', xlim=(-5,5), ylim=(-5,5))\n",
    "_ = plt.suptitle(\"Non Fraud distribution\")"
   ]
  },
  {
   "cell_type": "markdown",
   "metadata": {
    "id": "qFK1u4JX16D8"
   },
   "source": [
    "## The evaluation metrics"
   ]
  },
  {
   "cell_type": "markdown",
   "metadata": {
    "id": "SU0GX6E6mieP"
   },
   "source": [
    "#### Metrics for deterministic 0/1 predictions\n",
    "\n",
    "In the end, one often wants to predict a class label, 0 or 1, *no fraud* or *fraud*.\n",
    "\n",
    "To get a label prediction from our probabilistic classifier, one needs to choose a probability threshold $c$.\n",
    "\n",
    "The default is to predict label 1 (fraud) if the predicted probability is larger than $c=50\\%$ and all the following metrics implicitly use this default. \n",
    "\n",
    "*   **False** negatives and **false** positives are observations that were **incorrectly** classified\n",
    "*   **True** negatives and **true** positives are observations that were **correctly** classified\n",
    "*   **Accuracy** is the percentage of observations correctly classified\n",
    ">   $\\frac{\\text{true observations}}{\\text{total observations}}$\n",
    "*   **Precision** is the percentage of **predicted** positives that were correctly classified\n",
    ">   $\\frac{\\text{true positives}}{\\text{true positives + false positives}}$\n",
    "*   **Recall** is the percentage of **actual** positives that were correctly classified\n",
    ">   $\\frac{\\text{true positives}}{\\text{true positives + false negatives}}$\n",
    "\n",
    "**Note:** Accuracy is not a helpful metric for this task. You can have 99.8%+ accuracy on this task by predicting False all the time.  \n",
    "\n",
    "#### Other metrices\n",
    "\n",
    "The Area Under the Curve of a Receiver Operating Characteristic curve (ROC-AUC) take into account all possible choices of thresholds $c$.. This metric is equal to the probability that a classifier will rank a random positive sample higher than a random negative sample.\n",
    " \n",
    "\n"
   ]
  },
  {
   "cell_type": "code",
   "execution_count": 10,
   "metadata": {
    "execution": {
     "iopub.execute_input": "2023-10-27T05:19:14.301108Z",
     "iopub.status.busy": "2023-10-27T05:19:14.300832Z",
     "iopub.status.idle": "2023-10-27T05:19:16.551524Z",
     "shell.execute_reply": "2023-10-27T05:19:16.550799Z"
    },
    "id": "3JQDzUqT3UYG"
   },
   "outputs": [],
   "source": [
    "METRICS = [\n",
    "      keras.metrics.BinaryCrossentropy(name='cross entropy'),  # same as model's loss\n",
    "      keras.metrics.TruePositives(name='tp'),\n",
    "      keras.metrics.FalsePositives(name='fp'),\n",
    "      keras.metrics.TrueNegatives(name='tn'),\n",
    "      keras.metrics.FalseNegatives(name='fn'), \n",
    "      keras.metrics.BinaryAccuracy(name='accuracy'),\n",
    "      keras.metrics.Precision(name='precision'),\n",
    "      keras.metrics.Recall(name='recall'),\n",
    "      keras.metrics.AUC(name='auc')\n",
    "]\n"
   ]
  },
  {
   "cell_type": "markdown",
   "metadata": {},
   "source": [
    "## The Neural Network model\n",
    "\n",
    "Define a function that creates a simple neural network with a densly connected hidden layer, a [dropout](https://developers.google.com/machine-learning/glossary/#dropout_regularization) layer to reduce overfitting, and an output sigmoid layer that returns the probability of a transaction being fraudulent: "
   ]
  },
  {
   "cell_type": "markdown",
   "metadata": {},
   "source": [
    "<div >\n",
    "    <img src = \"figures/red_neuronal.png\" />\n",
    "</div>"
   ]
  },
  {
   "cell_type": "code",
   "execution_count": 11,
   "metadata": {},
   "outputs": [],
   "source": [
    "def make_model(metrics=METRICS, output_bias=None):\n",
    "  if output_bias is not None:\n",
    "    output_bias = tf.keras.initializers.Constant(output_bias)\n",
    "  model = keras.Sequential([\n",
    "      keras.layers.Dense(16, activation='relu',input_shape=(train_features.shape[-1],)),\n",
    "      keras.layers.Dropout(0.5),\n",
    "      keras.layers.Dense(1, activation='sigmoid',\n",
    "                         bias_initializer=output_bias),\n",
    "  ])\n",
    "\n",
    "  model.compile(\n",
    "      optimizer=keras.optimizers.Adam(learning_rate=1e-3),\n",
    "      loss=keras.losses.BinaryCrossentropy(),\n",
    "      metrics=metrics)\n",
    "\n",
    "  return model"
   ]
  },
  {
   "cell_type": "markdown",
   "metadata": {
    "id": "FYdhSAoaF_TK"
   },
   "source": [
    "## Baseline model"
   ]
  },
  {
   "cell_type": "markdown",
   "metadata": {
    "id": "IDbltVPg2m2q"
   },
   "source": [
    "### Build the model\n",
    "\n",
    "Now create and train our first model using the function that was defined earlier. \n"
   ]
  },
  {
   "cell_type": "code",
   "execution_count": 12,
   "metadata": {
    "execution": {
     "iopub.execute_input": "2023-10-27T05:19:16.556076Z",
     "iopub.status.busy": "2023-10-27T05:19:16.555563Z",
     "iopub.status.idle": "2023-10-27T05:19:16.559347Z",
     "shell.execute_reply": "2023-10-27T05:19:16.558664Z"
    },
    "id": "ouUkwPcGQsy3"
   },
   "outputs": [],
   "source": [
    "EPOCHS = 100\n",
    "BATCH_SIZE = 2048\n",
    "\n",
    "early_stopping = tf.keras.callbacks.EarlyStopping(\n",
    "    monitor='recall', \n",
    "    verbose=1,\n",
    "    patience=10,\n",
    "    mode='max',\n",
    "    restore_best_weights=True)"
   ]
  },
  {
   "cell_type": "markdown",
   "metadata": {},
   "source": [
    "Notice that the model is fit using a larger than default batch size of 2048, this is important to ensure that each batch has a decent chance of containing a few positive samples. If the batch size was too small, they would likely have no fraudulent transactions to learn from.\n"
   ]
  },
  {
   "cell_type": "code",
   "execution_count": 13,
   "metadata": {
    "execution": {
     "iopub.execute_input": "2023-10-27T05:19:16.562738Z",
     "iopub.status.busy": "2023-10-27T05:19:16.562204Z",
     "iopub.status.idle": "2023-10-27T05:19:16.629594Z",
     "shell.execute_reply": "2023-10-27T05:19:16.629032Z"
    },
    "id": "1xlR_dekzw7C"
   },
   "outputs": [
    {
     "name": "stdout",
     "output_type": "stream",
     "text": [
      "Model: \"sequential\"\n",
      "_________________________________________________________________\n",
      " Layer (type)                Output Shape              Param #   \n",
      "=================================================================\n",
      " dense (Dense)               (None, 16)                480       \n",
      "                                                                 \n",
      " dropout (Dropout)           (None, 16)                0         \n",
      "                                                                 \n",
      " dense_1 (Dense)             (None, 1)                 17        \n",
      "                                                                 \n",
      "=================================================================\n",
      "Total params: 497 (1.94 KB)\n",
      "Trainable params: 497 (1.94 KB)\n",
      "Non-trainable params: 0 (0.00 Byte)\n",
      "_________________________________________________________________\n"
     ]
    }
   ],
   "source": [
    "model = make_model()\n",
    "model.summary()"
   ]
  },
  {
   "cell_type": "markdown",
   "metadata": {
    "id": "Wx7ND3_SqckO"
   },
   "source": [
    "Test run the model:"
   ]
  },
  {
   "cell_type": "code",
   "execution_count": 14,
   "metadata": {
    "execution": {
     "iopub.execute_input": "2023-10-27T05:19:16.636868Z",
     "iopub.status.busy": "2023-10-27T05:19:16.636325Z",
     "iopub.status.idle": "2023-10-27T05:19:17.022016Z",
     "shell.execute_reply": "2023-10-27T05:19:17.021249Z"
    },
    "id": "LopSd-yQqO3a"
   },
   "outputs": [
    {
     "name": "stdout",
     "output_type": "stream",
     "text": [
      "1/1 [==============================] - 0s 92ms/step\n"
     ]
    },
    {
     "data": {
      "text/plain": [
       "array([[0.47718573],\n",
       "       [0.33980274],\n",
       "       [0.30451548],\n",
       "       [0.2910974 ],\n",
       "       [0.2846249 ],\n",
       "       [0.18071115],\n",
       "       [0.42406547],\n",
       "       [0.14950973],\n",
       "       [0.33779615],\n",
       "       [0.32822984]], dtype=float32)"
      ]
     },
     "execution_count": 14,
     "metadata": {},
     "output_type": "execute_result"
    }
   ],
   "source": [
    "model.predict(train_features[:10])"
   ]
  },
  {
   "cell_type": "markdown",
   "metadata": {
    "id": "YKIgWqHms_03"
   },
   "source": [
    "### Optional: Set the correct initial bias."
   ]
  },
  {
   "cell_type": "markdown",
   "metadata": {
    "id": "qk_3Ry6EoYDq"
   },
   "source": [
    "- These initial guesses are not great. \n",
    "\n",
    "- We know the dataset is imbalanced. Set the output layer's bias to reflect that, see [A Recipe for Training Neural Networks: \"init well\"](http://karpathy.github.io/2019/04/25/recipe/#2-set-up-the-end-to-end-trainingevaluation-skeleton--get-dumb-baselines). This can help with initial convergence."
   ]
  },
  {
   "cell_type": "markdown",
   "metadata": {
    "id": "PdbfWDuVpo6k"
   },
   "source": [
    "With the default bias initialization the loss should be about `math.log(2) = 0.69314` "
   ]
  },
  {
   "cell_type": "code",
   "execution_count": 15,
   "metadata": {
    "execution": {
     "iopub.execute_input": "2023-10-27T05:19:17.025921Z",
     "iopub.status.busy": "2023-10-27T05:19:17.025360Z",
     "iopub.status.idle": "2023-10-27T05:19:20.391242Z",
     "shell.execute_reply": "2023-10-27T05:19:20.390560Z"
    },
    "id": "H-oPqh3SoGXk"
   },
   "outputs": [
    {
     "name": "stdout",
     "output_type": "stream",
     "text": [
      "Loss: 0.3916\n"
     ]
    }
   ],
   "source": [
    "results = model.evaluate(train_features, train_labels, batch_size=BATCH_SIZE, verbose=0)\n",
    "print(\"Loss: {:0.4f}\".format(results[0]))"
   ]
  },
  {
   "cell_type": "markdown",
   "metadata": {
    "id": "hE-JRzfKqfhB"
   },
   "source": [
    "The correct bias to set can be derived from:\n",
    "\n",
    "$$ p_0 = pos/(pos + neg) = 1/(1+e^{-b_0}) $$\n",
    "$$ b_0 = -log_e(1/p_0 - 1) $$\n",
    "$$ b_0 = log_e(pos/neg)$$"
   ]
  },
  {
   "cell_type": "code",
   "execution_count": 16,
   "metadata": {
    "execution": {
     "iopub.execute_input": "2023-10-27T05:19:20.395149Z",
     "iopub.status.busy": "2023-10-27T05:19:20.394459Z",
     "iopub.status.idle": "2023-10-27T05:19:20.399413Z",
     "shell.execute_reply": "2023-10-27T05:19:20.398859Z"
    },
    "id": "F5KWPSjjstUS"
   },
   "outputs": [
    {
     "data": {
      "text/plain": [
       "array([-6.35935934])"
      ]
     },
     "execution_count": 16,
     "metadata": {},
     "output_type": "execute_result"
    }
   ],
   "source": [
    "initial_bias = np.log([pos/neg])\n",
    "initial_bias"
   ]
  },
  {
   "cell_type": "markdown",
   "metadata": {
    "id": "d1juXI9yY1KD"
   },
   "source": [
    "Set that as the initial bias, and the model will give much more reasonable initial guesses. \n",
    "\n",
    "It should be near: `pos/total = 0.0018`"
   ]
  },
  {
   "cell_type": "code",
   "execution_count": 17,
   "metadata": {
    "execution": {
     "iopub.execute_input": "2023-10-27T05:19:20.402848Z",
     "iopub.status.busy": "2023-10-27T05:19:20.402345Z",
     "iopub.status.idle": "2023-10-27T05:19:20.546967Z",
     "shell.execute_reply": "2023-10-27T05:19:20.546358Z"
    },
    "id": "50oyu1uss0i-"
   },
   "outputs": [
    {
     "name": "stdout",
     "output_type": "stream",
     "text": [
      "1/1 [==============================] - 0s 34ms/step\n"
     ]
    },
    {
     "data": {
      "text/plain": [
       "array([[0.00161793],\n",
       "       [0.00162108],\n",
       "       [0.00052852],\n",
       "       [0.00064108],\n",
       "       [0.00127435],\n",
       "       [0.00291445],\n",
       "       [0.0005491 ],\n",
       "       [0.00056652],\n",
       "       [0.00110069],\n",
       "       [0.00054473]], dtype=float32)"
      ]
     },
     "execution_count": 17,
     "metadata": {},
     "output_type": "execute_result"
    }
   ],
   "source": [
    "model = make_model(output_bias=initial_bias)\n",
    "model.predict(train_features[:10])"
   ]
  },
  {
   "cell_type": "markdown",
   "metadata": {
    "id": "4xqFYb2KqRHQ"
   },
   "source": [
    "With this initialization the initial loss should be approximately:\n",
    "\n",
    "$$-p_0log(p_0)-(1-p_0)log(1-p_0) = 0.01317$$"
   ]
  },
  {
   "cell_type": "code",
   "execution_count": 18,
   "metadata": {
    "execution": {
     "iopub.execute_input": "2023-10-27T05:19:20.550587Z",
     "iopub.status.busy": "2023-10-27T05:19:20.550082Z",
     "iopub.status.idle": "2023-10-27T05:19:21.376644Z",
     "shell.execute_reply": "2023-10-27T05:19:21.375837Z"
    },
    "id": "xVDqCWXDqHSc"
   },
   "outputs": [
    {
     "name": "stdout",
     "output_type": "stream",
     "text": [
      "Loss: 0.0175\n"
     ]
    }
   ],
   "source": [
    "results = model.evaluate(train_features, train_labels, batch_size=BATCH_SIZE, verbose=0)\n",
    "print(\"Loss: {:0.4f}\".format(results[0]))"
   ]
  },
  {
   "cell_type": "markdown",
   "metadata": {
    "id": "FrDC8hvNr9yw"
   },
   "source": [
    "This initial loss is order of magnitude less than it would have been with naive initialization.\n",
    "\n",
    "This way the model doesn't need to spend the first few epochs just learning that positive examples are unlikely. It also makes it easier to read plots of the loss during training."
   ]
  },
  {
   "cell_type": "markdown",
   "metadata": {
    "id": "0EJj9ixKVBMT"
   },
   "source": [
    "### Checkpoint the initial weights\n",
    "\n",
    "To make the various training runs more comparable, keep this initial model's weights in a checkpoint file, and load them into each model before training:"
   ]
  },
  {
   "cell_type": "code",
   "execution_count": 19,
   "metadata": {
    "execution": {
     "iopub.execute_input": "2023-10-27T05:19:21.379959Z",
     "iopub.status.busy": "2023-10-27T05:19:21.379724Z",
     "iopub.status.idle": "2023-10-27T05:19:21.412925Z",
     "shell.execute_reply": "2023-10-27T05:19:21.412245Z"
    },
    "id": "_tSUm4yAVIif"
   },
   "outputs": [],
   "source": [
    "initial_weights = os.path.join(tempfile.mkdtemp(), 'initial_weights')\n",
    "model.save_weights(initial_weights)"
   ]
  },
  {
   "cell_type": "markdown",
   "metadata": {
    "id": "EVXiLyqyZ8AX"
   },
   "source": [
    "### Confirm that the bias fix helps\n",
    "\n",
    "Before moving on, confirm quick that the careful bias initialization actually helped.\n",
    "\n",
    "Train the model for 20 epochs, with and without this careful initialization, and compare the losses: "
   ]
  },
  {
   "cell_type": "code",
   "execution_count": 20,
   "metadata": {
    "execution": {
     "iopub.execute_input": "2023-10-27T05:19:21.416542Z",
     "iopub.status.busy": "2023-10-27T05:19:21.416126Z",
     "iopub.status.idle": "2023-10-27T05:19:32.249613Z",
     "shell.execute_reply": "2023-10-27T05:19:32.248807Z"
    },
    "id": "Dm4-4K5RZ63Q"
   },
   "outputs": [],
   "source": [
    "model = make_model()\n",
    "model.load_weights(initial_weights)\n",
    "model.layers[-1].bias.assign([0.0])\n",
    "\n",
    "zero_bias_history = model.fit(\n",
    "    train_features,\n",
    "    train_labels,\n",
    "    batch_size=BATCH_SIZE,\n",
    "    epochs=20,\n",
    "    validation_data=(val_features, val_labels), \n",
    "    verbose=0)"
   ]
  },
  {
   "cell_type": "code",
   "execution_count": 21,
   "metadata": {
    "execution": {
     "iopub.execute_input": "2023-10-27T05:19:32.254106Z",
     "iopub.status.busy": "2023-10-27T05:19:32.253435Z",
     "iopub.status.idle": "2023-10-27T05:19:42.883908Z",
     "shell.execute_reply": "2023-10-27T05:19:42.883112Z"
    },
    "id": "j8DsLXHQaSql"
   },
   "outputs": [],
   "source": [
    "model = make_model()\n",
    "model.load_weights(initial_weights)\n",
    "\n",
    "careful_bias_history = model.fit(\n",
    "    train_features,\n",
    "    train_labels,\n",
    "    batch_size=BATCH_SIZE,\n",
    "    epochs=20,\n",
    "    validation_data=(val_features, val_labels), \n",
    "    verbose=0)"
   ]
  },
  {
   "cell_type": "code",
   "execution_count": 22,
   "metadata": {
    "execution": {
     "iopub.execute_input": "2023-10-27T05:19:42.888108Z",
     "iopub.status.busy": "2023-10-27T05:19:42.887538Z",
     "iopub.status.idle": "2023-10-27T05:19:42.892268Z",
     "shell.execute_reply": "2023-10-27T05:19:42.891602Z"
    },
    "id": "E3XsMBjhauFV"
   },
   "outputs": [],
   "source": [
    "def plot_loss(history, label, n):\n",
    "  # Use a log scale on y-axis to show the wide range of values.\n",
    "  plt.semilogy(history.epoch, history.history['loss'],\n",
    "               color=colors[n], label='Train ' + label)\n",
    "  plt.semilogy(history.epoch, history.history['val_loss'],\n",
    "               color=colors[n], label='Val ' + label,\n",
    "               linestyle=\"--\")\n",
    "  plt.xlabel('Epoch')\n",
    "  plt.ylabel('Loss')\n",
    "  plt.legend()"
   ]
  },
  {
   "cell_type": "code",
   "execution_count": 23,
   "metadata": {
    "execution": {
     "iopub.execute_input": "2023-10-27T05:19:42.895568Z",
     "iopub.status.busy": "2023-10-27T05:19:42.895036Z",
     "iopub.status.idle": "2023-10-27T05:19:43.293377Z",
     "shell.execute_reply": "2023-10-27T05:19:43.292674Z"
    },
    "id": "dxFaskm7beC7"
   },
   "outputs": [
    {
     "data": {
      "image/png": "[encoded data removed]",
      "text/plain": [
       "<Figure size 1200x1000 with 1 Axes>"
      ]
     },
     "metadata": {},
     "output_type": "display_data"
    }
   ],
   "source": [
    "plot_loss(zero_bias_history, \"Zero Bias\", 0)\n",
    "plot_loss(careful_bias_history, \"Careful Bias\", 1)"
   ]
  },
  {
   "cell_type": "markdown",
   "metadata": {
    "id": "fKMioV0ddG3R"
   },
   "source": [
    "The above figure makes it clear: In terms of validation loss, on this problem, this careful initialization gives a clear advantage. "
   ]
  },
  {
   "cell_type": "markdown",
   "metadata": {
    "id": "RsA_7SEntRaV"
   },
   "source": [
    "### Train the model"
   ]
  },
  {
   "cell_type": "code",
   "execution_count": 24,
   "metadata": {
    "execution": {
     "iopub.execute_input": "2023-10-27T05:19:43.298268Z",
     "iopub.status.busy": "2023-10-27T05:19:43.297540Z",
     "iopub.status.idle": "2023-10-27T05:20:17.276495Z",
     "shell.execute_reply": "2023-10-27T05:20:17.275714Z"
    },
    "id": "yZKAc8NCDnoR"
   },
   "outputs": [
    {
     "name": "stdout",
     "output_type": "stream",
     "text": [
      "Epoch 1/100\n",
      "90/90 [==============================] - 2s 7ms/step - loss: 0.0121 - cross entropy: 0.0103 - tp: 83.0000 - fp: 25.0000 - tn: 227411.0000 - fn: 326.0000 - accuracy: 0.9985 - precision: 0.7685 - recall: 0.2029 - auc: 0.7498 - val_loss: 0.0060 - val_cross entropy: 0.0060 - val_tp: 15.0000 - val_fp: 3.0000 - val_tn: 45491.0000 - val_fn: 60.0000 - val_accuracy: 0.9986 - val_precision: 0.8333 - val_recall: 0.2000 - val_auc: 0.8988\n",
      "Epoch 2/100\n",
      "90/90 [==============================] - 0s 3ms/step - loss: 0.0069 - cross entropy: 0.0069 - tp: 137.0000 - fp: 29.0000 - tn: 181913.0000 - fn: 197.0000 - accuracy: 0.9988 - precision: 0.8253 - recall: 0.4102 - auc: 0.8891 - val_loss: 0.0043 - val_cross entropy: 0.0043 - val_tp: 37.0000 - val_fp: 4.0000 - val_tn: 45490.0000 - val_fn: 38.0000 - val_accuracy: 0.9991 - val_precision: 0.9024 - val_recall: 0.4933 - val_auc: 0.9063\n",
      "Epoch 3/100\n",
      "90/90 [==============================] - 0s 3ms/step - loss: 0.0062 - cross entropy: 0.0062 - tp: 176.0000 - fp: 31.0000 - tn: 181911.0000 - fn: 158.0000 - accuracy: 0.9990 - precision: 0.8502 - recall: 0.5269 - auc: 0.8947 - val_loss: 0.0039 - val_cross entropy: 0.0039 - val_tp: 44.0000 - val_fp: 4.0000 - val_tn: 45490.0000 - val_fn: 31.0000 - val_accuracy: 0.9992 - val_precision: 0.9167 - val_recall: 0.5867 - val_auc: 0.9064\n",
      "Epoch 4/100\n",
      "90/90 [==============================] - 0s 3ms/step - loss: 0.0059 - cross entropy: 0.0059 - tp: 170.0000 - fp: 26.0000 - tn: 181916.0000 - fn: 164.0000 - accuracy: 0.9990 - precision: 0.8673 - recall: 0.5090 - auc: 0.9153 - val_loss: 0.0036 - val_cross entropy: 0.0036 - val_tp: 50.0000 - val_fp: 5.0000 - val_tn: 45489.0000 - val_fn: 25.0000 - val_accuracy: 0.9993 - val_precision: 0.9091 - val_recall: 0.6667 - val_auc: 0.9064\n",
      "Epoch 5/100\n",
      "90/90 [==============================] - 0s 3ms/step - loss: 0.0055 - cross entropy: 0.0055 - tp: 184.0000 - fp: 33.0000 - tn: 181909.0000 - fn: 150.0000 - accuracy: 0.9990 - precision: 0.8479 - recall: 0.5509 - auc: 0.9053 - val_loss: 0.0034 - val_cross entropy: 0.0034 - val_tp: 51.0000 - val_fp: 5.0000 - val_tn: 45489.0000 - val_fn: 24.0000 - val_accuracy: 0.9994 - val_precision: 0.9107 - val_recall: 0.6800 - val_auc: 0.9130\n",
      "Epoch 6/100\n",
      "90/90 [==============================] - 0s 3ms/step - loss: 0.0050 - cross entropy: 0.0050 - tp: 192.0000 - fp: 27.0000 - tn: 181915.0000 - fn: 142.0000 - accuracy: 0.9991 - precision: 0.8767 - recall: 0.5749 - auc: 0.9115 - val_loss: 0.0033 - val_cross entropy: 0.0033 - val_tp: 56.0000 - val_fp: 7.0000 - val_tn: 45487.0000 - val_fn: 19.0000 - val_accuracy: 0.9994 - val_precision: 0.8889 - val_recall: 0.7467 - val_auc: 0.9130\n",
      "Epoch 7/100\n",
      "90/90 [==============================] - 0s 3ms/step - loss: 0.0050 - cross entropy: 0.0050 - tp: 193.0000 - fp: 31.0000 - tn: 181911.0000 - fn: 141.0000 - accuracy: 0.9991 - precision: 0.8616 - recall: 0.5778 - auc: 0.9208 - val_loss: 0.0032 - val_cross entropy: 0.0032 - val_tp: 56.0000 - val_fp: 7.0000 - val_tn: 45487.0000 - val_fn: 19.0000 - val_accuracy: 0.9994 - val_precision: 0.8889 - val_recall: 0.7467 - val_auc: 0.9196\n",
      "Epoch 8/100\n",
      "90/90 [==============================] - 0s 3ms/step - loss: 0.0052 - cross entropy: 0.0052 - tp: 182.0000 - fp: 35.0000 - tn: 181907.0000 - fn: 152.0000 - accuracy: 0.9990 - precision: 0.8387 - recall: 0.5449 - auc: 0.9178 - val_loss: 0.0032 - val_cross entropy: 0.0032 - val_tp: 57.0000 - val_fp: 7.0000 - val_tn: 45487.0000 - val_fn: 18.0000 - val_accuracy: 0.9995 - val_precision: 0.8906 - val_recall: 0.7600 - val_auc: 0.9263\n",
      "Epoch 9/100\n",
      "90/90 [==============================] - 0s 3ms/step - loss: 0.0050 - cross entropy: 0.0050 - tp: 198.0000 - fp: 31.0000 - tn: 181911.0000 - fn: 136.0000 - accuracy: 0.9991 - precision: 0.8646 - recall: 0.5928 - auc: 0.9102 - val_loss: 0.0031 - val_cross entropy: 0.0031 - val_tp: 57.0000 - val_fp: 7.0000 - val_tn: 45487.0000 - val_fn: 18.0000 - val_accuracy: 0.9995 - val_precision: 0.8906 - val_recall: 0.7600 - val_auc: 0.9263\n",
      "Epoch 10/100\n",
      "90/90 [==============================] - 0s 3ms/step - loss: 0.0050 - cross entropy: 0.0050 - tp: 178.0000 - fp: 34.0000 - tn: 181908.0000 - fn: 156.0000 - accuracy: 0.9990 - precision: 0.8396 - recall: 0.5329 - auc: 0.9254 - val_loss: 0.0031 - val_cross entropy: 0.0031 - val_tp: 59.0000 - val_fp: 7.0000 - val_tn: 45487.0000 - val_fn: 16.0000 - val_accuracy: 0.9995 - val_precision: 0.8939 - val_recall: 0.7867 - val_auc: 0.9262\n",
      "Epoch 11/100\n",
      "90/90 [==============================] - 0s 3ms/step - loss: 0.0047 - cross entropy: 0.0047 - tp: 200.0000 - fp: 34.0000 - tn: 181908.0000 - fn: 134.0000 - accuracy: 0.9991 - precision: 0.8547 - recall: 0.5988 - auc: 0.9299 - val_loss: 0.0030 - val_cross entropy: 0.0030 - val_tp: 59.0000 - val_fp: 7.0000 - val_tn: 45487.0000 - val_fn: 16.0000 - val_accuracy: 0.9995 - val_precision: 0.8939 - val_recall: 0.7867 - val_auc: 0.9262\n",
      "Epoch 12/100\n",
      "90/90 [==============================] - 0s 3ms/step - loss: 0.0050 - cross entropy: 0.0050 - tp: 176.0000 - fp: 35.0000 - tn: 181907.0000 - fn: 158.0000 - accuracy: 0.9989 - precision: 0.8341 - recall: 0.5269 - auc: 0.9163 - val_loss: 0.0030 - val_cross entropy: 0.0030 - val_tp: 59.0000 - val_fp: 7.0000 - val_tn: 45487.0000 - val_fn: 16.0000 - val_accuracy: 0.9995 - val_precision: 0.8939 - val_recall: 0.7867 - val_auc: 0.9262\n",
      "Epoch 13/100\n",
      "90/90 [==============================] - 0s 3ms/step - loss: 0.0044 - cross entropy: 0.0044 - tp: 195.0000 - fp: 35.0000 - tn: 181907.0000 - fn: 139.0000 - accuracy: 0.9990 - precision: 0.8478 - recall: 0.5838 - auc: 0.9224 - val_loss: 0.0030 - val_cross entropy: 0.0030 - val_tp: 59.0000 - val_fp: 7.0000 - val_tn: 45487.0000 - val_fn: 16.0000 - val_accuracy: 0.9995 - val_precision: 0.8939 - val_recall: 0.7867 - val_auc: 0.9263\n",
      "Epoch 14/100\n",
      "90/90 [==============================] - 0s 3ms/step - loss: 0.0047 - cross entropy: 0.0047 - tp: 195.0000 - fp: 36.0000 - tn: 181906.0000 - fn: 139.0000 - accuracy: 0.9990 - precision: 0.8442 - recall: 0.5838 - auc: 0.9210 - val_loss: 0.0030 - val_cross entropy: 0.0030 - val_tp: 57.0000 - val_fp: 7.0000 - val_tn: 45487.0000 - val_fn: 18.0000 - val_accuracy: 0.9995 - val_precision: 0.8906 - val_recall: 0.7600 - val_auc: 0.9263\n",
      "Epoch 15/100\n",
      "90/90 [==============================] - 0s 3ms/step - loss: 0.0046 - cross entropy: 0.0046 - tp: 195.0000 - fp: 38.0000 - tn: 181904.0000 - fn: 139.0000 - accuracy: 0.9990 - precision: 0.8369 - recall: 0.5838 - auc: 0.9179 - val_loss: 0.0030 - val_cross entropy: 0.0030 - val_tp: 57.0000 - val_fp: 7.0000 - val_tn: 45487.0000 - val_fn: 18.0000 - val_accuracy: 0.9995 - val_precision: 0.8906 - val_recall: 0.7600 - val_auc: 0.9263\n",
      "Epoch 16/100\n",
      "90/90 [==============================] - 0s 3ms/step - loss: 0.0045 - cross entropy: 0.0045 - tp: 205.0000 - fp: 33.0000 - tn: 181909.0000 - fn: 129.0000 - accuracy: 0.9991 - precision: 0.8613 - recall: 0.6138 - auc: 0.9240 - val_loss: 0.0030 - val_cross entropy: 0.0030 - val_tp: 54.0000 - val_fp: 7.0000 - val_tn: 45487.0000 - val_fn: 21.0000 - val_accuracy: 0.9994 - val_precision: 0.8852 - val_recall: 0.7200 - val_auc: 0.9263\n",
      "Epoch 17/100\n",
      "90/90 [==============================] - 0s 4ms/step - loss: 0.0041 - cross entropy: 0.0041 - tp: 206.0000 - fp: 30.0000 - tn: 181912.0000 - fn: 128.0000 - accuracy: 0.9991 - precision: 0.8729 - recall: 0.6168 - auc: 0.9331 - val_loss: 0.0030 - val_cross entropy: 0.0030 - val_tp: 57.0000 - val_fp: 7.0000 - val_tn: 45487.0000 - val_fn: 18.0000 - val_accuracy: 0.9995 - val_precision: 0.8906 - val_recall: 0.7600 - val_auc: 0.9263\n",
      "Epoch 18/100\n",
      "90/90 [==============================] - 0s 3ms/step - loss: 0.0043 - cross entropy: 0.0043 - tp: 205.0000 - fp: 32.0000 - tn: 181910.0000 - fn: 129.0000 - accuracy: 0.9991 - precision: 0.8650 - recall: 0.6138 - auc: 0.9254 - val_loss: 0.0030 - val_cross entropy: 0.0030 - val_tp: 57.0000 - val_fp: 7.0000 - val_tn: 45487.0000 - val_fn: 18.0000 - val_accuracy: 0.9995 - val_precision: 0.8906 - val_recall: 0.7600 - val_auc: 0.9262\n",
      "Epoch 19/100\n"
     ]
    },
    {
     "name": "stdout",
     "output_type": "stream",
     "text": [
      "90/90 [==============================] - 0s 3ms/step - loss: 0.0045 - cross entropy: 0.0045 - tp: 203.0000 - fp: 30.0000 - tn: 181912.0000 - fn: 131.0000 - accuracy: 0.9991 - precision: 0.8712 - recall: 0.6078 - auc: 0.9210 - val_loss: 0.0030 - val_cross entropy: 0.0030 - val_tp: 58.0000 - val_fp: 7.0000 - val_tn: 45487.0000 - val_fn: 17.0000 - val_accuracy: 0.9995 - val_precision: 0.8923 - val_recall: 0.7733 - val_auc: 0.9263\n",
      "Epoch 20/100\n",
      "90/90 [==============================] - 0s 4ms/step - loss: 0.0044 - cross entropy: 0.0044 - tp: 196.0000 - fp: 29.0000 - tn: 181913.0000 - fn: 138.0000 - accuracy: 0.9991 - precision: 0.8711 - recall: 0.5868 - auc: 0.9330 - val_loss: 0.0030 - val_cross entropy: 0.0030 - val_tp: 59.0000 - val_fp: 7.0000 - val_tn: 45487.0000 - val_fn: 16.0000 - val_accuracy: 0.9995 - val_precision: 0.8939 - val_recall: 0.7867 - val_auc: 0.9262\n",
      "Epoch 21/100\n",
      "90/90 [==============================] - 0s 3ms/step - loss: 0.0044 - cross entropy: 0.0044 - tp: 201.0000 - fp: 38.0000 - tn: 181904.0000 - fn: 133.0000 - accuracy: 0.9991 - precision: 0.8410 - recall: 0.6018 - auc: 0.9359 - val_loss: 0.0029 - val_cross entropy: 0.0029 - val_tp: 56.0000 - val_fp: 7.0000 - val_tn: 45487.0000 - val_fn: 19.0000 - val_accuracy: 0.9994 - val_precision: 0.8889 - val_recall: 0.7467 - val_auc: 0.9263\n",
      "Epoch 22/100\n",
      "90/90 [==============================] - 0s 3ms/step - loss: 0.0045 - cross entropy: 0.0045 - tp: 199.0000 - fp: 35.0000 - tn: 181907.0000 - fn: 135.0000 - accuracy: 0.9991 - precision: 0.8504 - recall: 0.5958 - auc: 0.9255 - val_loss: 0.0030 - val_cross entropy: 0.0030 - val_tp: 55.0000 - val_fp: 7.0000 - val_tn: 45487.0000 - val_fn: 20.0000 - val_accuracy: 0.9994 - val_precision: 0.8871 - val_recall: 0.7333 - val_auc: 0.9263\n",
      "Epoch 23/100\n",
      "90/90 [==============================] - 0s 3ms/step - loss: 0.0045 - cross entropy: 0.0045 - tp: 192.0000 - fp: 32.0000 - tn: 181910.0000 - fn: 142.0000 - accuracy: 0.9990 - precision: 0.8571 - recall: 0.5749 - auc: 0.9271 - val_loss: 0.0030 - val_cross entropy: 0.0030 - val_tp: 54.0000 - val_fp: 6.0000 - val_tn: 45488.0000 - val_fn: 21.0000 - val_accuracy: 0.9994 - val_precision: 0.9000 - val_recall: 0.7200 - val_auc: 0.9263\n",
      "Epoch 24/100\n",
      "90/90 [==============================] - 0s 4ms/step - loss: 0.0048 - cross entropy: 0.0048 - tp: 167.0000 - fp: 28.0000 - tn: 181914.0000 - fn: 167.0000 - accuracy: 0.9989 - precision: 0.8564 - recall: 0.5000 - auc: 0.9149 - val_loss: 0.0031 - val_cross entropy: 0.0031 - val_tp: 53.0000 - val_fp: 3.0000 - val_tn: 45491.0000 - val_fn: 22.0000 - val_accuracy: 0.9995 - val_precision: 0.9464 - val_recall: 0.7067 - val_auc: 0.9263\n",
      "Epoch 25/100\n",
      "90/90 [==============================] - 0s 3ms/step - loss: 0.0046 - cross entropy: 0.0046 - tp: 172.0000 - fp: 25.0000 - tn: 181917.0000 - fn: 162.0000 - accuracy: 0.9990 - precision: 0.8731 - recall: 0.5150 - auc: 0.9195 - val_loss: 0.0030 - val_cross entropy: 0.0030 - val_tp: 54.0000 - val_fp: 4.0000 - val_tn: 45490.0000 - val_fn: 21.0000 - val_accuracy: 0.9995 - val_precision: 0.9310 - val_recall: 0.7200 - val_auc: 0.9263\n",
      "Epoch 26/100\n",
      "90/90 [==============================] - 0s 3ms/step - loss: 0.0045 - cross entropy: 0.0045 - tp: 178.0000 - fp: 23.0000 - tn: 181919.0000 - fn: 156.0000 - accuracy: 0.9990 - precision: 0.8856 - recall: 0.5329 - auc: 0.9195 - val_loss: 0.0030 - val_cross entropy: 0.0030 - val_tp: 54.0000 - val_fp: 5.0000 - val_tn: 45489.0000 - val_fn: 21.0000 - val_accuracy: 0.9994 - val_precision: 0.9153 - val_recall: 0.7200 - val_auc: 0.9263\n",
      "Epoch 27/100\n",
      "71/90 [======================>.......] - ETA: 0s - loss: 0.0042 - cross entropy: 0.0042 - tp: 156.0000 - fp: 21.0000 - tn: 145124.0000 - fn: 107.0000 - accuracy: 0.9991 - precision: 0.8814 - recall: 0.5932 - auc: 0.9286Restoring model weights from the end of the best epoch: 17.\n",
      "90/90 [==============================] - 0s 3ms/step - loss: 0.0043 - cross entropy: 0.0043 - tp: 195.0000 - fp: 27.0000 - tn: 181915.0000 - fn: 139.0000 - accuracy: 0.9991 - precision: 0.8784 - recall: 0.5838 - auc: 0.9240 - val_loss: 0.0030 - val_cross entropy: 0.0030 - val_tp: 54.0000 - val_fp: 5.0000 - val_tn: 45489.0000 - val_fn: 21.0000 - val_accuracy: 0.9994 - val_precision: 0.9153 - val_recall: 0.7200 - val_auc: 0.9263\n",
      "Epoch 27: early stopping\n"
     ]
    }
   ],
   "source": [
    "model = make_model()\n",
    "model.load_weights(initial_weights)\n",
    "\n",
    "baseline_history = model.fit(\n",
    "    train_features,\n",
    "    train_labels,\n",
    "    batch_size=BATCH_SIZE,\n",
    "    epochs=EPOCHS,\n",
    "    callbacks=[early_stopping],\n",
    "    validation_data=(val_features, val_labels))"
   ]
  },
  {
   "cell_type": "markdown",
   "metadata": {
    "id": "iSaDBYU9xtP6"
   },
   "source": [
    "### Check training history\n"
   ]
  },
  {
   "cell_type": "code",
   "execution_count": 25,
   "metadata": {
    "execution": {
     "iopub.execute_input": "2023-10-27T05:20:17.280302Z",
     "iopub.status.busy": "2023-10-27T05:20:17.279672Z",
     "iopub.status.idle": "2023-10-27T05:20:17.285661Z",
     "shell.execute_reply": "2023-10-27T05:20:17.285047Z"
    },
    "id": "WTSkhT1jyGu6"
   },
   "outputs": [],
   "source": [
    "def plot_metrics(history):\n",
    "  metrics = ['loss', 'precision', 'recall']\n",
    "  for n, metric in enumerate(metrics):\n",
    "    name = metric.replace(\"_\",\" \").capitalize()\n",
    "    plt.subplot(2,2,n+1)\n",
    "    plt.plot(history.epoch, history.history[metric], color=colors[0], label='Train')\n",
    "    plt.plot(history.epoch, history.history['val_'+metric],\n",
    "             color=colors[0], linestyle=\"--\", label='Val')\n",
    "    plt.xlabel('Epoch')\n",
    "    plt.ylabel(name)\n",
    "    if metric == 'loss':\n",
    "      plt.ylim([0, plt.ylim()[1]])\n",
    "    elif metric == 'auc':\n",
    "      plt.ylim([0.8,1])\n",
    "    else:\n",
    "      plt.ylim([0,1])\n",
    "\n",
    "    plt.legend()"
   ]
  },
  {
   "cell_type": "code",
   "execution_count": 26,
   "metadata": {
    "execution": {
     "iopub.execute_input": "2023-10-27T05:20:17.289105Z",
     "iopub.status.busy": "2023-10-27T05:20:17.288495Z",
     "iopub.status.idle": "2023-10-27T05:20:17.868443Z",
     "shell.execute_reply": "2023-10-27T05:20:17.867771Z"
    },
    "id": "u6LReDsqlZlk"
   },
   "outputs": [
    {
     "data": {
      "image/png": "[encoded data removed]",
      "text/plain": [
       "<Figure size 1200x1000 with 3 Axes>"
      ]
     },
     "metadata": {},
     "output_type": "display_data"
    }
   ],
   "source": [
    "plot_metrics(baseline_history)"
   ]
  },
  {
   "cell_type": "markdown",
   "metadata": {
    "id": "UCa4iWo6WDKR"
   },
   "source": [
    "Note: That the validation curve generally performs better than the training curve. This is mainly caused by the fact that the dropout layer is not active when evaluating the model."
   ]
  },
  {
   "cell_type": "markdown",
   "metadata": {
    "id": "aJC1booryouo"
   },
   "source": [
    "### Evaluate metrics\n",
    "\n",
    "We can use a confusion matrix to summarize the actual vs. predicted labels, where the X axis is the predicted label and the Y axis is the actual label:"
   ]
  },
  {
   "cell_type": "code",
   "execution_count": 27,
   "metadata": {
    "execution": {
     "iopub.execute_input": "2023-10-27T05:20:17.873042Z",
     "iopub.status.busy": "2023-10-27T05:20:17.872515Z",
     "iopub.status.idle": "2023-10-27T05:20:18.365457Z",
     "shell.execute_reply": "2023-10-27T05:20:18.364626Z"
    },
    "id": "aNS796IJKrev"
   },
   "outputs": [
    {
     "name": "stdout",
     "output_type": "stream",
     "text": [
      "90/90 [==============================] - 0s 1ms/step\n",
      "28/28 [==============================] - 0s 1ms/step\n"
     ]
    }
   ],
   "source": [
    "train_predictions_baseline = model.predict(train_features, batch_size=BATCH_SIZE)\n",
    "\n",
    "test_predictions_baseline = model.predict(test_features, batch_size=BATCH_SIZE)"
   ]
  },
  {
   "cell_type": "code",
   "execution_count": 28,
   "metadata": {
    "execution": {
     "iopub.execute_input": "2023-10-27T05:20:18.369496Z",
     "iopub.status.busy": "2023-10-27T05:20:18.369014Z",
     "iopub.status.idle": "2023-10-27T05:20:18.374244Z",
     "shell.execute_reply": "2023-10-27T05:20:18.373644Z"
    },
    "id": "MVWBGfADwbWI"
   },
   "outputs": [],
   "source": [
    "def plot_cm(labels, predictions, threshold=0.5):\n",
    "  cm = confusion_matrix(labels, predictions > threshold)\n",
    "  plt.figure(figsize=(5,5))\n",
    "  sns.heatmap(cm, annot=True, fmt=\"d\")\n",
    "  plt.title('Confusion matrix @{:.2f}'.format(threshold))\n",
    "  plt.ylabel('Actual label')\n",
    "  plt.xlabel('Predicted label')\n",
    "\n",
    "  print('Legitimate Transactions Detected (True Negatives): ', cm[0][0])\n",
    "  print('Legitimate Transactions Incorrectly Detected (False Positives): ', cm[0][1])\n",
    "  print('Fraudulent Transactions Missed (False Negatives): ', cm[1][0])\n",
    "  print('Fraudulent Transactions Detected (True Positives): ', cm[1][1])\n",
    "  print('Total Fraudulent Transactions: ', np.sum(cm[1]))"
   ]
  },
  {
   "cell_type": "markdown",
   "metadata": {
    "id": "nOTjD5Z5Wp1U"
   },
   "source": [
    "Evaluate your model on the test dataset and display the results for the metrics you created above:"
   ]
  },
  {
   "cell_type": "code",
   "execution_count": 29,
   "metadata": {
    "execution": {
     "iopub.execute_input": "2023-10-27T05:20:18.377857Z",
     "iopub.status.busy": "2023-10-27T05:20:18.377277Z",
     "iopub.status.idle": "2023-10-27T05:20:18.731649Z",
     "shell.execute_reply": "2023-10-27T05:20:18.731037Z"
    },
    "id": "poh_hZngt2_9"
   },
   "outputs": [
    {
     "name": "stdout",
     "output_type": "stream",
     "text": [
      "loss :  0.002203343203291297\n",
      "cross entropy :  0.002203343203291297\n",
      "tp :  61.0\n",
      "fp :  6.0\n",
      "tn :  56873.0\n",
      "fn :  22.0\n",
      "accuracy :  0.9995084404945374\n",
      "precision :  0.9104477763175964\n",
      "recall :  0.7349397540092468\n",
      "auc :  0.9575358033180237\n",
      "\n",
      "Legitimate Transactions Detected (True Negatives):  56873\n",
      "Legitimate Transactions Incorrectly Detected (False Positives):  6\n",
      "Fraudulent Transactions Missed (False Negatives):  22\n",
      "Fraudulent Transactions Detected (True Positives):  61\n",
      "Total Fraudulent Transactions:  83\n"
     ]
    },
    {
     "data": {
      "image/png": "[encoded data removed]",
      "text/plain": [
       "<Figure size 500x500 with 2 Axes>"
      ]
     },
     "metadata": {},
     "output_type": "display_data"
    }
   ],
   "source": [
    "baseline_results = model.evaluate(test_features, test_labels,\n",
    "                                  batch_size=BATCH_SIZE, verbose=0)\n",
    "\n",
    "for name, value in zip(model.metrics_names, baseline_results):\n",
    "  print(name, ': ', value)\n",
    "print()\n",
    "\n",
    "plot_cm(test_labels, test_predictions_baseline)"
   ]
  },
  {
   "cell_type": "markdown",
   "metadata": {
    "id": "P-QpQsip_F2Q"
   },
   "source": [
    "### Changing the threshold\n",
    "\n",
    "The default threshold of $c=50\\%$ corresponds to equal costs of false negatives and false positives.\n",
    "\n",
    "In the case of fraud detection, however, you would likely associate higher costs to false negatives than to false positives.\n",
    "\n",
    "This trade off may be preferable because false negatives would allow fraudulent transactions to go through, whereas false positives may cause an email to be sent to a customer to ask them to verify their card activity.\n",
    "\n",
    "By decreasing the threshold, we attribute higher cost to false negatives, thereby increasing missed transactions at the price of more false positives.\n",
    "We test thresholds at 10% and at 1%."
   ]
  },
  {
   "cell_type": "code",
   "execution_count": 30,
   "metadata": {
    "execution": {
     "iopub.execute_input": "2023-10-27T05:20:18.735563Z",
     "iopub.status.busy": "2023-10-27T05:20:18.734980Z",
     "iopub.status.idle": "2023-10-27T05:20:19.060461Z",
     "shell.execute_reply": "2023-10-27T05:20:19.059800Z"
    },
    "id": "52bd793e04bb"
   },
   "outputs": [
    {
     "name": "stdout",
     "output_type": "stream",
     "text": [
      "Legitimate Transactions Detected (True Negatives):  56863\n",
      "Legitimate Transactions Incorrectly Detected (False Positives):  16\n",
      "Fraudulent Transactions Missed (False Negatives):  12\n",
      "Fraudulent Transactions Detected (True Positives):  71\n",
      "Total Fraudulent Transactions:  83\n"
     ]
    },
    {
     "data": {
      "image/png": "[encoded data removed]",
      "text/plain": [
       "<Figure size 500x500 with 2 Axes>"
      ]
     },
     "metadata": {},
     "output_type": "display_data"
    }
   ],
   "source": [
    "plot_cm(test_labels, test_predictions_baseline, threshold=0.1)"
   ]
  },
  {
   "cell_type": "code",
   "execution_count": 31,
   "metadata": {},
   "outputs": [
    {
     "name": "stdout",
     "output_type": "stream",
     "text": [
      "Legitimate Transactions Detected (True Negatives):  56816\n",
      "Legitimate Transactions Incorrectly Detected (False Positives):  63\n",
      "Fraudulent Transactions Missed (False Negatives):  9\n",
      "Fraudulent Transactions Detected (True Positives):  74\n",
      "Total Fraudulent Transactions:  83\n"
     ]
    },
    {
     "data": {
      "image/png": "[encoded data removed]",
      "text/plain": [
       "<Figure size 500x500 with 2 Axes>"
      ]
     },
     "metadata": {},
     "output_type": "display_data"
    }
   ],
   "source": [
    "plot_cm(test_labels, test_predictions_baseline, threshold=0.01)"
   ]
  },
  {
   "cell_type": "markdown",
   "metadata": {
    "id": "P-QpQsip_F2Q"
   },
   "source": [
    "### Plot the ROC\n"
   ]
  },
  {
   "cell_type": "code",
   "execution_count": 32,
   "metadata": {
    "execution": {
     "iopub.execute_input": "2023-10-27T05:20:19.063998Z",
     "iopub.status.busy": "2023-10-27T05:20:19.063489Z",
     "iopub.status.idle": "2023-10-27T05:20:19.068209Z",
     "shell.execute_reply": "2023-10-27T05:20:19.067608Z"
    },
    "id": "lhaxsLSvANF9"
   },
   "outputs": [],
   "source": [
    "def plot_roc(name, labels, predictions, **kwargs):\n",
    "  fp, tp, _ = sklearn.metrics.roc_curve(labels, predictions)\n",
    "\n",
    "  plt.plot(100*fp, 100*tp, label=name, linewidth=2, **kwargs)\n",
    "  plt.xlabel('False positives [%]')\n",
    "  plt.ylabel('True positives [%]')\n",
    "  plt.xlim([-0.5,100])\n",
    "  plt.ylim([0,100.5])\n",
    "  plt.grid(True)\n",
    "  ax = plt.gca()\n",
    "  ax.set_aspect('equal')"
   ]
  },
  {
   "cell_type": "code",
   "execution_count": 33,
   "metadata": {
    "execution": {
     "iopub.execute_input": "2023-10-27T05:20:19.071366Z",
     "iopub.status.busy": "2023-10-27T05:20:19.070894Z",
     "iopub.status.idle": "2023-10-27T05:20:19.321932Z",
     "shell.execute_reply": "2023-10-27T05:20:19.321290Z"
    },
    "id": "DfHHspttKJE0"
   },
   "outputs": [
    {
     "data": {
      "image/png": "[encoded data removed]",
      "text/plain": [
       "<Figure size 1200x1000 with 1 Axes>"
      ]
     },
     "metadata": {},
     "output_type": "display_data"
    }
   ],
   "source": [
    "plot_roc(\"Train Baseline\", train_labels, train_predictions_baseline, color=colors[0])\n",
    "plot_roc(\"Test Baseline\", test_labels, test_predictions_baseline, color=colors[0], linestyle='--')\n",
    "plt.legend(loc='lower right');"
   ]
  },
  {
   "cell_type": "markdown",
   "metadata": {
    "id": "cveQoiMyGQCo"
   },
   "source": [
    "## Class weights"
   ]
  },
  {
   "cell_type": "markdown",
   "metadata": {
    "id": "ePGp6GUE1WfH"
   },
   "source": [
    "### Calculate class weights\n",
    "\n",
    "- The goal is to identify fraudulent transactions, but we don't have very many of those positive samples to work with, so you would want to have the classifier heavily weight the few examples that are available. \n",
    "\n",
    "- We can do this by passing Keras weights for each class through a parameter. \n",
    "\n",
    "- These will cause the model to \"pay more attention\" to examples from an under-represented class. \n",
    "\n",
    "Note,  this does not increase in any way the amount of information of your dataset, this is just a way to try to get a \"better model\""
   ]
  },
  {
   "cell_type": "code",
   "execution_count": 34,
   "metadata": {
    "execution": {
     "iopub.execute_input": "2023-10-27T05:20:19.584730Z",
     "iopub.status.busy": "2023-10-27T05:20:19.584337Z",
     "iopub.status.idle": "2023-10-27T05:20:19.588870Z",
     "shell.execute_reply": "2023-10-27T05:20:19.588275Z"
    },
    "id": "qjGWErngGny7"
   },
   "outputs": [
    {
     "name": "stdout",
     "output_type": "stream",
     "text": [
      "Weight for class 0: 0.50\n",
      "Weight for class 1: 289.44\n"
     ]
    }
   ],
   "source": [
    "# Scaling by total/2 helps keep the loss to a similar magnitude.\n",
    "# The sum of the weights of all examples stays the same.\n",
    "weight_for_0 = (1 / neg) * (total / 2.0)\n",
    "weight_for_1 = (1 / pos) * (total / 2.0)\n",
    "\n",
    "class_weight = {0: weight_for_0, 1: weight_for_1}\n",
    "\n",
    "print('Weight for class 0: {:.2f}'.format(weight_for_0))\n",
    "print('Weight for class 1: {:.2f}'.format(weight_for_1))"
   ]
  },
  {
   "cell_type": "markdown",
   "metadata": {
    "id": "Mk1OOE2ZSHzy"
   },
   "source": [
    "### Train a model with class weights\n",
    "\n",
    "Now try re-training and evaluating the model with class weights to see how that affects the predictions.\n",
    "\n",
    "Note: Using `class_weights` changes the range of the loss. This may affect the stability of the training depending on the optimizer. Optimizers whose step size is dependent on the magnitude of the gradient, like `tf.keras.optimizers.SGD`, may fail. The optimizer used here, `tf.keras.optimizers.Adam`, is unaffected by the scaling change. Also note that because of the weighting, the total losses are not comparable between the two models."
   ]
  },
  {
   "cell_type": "code",
   "execution_count": null,
   "metadata": {
    "execution": {
     "iopub.execute_input": "2023-10-27T05:20:19.592163Z",
     "iopub.status.busy": "2023-10-27T05:20:19.591672Z",
     "iopub.status.idle": "2023-10-27T05:20:28.399457Z",
     "shell.execute_reply": "2023-10-27T05:20:28.398804Z"
    },
    "id": "UJ589fn8ST3x"
   },
   "outputs": [
    {
     "name": "stdout",
     "output_type": "stream",
     "text": [
      "Epoch 1/100\n",
      "90/90 [==============================] - 1s 6ms/step - loss: 2.7551 - cross entropy: 0.0106 - tp: 92.0000 - fp: 58.0000 - tn: 238763.0000 - fn: 325.0000 - accuracy: 0.9984 - precision: 0.6133 - recall: 0.2206 - auc: 0.7658 - val_loss: 0.0063 - val_cross entropy: 0.0063 - val_tp: 28.0000 - val_fp: 3.0000 - val_tn: 45491.0000 - val_fn: 47.0000 - val_accuracy: 0.9989 - val_precision: 0.9032 - val_recall: 0.3733 - val_auc: 0.9229\n",
      "Epoch 2/100\n",
      "90/90 [==============================] - 0s 3ms/step - loss: 1.0663 - cross entropy: 0.0117 - tp: 176.0000 - fp: 154.0000 - tn: 181788.0000 - fn: 158.0000 - accuracy: 0.9983 - precision: 0.5333 - recall: 0.5269 - auc: 0.8875 - val_loss: 0.0068 - val_cross entropy: 0.0068 - val_tp: 57.0000 - val_fp: 9.0000 - val_tn: 45485.0000 - val_fn: 18.0000 - val_accuracy: 0.9994 - val_precision: 0.8636 - val_recall: 0.7600 - val_auc: 0.9520\n",
      "Epoch 3/100\n",
      "90/90 [==============================] - 0s 3ms/step - loss: 0.7107 - cross entropy: 0.0174 - tp: 224.0000 - fp: 436.0000 - tn: 181506.0000 - fn: 110.0000 - accuracy: 0.9970 - precision: 0.3394 - recall: 0.6707 - auc: 0.9204 - val_loss: 0.0098 - val_cross entropy: 0.0098 - val_tp: 61.0000 - val_fp: 22.0000 - val_tn: 45472.0000 - val_fn: 14.0000 - val_accuracy: 0.9992 - val_precision: 0.7349 - val_recall: 0.8133 - val_auc: 0.9736\n",
      "Epoch 4/100\n",
      "90/90 [==============================] - 0s 3ms/step - loss: 0.5086 - cross entropy: 0.0253 - tp: 240.0000 - fp: 889.0000 - tn: 181053.0000 - fn: 94.0000 - accuracy: 0.9946 - precision: 0.2126 - recall: 0.7186 - auc: 0.9451 - val_loss: 0.0147 - val_cross entropy: 0.0147 - val_tp: 61.0000 - val_fp: 52.0000 - val_tn: 45442.0000 - val_fn: 14.0000 - val_accuracy: 0.9986 - val_precision: 0.5398 - val_recall: 0.8133 - val_auc: 0.9707\n",
      "Epoch 5/100\n",
      "90/90 [==============================] - 0s 3ms/step - loss: 0.5152 - cross entropy: 0.0424 - tp: 253.0000 - fp: 1873.0000 - tn: 180069.0000 - fn: 81.0000 - accuracy: 0.9893 - precision: 0.1190 - recall: 0.7575 - auc: 0.9324 - val_loss: 0.0223 - val_cross entropy: 0.0223 - val_tp: 64.0000 - val_fp: 130.0000 - val_tn: 45364.0000 - val_fn: 11.0000 - val_accuracy: 0.9969 - val_precision: 0.3299 - val_recall: 0.8533 - val_auc: 0.9728\n",
      "Epoch 6/100\n",
      "90/90 [==============================] - 0s 3ms/step - loss: 0.4311 - cross entropy: 0.0548 - tp: 269.0000 - fp: 2603.0000 - tn: 179339.0000 - fn: 65.0000 - accuracy: 0.9854 - precision: 0.0937 - recall: 0.8054 - auc: 0.9399 - val_loss: 0.0295 - val_cross entropy: 0.0295 - val_tp: 64.0000 - val_fp: 264.0000 - val_tn: 45230.0000 - val_fn: 11.0000 - val_accuracy: 0.9940 - val_precision: 0.1951 - val_recall: 0.8533 - val_auc: 0.9760\n",
      "Epoch 7/100\n",
      "90/90 [==============================] - 0s 4ms/step - loss: 0.4209 - cross entropy: 0.0686 - tp: 274.0000 - fp: 3367.0000 - tn: 178575.0000 - fn: 60.0000 - accuracy: 0.9812 - precision: 0.0753 - recall: 0.8204 - auc: 0.9362 - val_loss: 0.0367 - val_cross entropy: 0.0367 - val_tp: 64.0000 - val_fp: 345.0000 - val_tn: 45149.0000 - val_fn: 11.0000 - val_accuracy: 0.9922 - val_precision: 0.1565 - val_recall: 0.8533 - val_auc: 0.9757\n",
      "Epoch 8/100\n",
      "90/90 [==============================] - 0s 3ms/step - loss: 0.3964 - cross entropy: 0.0822 - tp: 271.0000 - fp: 4205.0000 - tn: 177737.0000 - fn: 63.0000 - accuracy: 0.9766 - precision: 0.0605 - recall: 0.8114 - auc: 0.9393 - val_loss: 0.0455 - val_cross entropy: 0.0455 - val_tp: 65.0000 - val_fp: 459.0000 - val_tn: 45035.0000 - val_fn: 10.0000 - val_accuracy: 0.9897 - val_precision: 0.1240 - val_recall: 0.8667 - val_auc: 0.9750\n",
      "Epoch 9/100\n",
      "90/90 [==============================] - 0s 3ms/step - loss: 0.3575 - cross entropy: 0.0964 - tp: 282.0000 - fp: 4943.0000 - tn: 176999.0000 - fn: 52.0000 - accuracy: 0.9726 - precision: 0.0540 - recall: 0.8443 - auc: 0.9462 - val_loss: 0.0531 - val_cross entropy: 0.0531 - val_tp: 65.0000 - val_fp: 547.0000 - val_tn: 44947.0000 - val_fn: 10.0000 - val_accuracy: 0.9878 - val_precision: 0.1062 - val_recall: 0.8667 - val_auc: 0.9770\n",
      "Epoch 10/100\n",
      "90/90 [==============================] - 0s 3ms/step - loss: 0.3212 - cross entropy: 0.1092 - tp: 286.0000 - fp: 5707.0000 - tn: 176235.0000 - fn: 48.0000 - accuracy: 0.9684 - precision: 0.0477 - recall: 0.8563 - auc: 0.9529 - val_loss: 0.0592 - val_cross entropy: 0.0592 - val_tp: 65.0000 - val_fp: 646.0000 - val_tn: 44848.0000 - val_fn: 10.0000 - val_accuracy: 0.9856 - val_precision: 0.0914 - val_recall: 0.8667 - val_auc: 0.9763\n",
      "Epoch 11/100\n",
      "90/90 [==============================] - 0s 3ms/step - loss: 0.3324 - cross entropy: 0.1169 - tp: 281.0000 - fp: 6187.0000 - tn: 175755.0000 - fn: 53.0000 - accuracy: 0.9658 - precision: 0.0434 - recall: 0.8413 - auc: 0.9498 - val_loss: 0.0633 - val_cross entropy: 0.0633 - val_tp: 65.0000 - val_fp: 694.0000 - val_tn: 44800.0000 - val_fn: 10.0000 - val_accuracy: 0.9846 - val_precision: 0.0856 - val_recall: 0.8667 - val_auc: 0.9763\n",
      "Epoch 12/100\n",
      "90/90 [==============================] - 0s 3ms/step - loss: 0.3294 - cross entropy: 0.1217 - tp: 291.0000 - fp: 6368.0000 - tn: 175574.0000 - fn: 43.0000 - accuracy: 0.9648 - precision: 0.0437 - recall: 0.8713 - auc: 0.9474 - val_loss: 0.0650 - val_cross entropy: 0.0650 - val_tp: 65.0000 - val_fp: 717.0000 - val_tn: 44777.0000 - val_fn: 10.0000 - val_accuracy: 0.9840 - val_precision: 0.0831 - val_recall: 0.8667 - val_auc: 0.9775\n",
      "Epoch 13/100\n",
      "90/90 [==============================] - 0s 3ms/step - loss: 0.3045 - cross entropy: 0.1264 - tp: 289.0000 - fp: 6625.0000 - tn: 175317.0000 - fn: 45.0000 - accuracy: 0.9634 - precision: 0.0418 - recall: 0.8653 - auc: 0.9531 - val_loss: 0.0703 - val_cross entropy: 0.0703 - val_tp: 65.0000 - val_fp: 779.0000 - val_tn: 44715.0000 - val_fn: 10.0000 - val_accuracy: 0.9827 - val_precision: 0.0770 - val_recall: 0.8667 - val_auc: 0.9774\n",
      "Epoch 14/100\n",
      "90/90 [==============================] - 0s 4ms/step - loss: 0.2529 - cross entropy: 0.1330 - tp: 295.0000 - fp: 6994.0000 - tn: 174948.0000 - fn: 39.0000 - accuracy: 0.9614 - precision: 0.0405 - recall: 0.8832 - auc: 0.9658 - val_loss: 0.0733 - val_cross entropy: 0.0733 - val_tp: 65.0000 - val_fp: 805.0000 - val_tn: 44689.0000 - val_fn: 10.0000 - val_accuracy: 0.9821 - val_precision: 0.0747 - val_recall: 0.8667 - val_auc: 0.9784\n",
      "Epoch 15/100\n",
      " 9/90 [==>...........................] - ETA: 1s - loss: 0.3163 - cross entropy: 0.1311 - tp: 38.0000 - fp: 738.0000 - tn: 17651.0000 - fn: 5.0000 - accuracy: 0.9597 - precision: 0.0490 - recall: 0.8837 - auc: 0.9696"
     ]
    }
   ],
   "source": [
    "weighted_model = make_model()\n",
    "weighted_model.load_weights(initial_weights)\n",
    "\n",
    "weighted_history = weighted_model.fit(\n",
    "    train_features,\n",
    "    train_labels,\n",
    "    batch_size=BATCH_SIZE,\n",
    "    epochs=EPOCHS,\n",
    "    callbacks=[early_stopping],\n",
    "    validation_data=(val_features, val_labels),\n",
    "    # The class weights go here\n",
    "    class_weight=class_weight) "
   ]
  },
  {
   "cell_type": "markdown",
   "metadata": {
    "id": "R0ynYRO0G3Lx"
   },
   "source": [
    "### Check training history"
   ]
  },
  {
   "cell_type": "code",
   "execution_count": null,
   "metadata": {
    "execution": {
     "iopub.execute_input": "2023-10-27T05:20:28.402852Z",
     "iopub.status.busy": "2023-10-27T05:20:28.402607Z",
     "iopub.status.idle": "2023-10-27T05:20:28.961819Z",
     "shell.execute_reply": "2023-10-27T05:20:28.961163Z"
    },
    "id": "BBe9FMO5ucTC"
   },
   "outputs": [],
   "source": [
    "plot_metrics(weighted_history)"
   ]
  },
  {
   "cell_type": "markdown",
   "metadata": {
    "id": "REy6WClTZIwQ"
   },
   "source": [
    "### Evaluate metrics"
   ]
  },
  {
   "cell_type": "code",
   "execution_count": null,
   "metadata": {
    "execution": {
     "iopub.execute_input": "2023-10-27T05:20:28.965853Z",
     "iopub.status.busy": "2023-10-27T05:20:28.965593Z",
     "iopub.status.idle": "2023-10-27T05:20:29.428605Z",
     "shell.execute_reply": "2023-10-27T05:20:29.427780Z"
    },
    "id": "nifqscPGw-5w"
   },
   "outputs": [],
   "source": [
    "train_predictions_weighted = weighted_model.predict(train_features, batch_size=BATCH_SIZE)\n",
    "test_predictions_weighted = weighted_model.predict(test_features, batch_size=BATCH_SIZE)"
   ]
  },
  {
   "cell_type": "code",
   "execution_count": null,
   "metadata": {
    "execution": {
     "iopub.execute_input": "2023-10-27T05:20:29.432333Z",
     "iopub.status.busy": "2023-10-27T05:20:29.431669Z",
     "iopub.status.idle": "2023-10-27T05:20:29.785961Z",
     "shell.execute_reply": "2023-10-27T05:20:29.785248Z"
    },
    "id": "owKL2vdMBJr6"
   },
   "outputs": [],
   "source": [
    "weighted_results = weighted_model.evaluate(test_features, test_labels,\n",
    "                                           batch_size=BATCH_SIZE, verbose=0)\n",
    "for name, value in zip(weighted_model.metrics_names, weighted_results):\n",
    "  print(name, ': ', value)\n",
    "print()\n",
    "\n",
    "plot_cm(test_labels, test_predictions_weighted)"
   ]
  },
  {
   "cell_type": "markdown",
   "metadata": {
    "id": "PTh1rtDn8r4-"
   },
   "source": [
    "Here you can see that with class weights the accuracy and precision are lower because there are more false positives, but conversely the recall is higher because the model also found more true positives. \n",
    "\n",
    "Despite having lower accuracy, this model has higher recall (and identifies more fraudulent transactions than the baseline model at threshold 50%). Of course, there is a cost to both types of error (you wouldn't want to bug users by flagging too many legitimate transactions as fraudulent, either). \n",
    "\n"
   ]
  },
  {
   "cell_type": "markdown",
   "metadata": {
    "id": "hXDAwyr0HYdX"
   },
   "source": [
    "### Plot the ROC"
   ]
  },
  {
   "cell_type": "code",
   "execution_count": null,
   "metadata": {
    "execution": {
     "iopub.execute_input": "2023-10-27T05:20:29.789642Z",
     "iopub.status.busy": "2023-10-27T05:20:29.789388Z",
     "iopub.status.idle": "2023-10-27T05:20:30.102578Z",
     "shell.execute_reply": "2023-10-27T05:20:30.102030Z"
    },
    "id": "3hzScIVZS1Xm"
   },
   "outputs": [],
   "source": [
    "#plot_roc(\"Train Baseline\", train_labels, train_predictions_baseline, color=colors[0])\n",
    "plot_roc(\"Test Baseline\", test_labels, test_predictions_baseline, color=colors[0], linestyle='--')\n",
    "\n",
    "#plot_roc(\"Train Weighted\", train_labels, train_predictions_weighted, color=colors[1])\n",
    "plot_roc(\"Test Weighted\", test_labels, test_predictions_weighted, color=colors[1], linestyle='--')\n",
    "\n",
    "\n",
    "plt.legend(loc='lower right');"
   ]
  },
  {
   "cell_type": "markdown",
   "metadata": {},
   "source": [
    "Compared to the baseline model with changed threshold, the class weighted model is clearly inferior. "
   ]
  },
  {
   "cell_type": "markdown",
   "metadata": {},
   "source": [
    "\n",
    "## Resampling\n",
    "\n",
    "There are two general approaches:\n",
    "\n",
    "     1. Over-sample. Simulates or imputes additional data points of the minority class to improve balance across classes, while\n",
    "     \n",
    "     2. Down-sampling. You randomly reduce the number of the majority class to improve the balance across classes.\n",
    "\n",
    "and a hybrid: SMOTE (Synthetic Minority Over-sampling Technique)\n"
   ]
  },
  {
   "cell_type": "markdown",
   "metadata": {},
   "source": [
    "<div >\n",
    "<img src = \"figures/sampling_methods.png\" />\n",
    "</div>"
   ]
  },
  {
   "cell_type": "markdown",
   "metadata": {
    "id": "5ysRtr6xHnXP"
   },
   "source": [
    "## Oversampling"
   ]
  },
  {
   "cell_type": "markdown",
   "metadata": {
    "id": "18VUHNc-UF5w"
   },
   "source": [
    "### Oversample the minority class\n"
   ]
  },
  {
   "cell_type": "code",
   "execution_count": null,
   "metadata": {
    "execution": {
     "iopub.execute_input": "2023-10-27T05:20:30.452554Z",
     "iopub.status.busy": "2023-10-27T05:20:30.451980Z",
     "iopub.status.idle": "2023-10-27T05:20:30.476740Z",
     "shell.execute_reply": "2023-10-27T05:20:30.475992Z"
    },
    "id": "sHirNp6u7OWp"
   },
   "outputs": [],
   "source": [
    "pos_features = train_features[bool_train_labels]\n",
    "neg_features = train_features[~bool_train_labels]\n",
    "\n",
    "pos_labels = train_labels[bool_train_labels]\n",
    "neg_labels = train_labels[~bool_train_labels]"
   ]
  },
  {
   "cell_type": "markdown",
   "metadata": {
    "id": "IYfJe2Kc-FAz"
   },
   "source": [
    "#### Using `tf.data`"
   ]
  },
  {
   "cell_type": "markdown",
   "metadata": {
    "id": "usyixaST8v5P"
   },
   "source": [
    "Using tf.data with oversampling involves a few steps because tf.data is designed to work with TensorFlow's pipeline, while we need to create the sample with NumPy arrays\n",
    "\n",
    "We can balance the dataset manually by choosing the right number of random  indices from the positive examples.\n",
    "\n",
    "If you're using `tf.data` the easiest way to produce balanced examples is to start with a `positive` and a `negative` dataset, and merge them.  "
   ]
  },
  {
   "cell_type": "code",
   "execution_count": null,
   "metadata": {
    "execution": {
     "iopub.execute_input": "2023-10-27T05:20:30.620622Z",
     "iopub.status.busy": "2023-10-27T05:20:30.620370Z",
     "iopub.status.idle": "2023-10-27T05:20:30.737737Z",
     "shell.execute_reply": "2023-10-27T05:20:30.737025Z"
    },
    "id": "yF4OZ-rI6xb6"
   },
   "outputs": [],
   "source": [
    "BUFFER_SIZE = 100000\n",
    "\n",
    "def make_ds(features, labels):\n",
    "  ds = tf.data.Dataset.from_tensor_slices((features, labels))#.cache()\n",
    "  ds = ds.shuffle(BUFFER_SIZE).repeat()\n",
    "  return ds\n",
    "\n",
    "pos_ds = make_ds(pos_features, pos_labels)\n",
    "neg_ds = make_ds(neg_features, neg_labels)"
   ]
  },
  {
   "cell_type": "markdown",
   "metadata": {
    "id": "RNQUx-OA-oJc"
   },
   "source": [
    "Each dataset provides `(feature, label)` pairs:"
   ]
  },
  {
   "cell_type": "code",
   "execution_count": null,
   "metadata": {
    "execution": {
     "iopub.execute_input": "2023-10-27T05:20:30.741299Z",
     "iopub.status.busy": "2023-10-27T05:20:30.741068Z",
     "iopub.status.idle": "2023-10-27T05:20:30.757312Z",
     "shell.execute_reply": "2023-10-27T05:20:30.756554Z"
    },
    "id": "llXc9rNH7Fbz"
   },
   "outputs": [],
   "source": [
    "for features, label in pos_ds.take(1):\n",
    "  print(\"Features:\\n\", features.numpy())\n",
    "  print()\n",
    "  print(\"Label: \", label.numpy())"
   ]
  },
  {
   "cell_type": "markdown",
   "metadata": {
    "id": "sLEfjZO0-vbN"
   },
   "source": [
    "Merge the two together using `tf.data.Dataset.sample_from_datasets`:"
   ]
  },
  {
   "cell_type": "code",
   "execution_count": null,
   "metadata": {
    "execution": {
     "iopub.execute_input": "2023-10-27T05:20:30.760792Z",
     "iopub.status.busy": "2023-10-27T05:20:30.760116Z",
     "iopub.status.idle": "2023-10-27T05:20:30.784138Z",
     "shell.execute_reply": "2023-10-27T05:20:30.783535Z"
    },
    "id": "e7w9UQPT9wzE"
   },
   "outputs": [],
   "source": [
    "resampled_ds = tf.data.Dataset.sample_from_datasets([pos_ds, neg_ds], weights=[0.5, 0.5])\n",
    "resampled_ds = resampled_ds.batch(BATCH_SIZE).prefetch(2)"
   ]
  },
  {
   "cell_type": "code",
   "execution_count": null,
   "metadata": {
    "execution": {
     "iopub.execute_input": "2023-10-27T05:20:30.787444Z",
     "iopub.status.busy": "2023-10-27T05:20:30.787195Z",
     "iopub.status.idle": "2023-10-27T05:20:31.048330Z",
     "shell.execute_reply": "2023-10-27T05:20:31.047559Z"
    },
    "id": "EWXARdTdAuQK"
   },
   "outputs": [],
   "source": [
    "for features, label in resampled_ds.take(1):\n",
    "  print(label.numpy().mean())"
   ]
  },
  {
   "cell_type": "markdown",
   "metadata": {
    "id": "irgqf3YxAyN0"
   },
   "source": [
    "To use this dataset, you'll need the number of steps per epoch.\n",
    "\n",
    "The definition of \"epoch\" in this case is less clear. Say it's the number of batches required to see each negative example once:"
   ]
  },
  {
   "cell_type": "code",
   "execution_count": null,
   "metadata": {
    "execution": {
     "iopub.execute_input": "2023-10-27T05:20:31.052480Z",
     "iopub.status.busy": "2023-10-27T05:20:31.051913Z",
     "iopub.status.idle": "2023-10-27T05:20:31.057196Z",
     "shell.execute_reply": "2023-10-27T05:20:31.056453Z"
    },
    "id": "xH-7K46AAxpq"
   },
   "outputs": [],
   "source": [
    "resampled_steps_per_epoch = np.ceil(2.0*neg/BATCH_SIZE)\n",
    "resampled_steps_per_epoch"
   ]
  },
  {
   "cell_type": "markdown",
   "metadata": {
    "id": "XZ1BvEpcBVHP"
   },
   "source": [
    "### Train on the oversampled data\n",
    "\n",
    "Now we traing the model with the resampled data set instead of using class weights to see how these methods compare.\n",
    "\n",
    "Note: Because the data was balanced by replicating the positive examples, the total dataset size is larger, and each epoch runs for more training steps. "
   ]
  },
  {
   "cell_type": "code",
   "execution_count": null,
   "metadata": {
    "execution": {
     "iopub.execute_input": "2023-10-27T05:20:31.060651Z",
     "iopub.status.busy": "2023-10-27T05:20:31.060229Z",
     "iopub.status.idle": "2023-10-27T05:21:42.902095Z",
     "shell.execute_reply": "2023-10-27T05:21:42.901414Z"
    },
    "id": "soRQ89JYqd6b"
   },
   "outputs": [],
   "source": [
    "resampled_model = make_model()\n",
    "resampled_model.load_weights(initial_weights)\n",
    "\n",
    "# Reset the bias to zero, since this dataset is balanced.\n",
    "output_layer = resampled_model.layers[-1] \n",
    "output_layer.bias.assign([0])\n",
    "\n",
    "val_ds = tf.data.Dataset.from_tensor_slices((val_features, val_labels)).cache()\n",
    "val_ds = val_ds.batch(BATCH_SIZE).prefetch(2) \n",
    "\n",
    "resampled_history = resampled_model.fit(\n",
    "    resampled_ds,\n",
    "    epochs=EPOCHS,\n",
    "    steps_per_epoch=resampled_steps_per_epoch,\n",
    "    callbacks=[early_stopping],\n",
    "    validation_data=val_ds)"
   ]
  },
  {
   "cell_type": "markdown",
   "metadata": {
    "id": "avALvzUp3T_c"
   },
   "source": [
    "If the training process were considering the whole dataset on each gradient update, this oversampling would be basically identical to the class weighting.\n",
    "\n",
    "But when training the model batch-wise, as you did here, the oversampled data provides a smoother gradient signal: Instead of each positive example being shown in one batch with a large weight, they're shown in many different batches each time with a small weight. \n",
    "\n",
    "This smoother gradient signal makes it easier to train the model."
   ]
  },
  {
   "cell_type": "markdown",
   "metadata": {
    "id": "klHZ0HV76VC5"
   },
   "source": [
    "### training history\n",
    "\n",
    "Note that the distributions of metrics will be different here, because the training data has a totally different distribution from the validation and test data. "
   ]
  },
  {
   "cell_type": "code",
   "execution_count": null,
   "metadata": {
    "execution": {
     "iopub.execute_input": "2023-10-27T05:21:42.906048Z",
     "iopub.status.busy": "2023-10-27T05:21:42.905439Z",
     "iopub.status.idle": "2023-10-27T05:21:43.552646Z",
     "shell.execute_reply": "2023-10-27T05:21:43.551889Z"
    },
    "id": "YoUGfr1vuivl"
   },
   "outputs": [],
   "source": [
    "plot_metrics(resampled_history)"
   ]
  },
  {
   "cell_type": "markdown",
   "metadata": {
    "id": "1PuH3A2vnwrh"
   },
   "source": [
    "### Re-train\n"
   ]
  },
  {
   "cell_type": "markdown",
   "metadata": {
    "id": "KFLxRL8eoDE5"
   },
   "source": [
    "Because training is easier on the balanced data, the above training procedure may overfit quickly. \n",
    "\n",
    "So break up the epochs to give the `tf.keras.callbacks.EarlyStopping` finer control over when to stop training."
   ]
  },
  {
   "cell_type": "code",
   "execution_count": null,
   "metadata": {
    "execution": {
     "iopub.execute_input": "2023-10-27T05:21:43.556713Z",
     "iopub.status.busy": "2023-10-27T05:21:43.556453Z",
     "iopub.status.idle": "2023-10-27T05:22:04.763672Z",
     "shell.execute_reply": "2023-10-27T05:22:04.762997Z"
    },
    "id": "e_yn9I26qAHU"
   },
   "outputs": [],
   "source": [
    "resampled_model = make_model()\n",
    "resampled_model.load_weights(initial_weights)\n",
    "\n",
    "# Reset the bias to zero, since this dataset is balanced.\n",
    "output_layer = resampled_model.layers[-1] \n",
    "output_layer.bias.assign([0])\n",
    "\n",
    "resampled_history = resampled_model.fit(\n",
    "    resampled_ds,\n",
    "    # These are not real epochs\n",
    "    steps_per_epoch=20,\n",
    "    epochs=10*EPOCHS,\n",
    "    callbacks=[early_stopping],\n",
    "    validation_data=(val_ds))"
   ]
  },
  {
   "cell_type": "markdown",
   "metadata": {
    "id": "UuJYKv0gpBK1"
   },
   "source": [
    "### Re-check training history"
   ]
  },
  {
   "cell_type": "code",
   "execution_count": null,
   "metadata": {
    "execution": {
     "iopub.execute_input": "2023-10-27T05:22:04.767520Z",
     "iopub.status.busy": "2023-10-27T05:22:04.766911Z",
     "iopub.status.idle": "2023-10-27T05:22:05.405532Z",
     "shell.execute_reply": "2023-10-27T05:22:05.404847Z"
    },
    "id": "FMycrpJwn39w"
   },
   "outputs": [],
   "source": [
    "plot_metrics(resampled_history)"
   ]
  },
  {
   "cell_type": "markdown",
   "metadata": {
    "id": "bUuE5HOWZiwP"
   },
   "source": [
    "### Evaluate metrics"
   ]
  },
  {
   "cell_type": "code",
   "execution_count": null,
   "metadata": {
    "execution": {
     "iopub.execute_input": "2023-10-27T05:22:05.409361Z",
     "iopub.status.busy": "2023-10-27T05:22:05.408935Z",
     "iopub.status.idle": "2023-10-27T05:22:05.873417Z",
     "shell.execute_reply": "2023-10-27T05:22:05.872660Z"
    },
    "id": "C0fmHSgXxFdW"
   },
   "outputs": [],
   "source": [
    "train_predictions_resampled = resampled_model.predict(train_features, batch_size=BATCH_SIZE)\n",
    "test_predictions_resampled = resampled_model.predict(test_features, batch_size=BATCH_SIZE)"
   ]
  },
  {
   "cell_type": "code",
   "execution_count": null,
   "metadata": {
    "execution": {
     "iopub.execute_input": "2023-10-27T05:22:05.877315Z",
     "iopub.status.busy": "2023-10-27T05:22:05.876666Z",
     "iopub.status.idle": "2023-10-27T05:22:06.685671Z",
     "shell.execute_reply": "2023-10-27T05:22:06.684744Z"
    },
    "id": "FO0mMOYUDWFk"
   },
   "outputs": [],
   "source": [
    "resampled_results = resampled_model.evaluate(test_features, test_labels,\n",
    "                                             batch_size=BATCH_SIZE, verbose=0)\n",
    "for name, value in zip(resampled_model.metrics_names, resampled_results):\n",
    "  print(name, ': ', value)\n",
    "print()\n",
    "plot_cm(test_labels, test_predictions_resampled)"
   ]
  },
  {
   "cell_type": "markdown",
   "metadata": {
    "id": "_xYozM1IIITq"
   },
   "source": [
    "### Plot the ROC"
   ]
  },
  {
   "cell_type": "code",
   "execution_count": null,
   "metadata": {
    "execution": {
     "iopub.execute_input": "2023-10-27T05:22:06.689157Z",
     "iopub.status.busy": "2023-10-27T05:22:06.688886Z",
     "iopub.status.idle": "2023-10-27T05:22:07.064946Z",
     "shell.execute_reply": "2023-10-27T05:22:07.063844Z"
    },
    "id": "fye_CiuYrZ1U"
   },
   "outputs": [],
   "source": [
    "#plot_roc(\"Train Baseline\", train_labels, train_predictions_baseline, color=colors[0])\n",
    "plot_roc(\"Test Baseline\", test_labels, test_predictions_baseline, color=colors[0], linestyle='--')\n",
    "#plot_roc(\"Train Weighted\", train_labels, train_predictions_weighted, color=colors[1])\n",
    "plot_roc(\"Test Weighted\", test_labels, test_predictions_weighted, color=colors[1], linestyle='--')\n",
    "#plot_roc(\"Train Resampled\", train_labels, train_predictions_resampled, color=colors[2])\n",
    "plot_roc(\"Test Resampled\", test_labels, test_predictions_resampled, color=colors[2], linestyle='--')\n",
    "plt.legend(loc='lower right');"
   ]
  },
  {
   "cell_type": "markdown",
   "metadata": {
    "id": "3o3f0ywl8uqW"
   },
   "source": [
    "## SMOTE\n",
    "\n",
    "El synthetic minority over-sampling technique (SMOTE) (Chawla et al., 2002), utiliza tanto over-sampling como down-sampling\n",
    "\n",
    "- Para mejorar la muestra de la clase minoritaria, SMOTE sintetiza nuevos casos. Para ello, se selecciona aleatoriamente un punto de datos de la clase minoritaria y se determinan sus K vecinos más cercanos (KNN). El nuevo punto de datos sintético es una combinación convexa aleatoria de los predictores del punto de datos seleccionado al azar y sus vecinos.\n",
    "\n",
    "- Si bien el algoritmo SMOTE agrega nuevas muestras a la clase minoritaria a través de un muestreo ascendente, también puede reducir la muestra de casos de la clase mayoritaria a través de un muestreo aleatorio para ayudar a equilibrar el conjunto de entrenamiento."
   ]
  },
  {
   "cell_type": "markdown",
   "metadata": {},
   "source": [
    "<div >\n",
    "<img src = \"figures/smote.png\" />\n",
    "</div>"
   ]
  },
  {
   "cell_type": "markdown",
   "metadata": {},
   "source": [
    "Using `tf.data` with SMOTE (Synthetic Minority Over-sampling Technique) involves a few steps because `tf.data` is designed to work with TensorFlow's pipeline, while SMOTE is a technique from the imbalanced-learn library that operates on NumPy arrays or pandas DataFrames. Here's a general approach to integrate SMOTE with a tf.data pipeline:"
   ]
  }
 ],
 "metadata": {
  "colab": {
   "collapsed_sections": [],
   "name": "imbalanced_data.ipynb",
   "toc_visible": true
  },
  "kernelspec": {
   "display_name": "Python 3 (ipykernel)",
   "language": "python",
   "name": "python3"
  },
  "language_info": {
   "codemirror_mode": {
    "name": "ipython",
    "version": 3
   },
   "file_extension": ".py",
   "mimetype": "text/x-python",
   "name": "python",
   "nbconvert_exporter": "python",
   "pygments_lexer": "ipython3",
   "version": "3.11.3"
  }
 },
 "nbformat": 4,
 "nbformat_minor": 4
}
