{
 "cells": [
  {
   "cell_type": "markdown",
   "id": "a952ad54-2218-4382-b2eb-d401d349f764",
   "metadata": {},
   "source": [
    "<div >\n",
    "    <img src = \"../banner/banner_ML_UNLP_1900_200.png\" />\n",
    "</div>"
   ]
  },
  {
   "cell_type": "markdown",
   "id": "57591f64",
   "metadata": {},
   "source": [
    "<a target=\"_blank\" href=\"https://colab.research.google.com/github/ignaciomsarmiento/ML_UNLP_Lectures/blob/main/Week05/Notebook_SS05_XOR.ipynb\">\n",
    "  <img src=\"https://colab.research.google.com/assets/colab-badge.svg\" alt=\"Open In Colab\"/>\n",
    "</a>\n",
    "\n"
   ]
  },
  {
   "cell_type": "markdown",
   "id": "d5b64c74",
   "metadata": {},
   "source": [
    "# XOR\n",
    "\n",
    "\n",
    "\n",
    "\n",
    "q  | p | q v p \n",
    "---|---|------|\n",
    "0 | 0 | 0 |\n",
    "0 | 1 | 1 |\n",
    "1 | 0 | 1 |\n",
    "1 | 1 | 0 |\n",
    "\n",
    "\n",
    "## Llamando las librerías"
   ]
  },
  {
   "cell_type": "code",
   "execution_count": null,
   "id": "688013be",
   "metadata": {},
   "outputs": [],
   "source": [
    "import numpy as np\n",
    "import pandas as pd\n",
    "from keras.models import Sequential\n",
    "from tensorflow.keras.layers import Activation, Dense\n",
    "import warnings\n",
    "warnings.filterwarnings('ignore')"
   ]
  },
  {
   "cell_type": "markdown",
   "id": "193b5451",
   "metadata": {},
   "source": [
    "## Creamos las variables"
   ]
  },
  {
   "cell_type": "code",
   "execution_count": null,
   "id": "ff465487",
   "metadata": {},
   "outputs": [],
   "source": [
    "X = np.array([\n",
    "   [0, 0],\n",
    "   [0, 1],\n",
    "   [1, 0],\n",
    "   [1, 1]\n",
    "], 'float32')\n",
    "X"
   ]
  },
  {
   "cell_type": "code",
   "execution_count": null,
   "id": "491b8602",
   "metadata": {},
   "outputs": [],
   "source": [
    "X.shape"
   ]
  },
  {
   "cell_type": "code",
   "execution_count": null,
   "id": "9759f0e1",
   "metadata": {},
   "outputs": [],
   "source": [
    "y = np.array([\n",
    "   [0],\n",
    "   [1],\n",
    "   [1],\n",
    "   [0]\n",
    "], 'float32')\n",
    "\n",
    "y"
   ]
  },
  {
   "cell_type": "markdown",
   "id": "f333b4db",
   "metadata": {},
   "source": [
    "## Entrenamos la red"
   ]
  },
  {
   "cell_type": "code",
   "execution_count": null,
   "id": "46fa535a",
   "metadata": {},
   "outputs": [],
   "source": [
    "# Use a sequential model with 2 hidden neurons, and 1 output neuron.\n",
    "model = Sequential()\n",
    "model.add(Dense(16, input_dim = 2, activation = 'relu'))\n",
    "model.add(Dense(1, activation = 'sigmoid'))\n",
    "\n",
    "model.compile(loss='mean_squared_error',\n",
    "              optimizer='adam',\n",
    "              metrics=['binary_accuracy'])\n",
    "\n",
    "# Train model.\n",
    "model.fit(X, y, batch_size = 1, epochs = 1000, verbose = 0)\n"
   ]
  },
  {
   "cell_type": "code",
   "execution_count": null,
   "id": "990a9f1c",
   "metadata": {},
   "outputs": [],
   "source": [
    "# evaluamos el modelo\n",
    "scores = model.evaluate(X, y)\n",
    "print(\"\\n%s: %.2f%%\" % (model.metrics_names[1], scores[1]*100))"
   ]
  },
  {
   "cell_type": "markdown",
   "id": "fe230074",
   "metadata": {},
   "source": [
    "## Resultados"
   ]
  },
  {
   "cell_type": "code",
   "execution_count": null,
   "id": "0fdd8846",
   "metadata": {},
   "outputs": [],
   "source": [
    "print(model.predict(X).round())"
   ]
  }
 ],
 "metadata": {
  "jupytext": {
   "formats": "ipynb,Rmd"
  },
  "kernelspec": {
   "display_name": "Python 3 (ipykernel)",
   "language": "python",
   "name": "python3"
  },
  "language_info": {
   "codemirror_mode": {
    "name": "ipython",
    "version": 3
   },
   "file_extension": ".py",
   "mimetype": "text/x-python",
   "name": "python",
   "nbconvert_exporter": "python",
   "pygments_lexer": "ipython3",
   "version": "3.9.12"
  },
  "toc": {
   "base_numbering": 1,
   "nav_menu": {},
   "number_sections": true,
   "sideBar": true,
   "skip_h1_title": false,
   "title_cell": "Table of Contents",
   "title_sidebar": "Contents",
   "toc_cell": false,
   "toc_position": {},
   "toc_section_display": true,
   "toc_window_display": false
  }
 },
 "nbformat": 4,
 "nbformat_minor": 5
}
