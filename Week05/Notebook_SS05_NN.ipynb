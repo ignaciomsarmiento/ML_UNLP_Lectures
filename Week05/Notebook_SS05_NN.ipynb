{
 "cells": [
  {
   "cell_type": "markdown",
   "id": "a952ad54-2218-4382-b2eb-d401d349f764",
   "metadata": {},
   "source": [
    "<div >\n",
    "    <img src = \"../banner/banner_ML_UNLP_1900_200.png\" />\n",
    "</div>"
   ]
  },
  {
   "cell_type": "markdown",
   "id": "d27740c2",
   "metadata": {},
   "source": [
    "<a target=\"_blank\" href=\"https://colab.research.google.com/github/ignaciomsarmiento/ML_UNLP_Lectures/blob/main/Week05/Notebook_SS05_NN.ipynb\">\n",
    "  <img src=\"https://colab.research.google.com/assets/colab-badge.svg\" alt=\"Open In Colab\"/>\n",
    "</a>\n",
    "\n"
   ]
  },
  {
   "cell_type": "markdown",
   "id": "d5b64c74",
   "metadata": {},
   "source": [
    "# Problemas de Regresión con Redes Neuronales usando Keras "
   ]
  },
  {
   "cell_type": "markdown",
   "id": "139236a5",
   "metadata": {},
   "source": [
    "# Predicting Wages\n",
    "\n",
    "Our objective today is to construct a model of individual wages\n",
    "\n",
    "$$\n",
    "w = f(X) + u \n",
    "$$\n",
    "\n",
    "where w is the  wage, and X is a matrix that includes potential explanatory variables/predictors. In this problem set, we will focus on a linear model of the form\n",
    "\n",
    "\\begin{align}\n",
    " ln(w) & = \\beta_0 + \\beta_1 X_1 + \\dots + \\beta_p X_p  + u \n",
    "\\end{align}\n",
    "\n",
    "were $ln(w)$ is the logarithm of the wage.\n",
    "\n",
    "To illustrate I'm going to use a sample of the NLSY97. The NLSY97 is  a nationally representative sample of 8,984 men and women born during the years 1980 through 1984 and living in the United States at the time of the initial survey in 1997.  Participants were ages 12 to 16 as of December 31, 1996.  Interviews were conducted annually from 1997 to 2011 and biennially since then.  \n",
    "\n",
    "Let's load the modules and the data"
   ]
  },
  {
   "cell_type": "code",
   "execution_count": null,
   "id": "edb909fb",
   "metadata": {},
   "outputs": [],
   "source": [
    "import pandas as pd\n",
    "import numpy as np\n",
    "import matplotlib.pyplot as plt\n",
    "from sklearn.model_selection import train_test_split\n",
    "import warnings\n",
    "warnings.filterwarnings('ignore')\n",
    "\n",
    "nlsy=pd.read_csv('https://raw.githubusercontent.com/ignaciomsarmiento/datasets/main/nlsy97.csv')\n",
    "nlsy.head()"
   ]
  },
  {
   "cell_type": "code",
   "execution_count": null,
   "id": "2bbbc831",
   "metadata": {},
   "outputs": [],
   "source": [
    "X = nlsy[[ \"educ\", \"exp\", \"afqt\", \"mom_educ\", \"dad_educ\"]]\n",
    "\n",
    "y=nlsy[[\"lnw_2016\"]]"
   ]
  },
  {
   "cell_type": "code",
   "execution_count": null,
   "id": "1cb2318d",
   "metadata": {},
   "outputs": [],
   "source": [
    "X_train, X_test, y_train, y_test = train_test_split(\n",
    "                                        X,\n",
    "                                        y,\n",
    "                                        test_size=0.3,\n",
    "                                        train_size=0.7,\n",
    "                                        random_state = 123\n",
    "                                    )"
   ]
  },
  {
   "cell_type": "markdown",
   "id": "31598683",
   "metadata": {},
   "source": [
    "## Keras\n",
    "\n",
    "En este tutorial  utilizaremos las librerias keras [`keras`](https://keras.io/) y [`Tensorflow `](https://www.tensorflow.org/?hl=es-419) dos paquetes fundamentales en el area de deep learning.\n",
    "\n",
    "\n",
    "Keras es una biblioteca de aprendizaje profundo de código abierto escrita en Python. Keras proporciona una interfaz de alto nivel para construir y entrenar modelos de aprendizaje profundo en una variedad de plataformas.La biblioteca Keras es conocida por ser fácil de usar, modular y extensible. Permite a los usuarios crear modelos de aprendizaje profundo con pocas líneas de código y está diseñada para ser utilizada en combinación con otras bibliotecas populares de Python, como TensorFlow.\n",
    "\n",
    "Keras ofrece una amplia gama de  bloques constructivos para construir modelos de Redes Neuronales. También incluye una amplia gama de funciones de pérdida, optimizadores y métricas de evaluación que se pueden utilizar para entrenar y evaluar modelos.\n"
   ]
  },
  {
   "cell_type": "code",
   "execution_count": null,
   "id": "688013be",
   "metadata": {},
   "outputs": [],
   "source": [
    "\n",
    "from keras.models import Sequential\n",
    "from tensorflow.keras.layers import Activation, Dense"
   ]
  },
  {
   "cell_type": "markdown",
   "id": "770fb341",
   "metadata": {},
   "source": [
    "## Armando la primer red\n",
    "\n",
    "### Configurar las capas \n",
    "\n",
    "La arquitectura de una red neuronal se construye a partir de capas. Las capas son bloques fundamentales que procesan la entrada y producen la salida. Cada capa se configura con un conjunto de parámetros que definen cómo se transforma la entrada en la salida y los flujos a través de ellas.\n",
    "\n",
    "Inicializamos el modelo sequencial"
   ]
  },
  {
   "cell_type": "code",
   "execution_count": null,
   "id": "b4f73235",
   "metadata": {},
   "outputs": [],
   "source": [
    "model = Sequential()"
   ]
  },
  {
   "cell_type": "markdown",
   "id": "6bf5fb89",
   "metadata": {},
   "source": [
    "Una red neuronal típicamente se compone de tres tipos de capas: capas de entrada, capas ocultas y capas de salida. Cada capa se compone de un conjunto de neuronas que procesan la información de entrada y producen una salida.\n",
    "\n",
    "* Capas de entrada: son la primera capa de la red y se encargan de recibir los datos de entrada y procesarlos para pasarlos a la siguiente capa. \n",
    "* Capas ocultas: son capas intermedias entre la capa de entrada y la capa de salida. En estas capas, la información de entrada se procesa y se extraen características relevantes de los datos. Estas capas son importantes porque determinan la capacidad de la red para aprender patrones complejos y representaciones abstractas.\n",
    "\n",
    "\n",
    "\n",
    "\n",
    "Existen varios tipos de capas ocultas, veremos a continuación algunas de estas para entrenar el modelo. Al configurar las capas, se debe especificar la cantidad y tipo de capas que se utilizarán, así como los parámetros específicos de cada capa. "
   ]
  },
  {
   "cell_type": "code",
   "execution_count": null,
   "id": "b8b3ffbb",
   "metadata": {},
   "outputs": [],
   "source": [
    "model.add(Dense(units=4, input_dim = 5, activation = 'relu'))"
   ]
  },
  {
   "cell_type": "markdown",
   "id": "be2f57de",
   "metadata": {},
   "source": [
    "* Capas de salida: son la última capa de la red y se encargan de producir la salida final. En una red neuronal de clasificación, como la que estamos construyendo, la capa de salida tendría un conjunto de neuronas que representan las diferentes clases posibles y producirían una salida para indicar a qué clase pertenece el dato de entrada."
   ]
  },
  {
   "cell_type": "code",
   "execution_count": null,
   "id": "83347855",
   "metadata": {},
   "outputs": [],
   "source": [
    "model.add(Dense(units=1, activation = 'linear'))"
   ]
  },
  {
   "cell_type": "markdown",
   "id": "4d9526fe",
   "metadata": {},
   "source": [
    "### Dense\n",
    "\n",
    "En una capa `layer_dense`, cada neurona está conectada a todas las neuronas de la capa anterior. Los `units`que se especifican en los parámetros, se refieren a la cantidad de neuronas que se deben incluir en una capa determinada de la red neuronal. Es decir, los units son el número de nodos de la capa. Por último, el parámetro `activation`  especifica la función de activación que se va a usar en esa capa de la red.\n",
    "\n"
   ]
  },
  {
   "cell_type": "markdown",
   "id": "b559ac2a",
   "metadata": {},
   "source": [
    "### Compilar el modelo\n",
    "\n",
    "Antes de que el modelo esté listo para el entrenamiento, necesita algunos ajustes más. Éstos se añaden durante el paso de compilación del modelo:\n",
    "\n",
    "* Función de pérdida: mide la precisión del modelo durante el entrenamiento. Queremos minimizar esta función para \"dirigir\" el modelo en la dirección correcta.\n",
    "\n",
    "* Optimizador: Así es como se actualiza el modelo basándose en los datos que ve y en su función de pérdida.\n",
    "\n",
    "* Métricas: se utiliza para evaluar el rendimiento en cada paso del proceso de entrenamiento. Esto permite monitorizar cómo se está desempeñando el modelo a lo largo del tiempo y ajustar la arquitectura de la red si es necesario.\n",
    "\n",
    "Usaremos respectivamente los siguientes parámetros: \n",
    "\n",
    "* La función `mean_squared_error` \n",
    "\n",
    "* `Adam`  un algoritmo de optimización de gradiente descendente estocástico popular utilizado en el aprendizaje automático y la optimización de redes neuronales. Para saber más de este pueden ir [acá](https://machinelearningmastery.com/adam-optimization-algorithm-for-deep-learning/).\n",
    "\n",
    "* Usamos `mean_absolute_error` como métrica de desempeño. \n",
    "\n"
   ]
  },
  {
   "cell_type": "code",
   "execution_count": null,
   "id": "c0220c9f",
   "metadata": {},
   "outputs": [],
   "source": [
    "\n",
    "model.compile(loss='mean_squared_error',\n",
    "              optimizer='adam',\n",
    "              metrics=['mean_absolute_error'])\n"
   ]
  },
  {
   "cell_type": "markdown",
   "id": "b3963b6e",
   "metadata": {},
   "source": [
    "### Entrenar el modelo \n",
    "\n",
    "El entrenamiento del modelo de red neuronal requiere los siguientes pasos:\n",
    "\n",
    "* Alimentar el modelo con los datos de entrenamiento: en este ejemplo, las matrices x_train y y_train\n",
    "* El modelo aprende a asociar salarios y caraacteristicas.\n",
    "* Pedimos al modelo que haga predicciones sobre un conjunto de prueba (en este ejemplo, la matriz x_test). \n",
    "\n",
    "Para empezar el entrenamiento, se llama al método fit - el modelo se \"ajusta\" a los datos de entrenamiento especificando dos parámetros : `verbose` y `batch`, que explicamos a continuación. \n",
    "\n"
   ]
  },
  {
   "cell_type": "code",
   "execution_count": null,
   "id": "c8a2c4fd",
   "metadata": {},
   "outputs": [],
   "source": [
    "\n",
    "# Train model.\n",
    "history =model.fit(X_train, y_train, batch_size = 4096, epochs = 100, verbose = 0)\n",
    "\n",
    "hist = pd.DataFrame(history.history)\n",
    "hist['epoch'] = history.epoch"
   ]
  },
  {
   "cell_type": "code",
   "execution_count": null,
   "id": "06131f3c",
   "metadata": {},
   "outputs": [],
   "source": [
    "def plot_loss(history):\n",
    "  plt.plot(history.history['loss'], label='loss') \n",
    "  #plt.plot(history.history['mean_absolute_error'], label='mean_absolute_error')\n",
    "  plt.xlabel('Epoch')\n",
    "  plt.ylabel('Error')\n",
    "  plt.legend()\n",
    "  plt.grid(True)\n",
    "\n",
    "plot_loss(history)\n"
   ]
  },
  {
   "cell_type": "markdown",
   "id": "6fd27fd9",
   "metadata": {},
   "source": [
    "#### Epoch \n",
    "\n",
    "Un `epoch` se refiere a una iteración completa a través de todos los datos de entrenamiento durante el proceso de entrenamiento de un modelo. Es decir, un `epoch` es cuando un conjunto de datos COMPLETO  pasa UNA VEZ hacia adelante y hacia atrás a través de la red neuronal. El número de epochs se define como un parámetro de entrenamiento y determina cuántas veces el algoritmo de aprendizaje automático debe pasar por todo el conjunto de datos de entrenamiento. \n",
    "\n",
    "####  Batch_size\n",
    "\n",
    "En Keras y en general en el aprendizaje automático, el término \"batch size\" o \"tamaño del lote\" se refiere al número de muestras de entrenamiento que se pasarán a través de la red antes de que se actualicen los parámetros del modelo (por ejemplo, los pesos). Es un hiperparámetro que define la cantidad de datos que se ven durante una iteración del proceso de entrenamiento.\n"
   ]
  },
  {
   "cell_type": "code",
   "execution_count": null,
   "id": "66d7e05b",
   "metadata": {},
   "outputs": [],
   "source": [
    "model.evaluate(\n",
    "    X_test, y_test, verbose=1)\n"
   ]
  },
  {
   "cell_type": "markdown",
   "id": "de34e19c",
   "metadata": {},
   "source": [
    "## Arquitectura de redes y capas múltiples"
   ]
  },
  {
   "cell_type": "code",
   "execution_count": null,
   "id": "7e95e5f6",
   "metadata": {},
   "outputs": [],
   "source": [
    "model = Sequential()\n",
    "model.add(Dense(units=100, input_dim = 5, activation = 'relu'))\n",
    "model.add(Dense(units=16, activation = 'relu'))\n",
    "model.add(Dense(units=1, activation = 'linear'))"
   ]
  },
  {
   "cell_type": "code",
   "execution_count": null,
   "id": "dd83cea3",
   "metadata": {},
   "outputs": [],
   "source": [
    "model.compile(loss='mean_squared_error',\n",
    "              optimizer='adam',\n",
    "              metrics=['mean_absolute_error'])\n"
   ]
  },
  {
   "cell_type": "code",
   "execution_count": null,
   "id": "08450740",
   "metadata": {},
   "outputs": [],
   "source": [
    "\n",
    "# Train model.\n",
    "history =model.fit(X_train, y_train, batch_size = 4096, epochs = 100, verbose = 0)\n",
    "\n",
    "hist = pd.DataFrame(history.history)\n",
    "hist['epoch'] = history.epoch\n",
    "plot_loss(history)"
   ]
  },
  {
   "cell_type": "code",
   "execution_count": null,
   "id": "b0f2e94f",
   "metadata": {},
   "outputs": [],
   "source": [
    "model.evaluate(\n",
    "    X_test, y_test, verbose=1)\n"
   ]
  }
 ],
 "metadata": {
  "jupytext": {
   "formats": "ipynb,Rmd"
  },
  "kernelspec": {
   "display_name": "Python 3 (ipykernel)",
   "language": "python",
   "name": "python3"
  },
  "language_info": {
   "codemirror_mode": {
    "name": "ipython",
    "version": 3
   },
   "file_extension": ".py",
   "mimetype": "text/x-python",
   "name": "python",
   "nbconvert_exporter": "python",
   "pygments_lexer": "ipython3",
   "version": "3.9.12"
  },
  "toc": {
   "base_numbering": 1,
   "nav_menu": {},
   "number_sections": true,
   "sideBar": true,
   "skip_h1_title": false,
   "title_cell": "Table of Contents",
   "title_sidebar": "Contents",
   "toc_cell": false,
   "toc_position": {},
   "toc_section_display": true,
   "toc_window_display": false
  }
 },
 "nbformat": 4,
 "nbformat_minor": 5
}
