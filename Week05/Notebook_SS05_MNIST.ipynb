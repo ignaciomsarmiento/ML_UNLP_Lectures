{
 "cells": [
  {
   "cell_type": "markdown",
   "metadata": {},
   "source": [
    "<div >\n",
    "    <img src = \"../banner/banner_ML_UNLP_1900_200.png\" />\n",
    "</div>"
   ]
  },
  {
   "cell_type": "markdown",
   "metadata": {
    "colab_type": "text",
    "id": "view-in-github"
   },
   "source": [
    "<a href=\"https://colab.research.google.com/github/ignaciomsarmiento/ML_UNLP_Lectures/blob/main/Week05/Notebook_SS05_MNIST.ipynb\" target=\"_parent\"><img src=\"https://colab.research.google.com/assets/colab-badge.svg\" alt=\"Open In Colab\"/></a>"
   ]
  },
  {
   "cell_type": "markdown",
   "metadata": {
    "id": "o9fjU-a26BV9"
   },
   "source": [
    "# Clasificando digitos con Redes Neuronales usando Keras "
   ]
  },
  {
   "cell_type": "markdown",
   "metadata": {
    "id": "GHkzY4XqSjUI"
   },
   "source": [
    "Uno de los conjuntos de datos ampliamente utilizados para la clasificación de imágenes es el conjunto de datos MNIST (LeCun et al., 1998) de dígitos escritos a mano. En el momento de su lanzamiento en la década de 1990, planteó un desafío formidable para la mayoría de los algoritmos de aprendizaje automático, que constaba de 60.000 imágenes de  resolución28x28  de píxeles (más un conjunto de datos de prueba de 10,000 imágenes).\n",
    "\n",
    " Lograr una alta precisión en el reconocimiento de dígitos fue un componente clave en la automatización de la clasificación de cartas para el servicio postal de EEUU.\n",
    "\n",
    "Durante más de una década, MNIST sirvió como punto de referencia para comparar algoritmos de aprendizaje automático."
   ]
  },
  {
   "cell_type": "markdown",
   "metadata": {
    "id": "HsZMlDhaR-rK"
   },
   "source": [
    "![MNIST_digits.png](data:image/png;base64,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)\n"
   ]
  },
  {
   "cell_type": "markdown",
   "metadata": {
    "id": "2aqPs3LCVLpY"
   },
   "source": [
    "## Cargando los datos"
   ]
  },
  {
   "cell_type": "markdown",
   "metadata": {},
   "source": [
    "## Preparando el conjunto de datos MNIST\n",
    "\n",
    "La mayoría de las bibliotecas de aprendizaje profundo proporcionan API para cargar conjuntos de datos famosos como MNIST (por ejemplo, `torchvision.datasets.MNIST` en pytorch). Las API son útiles, pero ocultan el paso importante para preparar datos de entrenamiento para un marco de aprendizaje profundo; Al pasar de un conjunto de datos de ejemplo a datos reales, debemos convertir los datos de entrenamiento de nuestro interés en la estructura de datos que sea aceptable para un marco de aprendizaje profundo.\n",
    "\n",
    "El siguiente código descarga la distribución original del conjunto de datos MNIST en la Web, convierte el conjunto de datos en matrices `numpy' y guarda las matrices como el archivo \"mnist.npz\" con nombres de palabras clave."
   ]
  },
  {
   "cell_type": "code",
   "execution_count": null,
   "metadata": {},
   "outputs": [],
   "source": [
    "import gzip\n",
    "import sys\n",
    "import struct\n",
    "import urllib.request\n",
    "import numpy as np\n",
    "import pandas as pd\n",
    "import warnings\n",
    "warnings.filterwarnings('ignore')\n",
    "\n",
    "def read_image(fi):\n",
    "    magic, n, rows, columns = struct.unpack(\">IIII\", fi.read(16))\n",
    "    assert magic == 0x00000803\n",
    "    assert rows == 28\n",
    "    assert columns == 28\n",
    "    rawbuffer = fi.read()\n",
    "    assert len(rawbuffer) == n * rows * columns\n",
    "    rawdata = np.frombuffer(rawbuffer, dtype='>u1', count=n*rows*columns)\n",
    "    return rawdata.reshape(n, rows, columns).astype(np.float32) / 255.0\n",
    "\n",
    "def read_label(fi):\n",
    "    magic, n = struct.unpack(\">II\", fi.read(8))\n",
    "    assert magic == 0x00000801\n",
    "    rawbuffer = fi.read()\n",
    "    assert len(rawbuffer) == n\n",
    "    return np.frombuffer(rawbuffer, dtype='>u1', count=n)\n",
    "\n",
    "def openurl_gzip(url):\n",
    "    request = urllib.request.Request(\n",
    "        url,\n",
    "        headers={\n",
    "            \"Accept-Encoding\": \"gzip\",\n",
    "            \"User-Agent\": \"Mozilla/5.0 (X11; U; Linux i686) Gecko/20071127 Firefox/2.0.0.11\", \n",
    "        })\n",
    "    response = urllib.request.urlopen(request)\n",
    "    return gzip.GzipFile(fileobj=response, mode='rb')\n",
    "\n",
    "if __name__ == '__main__':\n",
    "    np.savez_compressed(\n",
    "        'mnist',\n",
    "        train_x=read_image(openurl_gzip('http://yann.lecun.com/exdb/mnist/train-images-idx3-ubyte.gz')),\n",
    "        train_y=read_label(openurl_gzip('http://yann.lecun.com/exdb/mnist/train-labels-idx1-ubyte.gz')),\n",
    "        test_x=read_image(openurl_gzip('http://yann.lecun.com/exdb/mnist/t10k-images-idx3-ubyte.gz')),\n",
    "        test_y=read_label(openurl_gzip('http://yann.lecun.com/exdb/mnist/t10k-labels-idx1-ubyte.gz'))\n",
    "    )\n",
    "     "
   ]
  },
  {
   "cell_type": "markdown",
   "metadata": {},
   "source": [
    "El archivo contiene cuatro matrices numerosas (un tensor y una matriz para cada división de conjuntos de entrenamiento y prueba) con las palabras clave:\n",
    "\n",
    "+ `train_x`: $60000 \\text{ (images)} \\times 28 \\text{ (y)} \\times 28 \\text{ (x)}$\n",
    "+ `train_y`: $60000 \\text{ (labels)}$\n",
    "+ `test_x`: $10000 \\text{ (images)} \\times 28 \\text{ (y)} \\times 28 \\text{ (x)}$\n",
    "+ `test_y`: $10000 \\text{ (labels)}$\n"
   ]
  },
  {
   "cell_type": "code",
   "execution_count": null,
   "metadata": {},
   "outputs": [],
   "source": [
    "\n",
    "data = np.load('mnist.npz')\n",
    "\n",
    "print(data['train_x'].shape, data['train_x'].dtype)\n",
    "print(data['train_y'].shape, data['train_y'].dtype)\n",
    "print(data['test_x'].shape, data['test_x'].dtype)\n",
    "print(data['test_y'].shape, data['test_y'].dtype)"
   ]
  },
  {
   "cell_type": "code",
   "execution_count": null,
   "metadata": {},
   "outputs": [],
   "source": [
    "X_train=data['train_x']\n",
    "X_test=data['test_x']\n",
    "y_train=data['train_y']\n",
    "y_test=data['test_y']"
   ]
  },
  {
   "cell_type": "markdown",
   "metadata": {},
   "source": [
    "## Visualizando los datos"
   ]
  },
  {
   "cell_type": "code",
   "execution_count": null,
   "metadata": {
    "colab": {
     "base_uri": "https://localhost:8080/",
     "height": 712
    },
    "id": "D8mXx_wEVscz",
    "outputId": "266b456d-84e4-4f2b-f197-02af15052550",
    "vscode": {
     "languageId": "r"
    }
   },
   "outputs": [],
   "source": [
    "import matplotlib.pyplot as plt\n",
    "import numpy as np\n",
    "import seaborn as sns\n",
    "\n",
    "# Index number of an instance (change this to view another instance).\n",
    "i = 1\n",
    "\n",
    "data = np.load('mnist.npz')\n",
    "image = data['train_x'][i]\n",
    "label = data['train_y'][i]\n",
    "\n",
    "print(label)\n",
    "f, ax = plt.subplots(figsize=(16, 16))\n",
    "sns.heatmap(image, annot=True, fmt='.1f', square=True, cmap=\"YlGnBu\")\n",
    "plt.show()"
   ]
  },
  {
   "cell_type": "markdown",
   "metadata": {
    "id": "Ipwhs4MCaLXy"
   },
   "source": [
    "## Armando la primer red\n",
    "\n",
    "### Configurar las capas \n",
    "\n",
    "La arquitectura de una red neuronal se construye a partir de capas. Las capas son bloques fundamentales que procesan la entrada y producen la salida. Cada capa se configura con un conjunto de parámetros que definen cómo se transforma la entrada en la salida y los flujos a través de ellas.\n",
    "\n",
    "Una red neuronal típicamente se compone de tres tipos de capas: capas de entrada, capas ocultas y capas de salida. Cada capa se compone de un conjunto de neuronas que procesan la información de entrada y producen una salida.\n",
    "\n",
    "* Capas de entrada: son la primera capa de la red y se encargan de recibir los datos de entrada y procesarlos para pasarlos a la siguiente capa. \n",
    "* Capas ocultas: son capas intermedias entre la capa de entrada y la capa de salida. En estas capas, la información de entrada se procesa y se extraen características relevantes de los datos. Estas capas son importantes porque determinan la capacidad de la red para aprender patrones complejos y representaciones abstractas.\n",
    "* Capas de salida: son la última capa de la red y se encargan de producir la salida final. En una red neuronal de clasificación, como la que estamos construyendo, la capa de salida tendría un conjunto de neuronas que representan las diferentes clases posibles y producirían una salida para indicar a qué clase pertenece el dato de entrada.\n",
    "\n",
    "\n",
    "\n",
    "Existen varios tipos de capas ocultas, veremos a continuación algunas de estas para entrenar el modelo. Al configurar las capas, se debe especificar la cantidad y tipo de capas que se utilizarán, así como los parámetros específicos de cada capa. "
   ]
  },
  {
   "cell_type": "code",
   "execution_count": null,
   "metadata": {},
   "outputs": [],
   "source": [
    "import tensorflow as tf\n",
    "import tensorflow_datasets as tfds"
   ]
  },
  {
   "cell_type": "code",
   "execution_count": null,
   "metadata": {
    "id": "0K24rqb5aQGs",
    "vscode": {
     "languageId": "r"
    }
   },
   "outputs": [],
   "source": [
    "model = tf.keras.models.Sequential([\n",
    "  tf.keras.layers.Flatten(input_shape=(28, 28)),\n",
    "  tf.keras.layers.Dense(10, activation='relu'),\n",
    "  tf.keras.layers.Dense(10, activation='softmax')\n",
    "])\n"
   ]
  },
  {
   "cell_type": "markdown",
   "metadata": {},
   "source": [
    "### Dense\n",
    "\n",
    "En una capa `Dense`, cada neurona está conectada a todas las neuronas de la capa anterior. Los `units`que se especifican en los parámetros, se refieren a la cantidad de neuronas que se deben incluir en una capa determinada de la red neuronal. Es decir, los units son el número de nodos de la capa. Por último, el parámetro `activation`  especifica la función de activación que se va a usar en esa capa de la red.\n",
    "\n"
   ]
  },
  {
   "cell_type": "markdown",
   "metadata": {},
   "source": [
    "### Aside: The softmax function\n",
    "\n",
    "Multinomial logistic regrssion\n",
    "\n",
    "\\begin{align}\n",
    "Pr(y=j | X) = \\frac{e^{h_i}}{\\sum_{j=1}^K e^{h_j}}\n",
    "\\end{align}\n",
    "\n",
    "\n"
   ]
  },
  {
   "cell_type": "code",
   "execution_count": null,
   "metadata": {
    "vscode": {
     "languageId": "r"
    }
   },
   "outputs": [],
   "source": [
    "import numpy as np\n",
    "\n",
    "h = np.array([1.3, 7.3, 2.2, 0.7, 1.1, 2.5, 3.1, 4.5, 1.3, 1.8])\n",
    "\n",
    "softmax_result = np.exp(h) / np.sum(np.exp(h))\n",
    "\n",
    "softmax_result"
   ]
  },
  {
   "cell_type": "code",
   "execution_count": null,
   "metadata": {
    "colab": {
     "base_uri": "https://localhost:8080/"
    },
    "id": "-yFcCm0taSDo",
    "outputId": "b1d8aea5-4841-484a-8abd-d0b8dbc1aac5",
    "vscode": {
     "languageId": "r"
    }
   },
   "outputs": [],
   "source": [
    "model"
   ]
  },
  {
   "cell_type": "code",
   "execution_count": null,
   "metadata": {},
   "outputs": [],
   "source": [
    "np.log(0.9)"
   ]
  },
  {
   "cell_type": "markdown",
   "metadata": {
    "id": "KvtoQF1eRMYg"
   },
   "source": [
    "## Entrenando la primera red"
   ]
  },
  {
   "cell_type": "code",
   "execution_count": null,
   "metadata": {
    "id": "gM5R_fdJaX-O",
    "vscode": {
     "languageId": "r"
    }
   },
   "outputs": [],
   "source": [
    "model.compile(\n",
    "    optimizer=tf.keras.optimizers.Adam(0.001),\n",
    "    loss=tf.keras.losses.SparseCategoricalCrossentropy(from_logits=False),\n",
    "    metrics=[tf.keras.metrics.SparseCategoricalAccuracy()],\n",
    ")\n",
    "\n"
   ]
  },
  {
   "cell_type": "markdown",
   "metadata": {},
   "source": [
    "### Compilar el modelo\n",
    "\n",
    "Antes de que el modelo esté listo para el entrenamiento, necesita algunos ajustes más. Éstos se añaden durante el paso de compilación del modelo:\n",
    "\n",
    "* Función de pérdida: mide la precisión del modelo durante el entrenamiento. Queremos minimizar esta función para \"dirigir\" el modelo en la dirección correcta.\n",
    "\n",
    "* Optimizador: Así es como se actualiza el modelo basándose en los datos que ve y en su función de pérdida.\n",
    "\n",
    "* Métricas: se utiliza para evaluar el rendimiento en cada paso del proceso de entrenamiento. Esto permite monitorizar cómo se está desempeñando el modelo a lo largo del tiempo y ajustar la arquitectura de la red si es necesario.\n",
    "\n",
    "Usaremos respectivamente los siguientes parámetros: \n",
    "\n",
    "* La función `SparseCategoricalCrossentropy` que compara la distribución de probabilidad predicha por el modelo con la distribución de probabilidad real de las etiquetas de clase. Calcula la diferencia entre estas dos distribuciones y devuelve un valor de pérdida. \n",
    "\n",
    "* `Adam`  un algoritmo de optimización de gradiente descendente estocástico popular utilizado en el aprendizaje automático y la optimización de redes neuronales. Para saber más de este pueden ir [acá](https://machinelearningmastery.com/adam-optimization-algorithm-for-deep-learning/).\n",
    "\n",
    "* Usamos `SparseCategoricalAccuracy` como métrica de desempeño. \n",
    "\n"
   ]
  },
  {
   "cell_type": "markdown",
   "metadata": {},
   "source": [
    "### Entrenar el modelo \n",
    "\n"
   ]
  },
  {
   "cell_type": "code",
   "execution_count": null,
   "metadata": {
    "id": "nk2WeMvvabnE",
    "vscode": {
     "languageId": "r"
    }
   },
   "outputs": [],
   "source": [
    "\n",
    "# Train model.\n",
    "history =model.fit(X_train, y_train, epochs = 8, batch_size = 128, validation_split = 0.2,verbose = 0)\n",
    "\n",
    "hist = pd.DataFrame(history.history)\n",
    "hist['epoch'] = history.epoch"
   ]
  },
  {
   "cell_type": "code",
   "execution_count": null,
   "metadata": {
    "colab": {
     "base_uri": "https://localhost:8080/",
     "height": 437
    },
    "id": "UPgW5FAaae9E",
    "outputId": "972302d6-61a3-4553-d527-8961c86c48aa",
    "vscode": {
     "languageId": "r"
    }
   },
   "outputs": [],
   "source": [
    "def plot_loss(history):\n",
    "  plt.plot(history.history['loss'], label='loss') \n",
    "  plt.xlabel('Epoch')\n",
    "  plt.ylabel('Error')\n",
    "  plt.legend()\n",
    "  plt.grid(True)\n",
    "\n",
    "plot_loss(history)\n",
    "\n",
    "\n"
   ]
  },
  {
   "cell_type": "code",
   "execution_count": null,
   "metadata": {
    "colab": {
     "base_uri": "https://localhost:8080/",
     "height": 34
    },
    "id": "deaJRiARag8F",
    "outputId": "d8328172-a8ee-4e00-d809-302a523e24aa",
    "vscode": {
     "languageId": "r"
    }
   },
   "outputs": [],
   "source": [
    "model.evaluate(\n",
    "    X_test, y_test, verbose=1)\n"
   ]
  },
  {
   "cell_type": "markdown",
   "metadata": {},
   "source": [
    "## Arquitectura de redes y capas múltiples"
   ]
  },
  {
   "cell_type": "code",
   "execution_count": null,
   "metadata": {
    "vscode": {
     "languageId": "r"
    }
   },
   "outputs": [],
   "source": [
    "model2 = tf.keras.models.Sequential([\n",
    "  tf.keras.layers.Flatten(input_shape=(28, 28)),\n",
    "  tf.keras.layers.Dense(256, activation='relu'),\n",
    "  tf.keras.layers.Dense(128, activation='relu'),\n",
    "  tf.keras.layers.Dense(10, activation='softmax')\n",
    "])\n",
    "\n",
    "model2.summary()\n"
   ]
  },
  {
   "cell_type": "code",
   "execution_count": null,
   "metadata": {
    "vscode": {
     "languageId": "r"
    }
   },
   "outputs": [],
   "source": [
    "model2.compile(\n",
    "    optimizer=tf.keras.optimizers.Adam(0.001),\n",
    "    loss=tf.keras.losses.SparseCategoricalCrossentropy(from_logits=False),\n",
    "    metrics=[tf.keras.metrics.SparseCategoricalAccuracy()],\n",
    ")\n"
   ]
  },
  {
   "cell_type": "code",
   "execution_count": null,
   "metadata": {
    "vscode": {
     "languageId": "r"
    }
   },
   "outputs": [],
   "source": [
    "\n",
    "# Train model.\n",
    "history =model2.fit(X_train, y_train, epochs = 8, batch_size = 128, validation_split = 0.2,verbose = 0)\n",
    "\n",
    "hist = pd.DataFrame(history.history)\n",
    "hist['epoch'] = history.epoch\n",
    "\n",
    "plot_loss(history)"
   ]
  },
  {
   "cell_type": "code",
   "execution_count": null,
   "metadata": {
    "vscode": {
     "languageId": "r"
    }
   },
   "outputs": [],
   "source": [
    "model2.evaluate(\n",
    "    X_test, y_test, verbose=1)\n"
   ]
  },
  {
   "cell_type": "markdown",
   "metadata": {},
   "source": [
    "## Dropout Learning\n",
    "Esta es una forma de regularización relativamente nueva y eficiente. Inspirado en los random forest, la idea es eliminar aleatoriamente una fracción $\\phi$ de las unidades en una capa al ajustar el modelo. \n",
    "\n",
    "Las unidades sobrevivientes sustituyen a las que faltan y sus pesos aumentan en un factor de 1/(1 − φ) para compensar. Esto evita que los nodos se especialicen demasiado, llevando a sobreajuste.\n",
    "\n",
    "Puede ser visto como una forma de regularización. \n",
    "\n",
    "En la práctica, el \"dropout\" se logra configurando aleatoriamente los nodos  \"abandonados\" a cero, mientras se mantiene intacta la arquitectura."
   ]
  },
  {
   "cell_type": "code",
   "execution_count": null,
   "metadata": {
    "vscode": {
     "languageId": "r"
    }
   },
   "outputs": [],
   "source": [
    "# Define the sequential model\n",
    "model3 = tf.keras.models.Sequential([\n",
    "  tf.keras.layers.Flatten(input_shape=(28, 28)),\n",
    "  tf.keras.layers.Dense(256, activation='relu'),\n",
    "  tf.keras.layers.Dropout(rate=0.4),\n",
    "  tf.keras.layers.Dense(128, activation='relu'),\n",
    "    tf.keras.layers.Dropout(rate=0.3),\n",
    "  tf.keras.layers.Dense(10, activation='softmax')\n",
    "])\n",
    "\n",
    "model3.summary()\n"
   ]
  },
  {
   "cell_type": "code",
   "execution_count": null,
   "metadata": {
    "vscode": {
     "languageId": "r"
    }
   },
   "outputs": [],
   "source": [
    "model3.compile(\n",
    "    optimizer=tf.keras.optimizers.Adam(0.001),\n",
    "    loss=tf.keras.losses.SparseCategoricalCrossentropy(from_logits=False),\n",
    "    metrics=[tf.keras.metrics.SparseCategoricalAccuracy()]\n",
    ")\n",
    "\n"
   ]
  },
  {
   "cell_type": "code",
   "execution_count": null,
   "metadata": {
    "vscode": {
     "languageId": "r"
    }
   },
   "outputs": [],
   "source": [
    "\n",
    "# Train model.\n",
    "history =model3.fit(X_train, y_train, epochs = 8, batch_size = 128, validation_split = 0.2,verbose = 0)\n",
    "\n",
    "hist = pd.DataFrame(history.history)\n",
    "hist['epoch'] = history.epoch\n",
    "\n",
    "plot_loss(history)"
   ]
  },
  {
   "cell_type": "code",
   "execution_count": null,
   "metadata": {
    "vscode": {
     "languageId": "r"
    }
   },
   "outputs": [],
   "source": [
    "model3.evaluate(\n",
    "    X_test, y_test, verbose=1)\n"
   ]
  }
 ],
 "metadata": {
  "accelerator": "TPU",
  "colab": {
   "authorship_tag": "ABX9TyN44b+botaWmeiTQ/7e9hxl",
   "include_colab_link": true,
   "provenance": []
  },
  "gpuClass": "standard",
  "kernelspec": {
   "display_name": "Python 3 (ipykernel)",
   "language": "python",
   "name": "python3"
  },
  "language_info": {
   "codemirror_mode": {
    "name": "ipython",
    "version": 3
   },
   "file_extension": ".py",
   "mimetype": "text/x-python",
   "name": "python",
   "nbconvert_exporter": "python",
   "pygments_lexer": "ipython3",
   "version": "3.9.12"
  },
  "toc": {
   "base_numbering": 1,
   "nav_menu": {},
   "number_sections": true,
   "sideBar": true,
   "skip_h1_title": false,
   "title_cell": "Table of Contents",
   "title_sidebar": "Contents",
   "toc_cell": false,
   "toc_position": {},
   "toc_section_display": true,
   "toc_window_display": false
  }
 },
 "nbformat": 4,
 "nbformat_minor": 1
}
